{
 "cells": [
  {
   "cell_type": "markdown",
   "metadata": {},
   "source": [
    "# Anonymization examples\n",
    "### References:\n",
    "#### [1] Josep Domingo-Ferrer and Vicenç Torra, \"Ordinal, continuous and heterogeneous k-anonymity through microaggregation\", Data Mining and Knowledge Discovery, Vol. 11, pp. 195-212, Sep 2005. DOI: https://doi.org/10.1007/s10618-005-0007-5\n",
    "#### [2] Jordi Soria-Comas, Josep Domingo-Ferrer, David Sánchez and Sergio Martínez, \"t-Closeness through microaggregation: strict privacy with enhanced utility preservation\", IEEE Transactions on Knowledge and Data Engineering, Vol. 27, no. 11, pp. 3098-3110, Oct 2015. DOI: https://doi.org/10.1109/TKDE.2015.2435777\n",
    "#### [3] Jordi Soria-Comas, Josep Domingo-Ferrer, David Sánchez and Sergio Martínez, \"Enhancing data utility in differential privacy via microaggregation-based k-anonymity\", The VLDB Journal, Vol. 23, no. 5, pp. 771-794, Sep 2014. DOI: https://doi.org/10.1007/s00778-014-0351-4\n",
    "#### [4] Josep Domingo-Ferrer and Vicenç Torra, \"Disclosure risk assessment in statistical data protection\", Journal of Computational and Applied Mathematics, Vol. 164, pp. 285-293, Mar 2004. DOI: https://doi.org/10.1016/S0377-0427(03)00643-5"
   ]
  },
  {
   "cell_type": "markdown",
   "metadata": {},
   "source": [
    "## 1. k-Anomymity via MDAV"
   ]
  },
  {
   "cell_type": "markdown",
   "metadata": {},
   "source": [
    "### Toy data set that includes all available attribute types"
   ]
  },
  {
   "cell_type": "code",
   "execution_count": 9,
   "metadata": {
    "scrolled": true
   },
   "outputs": [],
   "source": [
    "from anonymization.src.entities.dataset_CSV import Dataset_CSV\n",
    "from anonymization.src.entities.dataset_DataFrame import Dataset_DataFrame\n",
    "from anonymization.src.algorithms.anonymization_scheme import Anonymization_scheme\n",
    "from anonymization.src.algorithms.k_anonymity import K_anonymity\n",
    "from anonymization.src.algorithms.mdav import Mdav\n",
    "from anonymization.src.utils import utils"
   ]
  },
  {
   "cell_type": "markdown",
   "metadata": {},
   "source": [
    "#### Following, it is indicated the path to the csv file containing the data set and the path to the xml file describing the attributes in the data set. Inside the xml file, there is a detailed descritpion about how to fill this xml file in order to properly configure the different attribute types in the data set  "
   ]
  },
  {
   "cell_type": "code",
   "execution_count": 10,
   "metadata": {
    "scrolled": true
   },
   "outputs": [],
   "source": [
    "path_csv = \"./anonymization/input_datasets/toy_all_types.csv\"\n",
    "path_settings = \"./anonymization/input_datasets/metadata_toy_all_types.xml\"\n",
    "data_frame = utils.read_dataframe_from_csv(path_csv)"
   ]
  },
  {
   "cell_type": "markdown",
   "metadata": {},
   "source": [
    "#### 1.1 The data set is loaded from a DataFrame passed as parameter"
   ]
  },
  {
   "cell_type": "code",
   "execution_count": 11,
   "metadata": {
    "scrolled": false
   },
   "outputs": [
    {
     "name": "stdout",
     "output_type": "stream",
     "text": [
      "Loading dataset\n",
      "Dataset loaded: ./anonymization/input_datasets/toy_all_types.csv\n",
      "Records loaded: 10\n",
      "Dataset: ./anonymization/input_datasets/toy_all_types.csv\n",
      "Dataset head:\n"
     ]
    },
    {
     "data": {
      "text/html": [
       "<div>\n",
       "<style scoped>\n",
       "    .dataframe tbody tr th:only-of-type {\n",
       "        vertical-align: middle;\n",
       "    }\n",
       "\n",
       "    .dataframe tbody tr th {\n",
       "        vertical-align: top;\n",
       "    }\n",
       "\n",
       "    .dataframe thead th {\n",
       "        text-align: right;\n",
       "    }\n",
       "</style>\n",
       "<table border=\"1\" class=\"dataframe\">\n",
       "  <thead>\n",
       "    <tr style=\"text-align: right;\">\n",
       "      <th></th>\n",
       "      <th>hours-per-week</th>\n",
       "      <th>age</th>\n",
       "      <th>income</th>\n",
       "      <th>date</th>\n",
       "      <th>occupation</th>\n",
       "      <th>native-country</th>\n",
       "      <th>location</th>\n",
       "      <th>datetime</th>\n",
       "    </tr>\n",
       "  </thead>\n",
       "  <tbody>\n",
       "    <tr>\n",
       "      <th>0</th>\n",
       "      <td>40</td>\n",
       "      <td>39.5</td>\n",
       "      <td>23546</td>\n",
       "      <td>1/11/2016</td>\n",
       "      <td>clerk</td>\n",
       "      <td>United_States</td>\n",
       "      <td>43.8430139:10.507994</td>\n",
       "      <td>2011-02-03 08:34:04</td>\n",
       "    </tr>\n",
       "    <tr>\n",
       "      <th>1</th>\n",
       "      <td>13</td>\n",
       "      <td>50.3</td>\n",
       "      <td>10230</td>\n",
       "      <td>6/12/2015</td>\n",
       "      <td>executive</td>\n",
       "      <td>United_States</td>\n",
       "      <td>43.54427:10.32615</td>\n",
       "      <td>2011-02-03 09:34:04</td>\n",
       "    </tr>\n",
       "    <tr>\n",
       "      <th>2</th>\n",
       "      <td>40</td>\n",
       "      <td>38.0</td>\n",
       "      <td>0</td>\n",
       "      <td>19/7/2015</td>\n",
       "      <td>cleaner</td>\n",
       "      <td>United_States</td>\n",
       "      <td>43.70853:10.4036</td>\n",
       "      <td>2011-02-03 10:34:04</td>\n",
       "    </tr>\n",
       "    <tr>\n",
       "      <th>3</th>\n",
       "      <td>40</td>\n",
       "      <td>53.1</td>\n",
       "      <td>152000</td>\n",
       "      <td>25/7/2015</td>\n",
       "      <td>cleaner</td>\n",
       "      <td>United_States</td>\n",
       "      <td>43.77925:11.24626</td>\n",
       "      <td>2011-02-04 10:34:04</td>\n",
       "    </tr>\n",
       "    <tr>\n",
       "      <th>4</th>\n",
       "      <td>40</td>\n",
       "      <td>28.8</td>\n",
       "      <td>54120</td>\n",
       "      <td>10/8/2016</td>\n",
       "      <td>specialist</td>\n",
       "      <td>Cuba</td>\n",
       "      <td>43.8430139:10.507994</td>\n",
       "      <td>2011-02-04 08:34:04</td>\n",
       "    </tr>\n",
       "  </tbody>\n",
       "</table>\n",
       "</div>"
      ],
      "text/plain": [
       "   hours-per-week   age  income       date  occupation native-country  \\\n",
       "0              40  39.5   23546  1/11/2016       clerk  United_States   \n",
       "1              13  50.3   10230  6/12/2015   executive  United_States   \n",
       "2              40  38.0       0  19/7/2015     cleaner  United_States   \n",
       "3              40  53.1  152000  25/7/2015     cleaner  United_States   \n",
       "4              40  28.8   54120  10/8/2016  specialist           Cuba   \n",
       "\n",
       "               location             datetime  \n",
       "0  43.8430139:10.507994  2011-02-03 08:34:04  \n",
       "1     43.54427:10.32615  2011-02-03 09:34:04  \n",
       "2      43.70853:10.4036  2011-02-03 10:34:04  \n",
       "3     43.77925:11.24626  2011-02-04 10:34:04  \n",
       "4  43.8430139:10.507994  2011-02-04 08:34:04  "
      ]
     },
     "metadata": {},
     "output_type": "display_data"
    },
    {
     "name": "stdout",
     "output_type": "stream",
     "text": [
      "\n",
      "Dataset description:\n",
      "Data set: ./anonymization/input_datasets/toy_all_types.csv\n",
      "Records: 10\n",
      "Attributes:\n"
     ]
    },
    {
     "data": {
      "text/html": [
       "<div>\n",
       "<style scoped>\n",
       "    .dataframe tbody tr th:only-of-type {\n",
       "        vertical-align: middle;\n",
       "    }\n",
       "\n",
       "    .dataframe tbody tr th {\n",
       "        vertical-align: top;\n",
       "    }\n",
       "\n",
       "    .dataframe thead th {\n",
       "        text-align: right;\n",
       "    }\n",
       "</style>\n",
       "<table border=\"1\" class=\"dataframe\">\n",
       "  <thead>\n",
       "    <tr style=\"text-align: right;\">\n",
       "      <th></th>\n",
       "      <th>Name</th>\n",
       "      <th>Attribute_type</th>\n",
       "      <th>Sensitivity_type</th>\n",
       "    </tr>\n",
       "  </thead>\n",
       "  <tbody>\n",
       "    <tr>\n",
       "      <th>0</th>\n",
       "      <td>hours-per-week</td>\n",
       "      <td>numerical_discrete</td>\n",
       "      <td>quasi_identifier</td>\n",
       "    </tr>\n",
       "    <tr>\n",
       "      <th>1</th>\n",
       "      <td>age</td>\n",
       "      <td>numerical_continuous</td>\n",
       "      <td>quasi_identifier</td>\n",
       "    </tr>\n",
       "    <tr>\n",
       "      <th>2</th>\n",
       "      <td>income</td>\n",
       "      <td>numerical_discrete</td>\n",
       "      <td>confidential</td>\n",
       "    </tr>\n",
       "    <tr>\n",
       "      <th>3</th>\n",
       "      <td>date</td>\n",
       "      <td>date</td>\n",
       "      <td>quasi_identifier</td>\n",
       "    </tr>\n",
       "    <tr>\n",
       "      <th>4</th>\n",
       "      <td>occupation</td>\n",
       "      <td>plain_categorical</td>\n",
       "      <td>quasi_identifier</td>\n",
       "    </tr>\n",
       "    <tr>\n",
       "      <th>5</th>\n",
       "      <td>native-country</td>\n",
       "      <td>semantic_categorical_wordnet</td>\n",
       "      <td>quasi_identifier</td>\n",
       "    </tr>\n",
       "    <tr>\n",
       "      <th>6</th>\n",
       "      <td>location</td>\n",
       "      <td>coordinate</td>\n",
       "      <td>quasi_identifier</td>\n",
       "    </tr>\n",
       "    <tr>\n",
       "      <th>7</th>\n",
       "      <td>datetime</td>\n",
       "      <td>datetime</td>\n",
       "      <td>quasi_identifier</td>\n",
       "    </tr>\n",
       "  </tbody>\n",
       "</table>\n",
       "</div>"
      ],
      "text/plain": [
       "             Name                Attribute_type  Sensitivity_type\n",
       "0  hours-per-week            numerical_discrete  quasi_identifier\n",
       "1             age          numerical_continuous  quasi_identifier\n",
       "2          income            numerical_discrete      confidential\n",
       "3            date                          date  quasi_identifier\n",
       "4      occupation             plain_categorical  quasi_identifier\n",
       "5  native-country  semantic_categorical_wordnet  quasi_identifier\n",
       "6        location                    coordinate  quasi_identifier\n",
       "7        datetime                      datetime  quasi_identifier"
      ]
     },
     "metadata": {},
     "output_type": "display_data"
    },
    {
     "name": "stdout",
     "output_type": "stream",
     "text": [
      "\n"
     ]
    }
   ],
   "source": [
    "dataset = Dataset_DataFrame(data_frame, path_settings)\n",
    "dataset.description()"
   ]
  },
  {
   "cell_type": "markdown",
   "metadata": {},
   "source": [
    "#### 1.2 The data set is anonymized, in this case, applying k_anonymity via MDAV with a privacy level of k=3"
   ]
  },
  {
   "cell_type": "code",
   "execution_count": 12,
   "metadata": {
    "scrolled": false
   },
   "outputs": [
    {
     "name": "stdout",
     "output_type": "stream",
     "text": [
      "Anonymizing k-Anonymity, k = 3 via MDAV\n"
     ]
    },
    {
     "data": {
      "application/vnd.jupyter.widget-view+json": {
       "model_id": "5e7300b39690447385b19efa35874dbf",
       "version_major": 2,
       "version_minor": 0
      },
      "text/plain": [
       "HBox(children=(FloatProgress(value=0.0, max=10.0), HTML(value='')))"
      ]
     },
     "metadata": {},
     "output_type": "display_data"
    },
    {
     "name": "stdout",
     "output_type": "stream",
     "text": [
      "\n",
      "Anonymization runtime: 0:00:00\n"
     ]
    }
   ],
   "source": [
    "k = 3\n",
    "anonymization_scheme = K_anonymity(dataset, k)\n",
    "algorithm = Mdav()\n",
    "anonymization_scheme.calculate_anonymization(algorithm)"
   ]
  },
  {
   "cell_type": "markdown",
   "metadata": {},
   "source": [
    "#### 1.3 Information loss metrics are calculated by comparing original and anonymized data set  \n",
    "Metrics calculated: Sum of Square Error (SSE) and, for each attribute, mean and variance\n"
   ]
  },
  {
   "cell_type": "code",
   "execution_count": 13,
   "metadata": {
    "scrolled": false
   },
   "outputs": [
    {
     "name": "stdout",
     "output_type": "stream",
     "text": [
      "Calculating information loss metrics\n",
      "\n",
      "Information loss metrics:\n",
      "SSE: 0.874\n"
     ]
    },
    {
     "data": {
      "text/html": [
       "<div>\n",
       "<style scoped>\n",
       "    .dataframe tbody tr th:only-of-type {\n",
       "        vertical-align: middle;\n",
       "    }\n",
       "\n",
       "    .dataframe tbody tr th {\n",
       "        vertical-align: top;\n",
       "    }\n",
       "\n",
       "    .dataframe thead th {\n",
       "        text-align: right;\n",
       "    }\n",
       "</style>\n",
       "<table border=\"1\" class=\"dataframe\">\n",
       "  <thead>\n",
       "    <tr style=\"text-align: right;\">\n",
       "      <th></th>\n",
       "      <th>Name</th>\n",
       "      <th>Original mean</th>\n",
       "      <th>Anonymized mean</th>\n",
       "      <th>Original variance</th>\n",
       "      <th>Anonymized variance</th>\n",
       "    </tr>\n",
       "  </thead>\n",
       "  <tbody>\n",
       "    <tr>\n",
       "      <th>0</th>\n",
       "      <td>hours-per-week</td>\n",
       "      <td>36.4</td>\n",
       "      <td>36.3</td>\n",
       "      <td>1.302000e+02</td>\n",
       "      <td>5.790000e+01</td>\n",
       "    </tr>\n",
       "    <tr>\n",
       "      <th>1</th>\n",
       "      <td>age</td>\n",
       "      <td>42.33</td>\n",
       "      <td>42.35</td>\n",
       "      <td>6.654810e+01</td>\n",
       "      <td>3.991650e+01</td>\n",
       "    </tr>\n",
       "    <tr>\n",
       "      <th>2</th>\n",
       "      <td>income</td>\n",
       "      <td>35771.4</td>\n",
       "      <td>35771.4</td>\n",
       "      <td>1.687522e+09</td>\n",
       "      <td>1.687522e+09</td>\n",
       "    </tr>\n",
       "    <tr>\n",
       "      <th>3</th>\n",
       "      <td>date</td>\n",
       "      <td>18/2/2016</td>\n",
       "      <td>18/2/2016</td>\n",
       "      <td>3.245814e+14</td>\n",
       "      <td>8.173050e+13</td>\n",
       "    </tr>\n",
       "    <tr>\n",
       "      <th>4</th>\n",
       "      <td>occupation</td>\n",
       "      <td>executive</td>\n",
       "      <td>executive</td>\n",
       "      <td>6.000000e-01</td>\n",
       "      <td>6.000000e-01</td>\n",
       "    </tr>\n",
       "    <tr>\n",
       "      <th>5</th>\n",
       "      <td>native-country</td>\n",
       "      <td>location</td>\n",
       "      <td>psychological_feature</td>\n",
       "      <td>3.369641e-01</td>\n",
       "      <td>3.600000e-01</td>\n",
       "    </tr>\n",
       "    <tr>\n",
       "      <th>6</th>\n",
       "      <td>location</td>\n",
       "      <td>43.70666917:10.495949199999998</td>\n",
       "      <td>43.70666917:10.495949200000002</td>\n",
       "      <td>8.156504e-02</td>\n",
       "      <td>1.203712e-02</td>\n",
       "    </tr>\n",
       "    <tr>\n",
       "      <th>7</th>\n",
       "      <td>datetime</td>\n",
       "      <td>2011-02-04 09:46:04</td>\n",
       "      <td>2011-02-04 09:46:04</td>\n",
       "      <td>4.491418e+09</td>\n",
       "      <td>3.813696e+08</td>\n",
       "    </tr>\n",
       "  </tbody>\n",
       "</table>\n",
       "</div>"
      ],
      "text/plain": [
       "             Name                   Original mean  \\\n",
       "0  hours-per-week                            36.4   \n",
       "1             age                           42.33   \n",
       "2          income                         35771.4   \n",
       "3            date                       18/2/2016   \n",
       "4      occupation                       executive   \n",
       "5  native-country                        location   \n",
       "6        location  43.70666917:10.495949199999998   \n",
       "7        datetime             2011-02-04 09:46:04   \n",
       "\n",
       "                  Anonymized mean  Original variance  Anonymized variance  \n",
       "0                            36.3       1.302000e+02         5.790000e+01  \n",
       "1                           42.35       6.654810e+01         3.991650e+01  \n",
       "2                         35771.4       1.687522e+09         1.687522e+09  \n",
       "3                       18/2/2016       3.245814e+14         8.173050e+13  \n",
       "4                       executive       6.000000e-01         6.000000e-01  \n",
       "5           psychological_feature       3.369641e-01         3.600000e-01  \n",
       "6  43.70666917:10.495949200000002       8.156504e-02         1.203712e-02  \n",
       "7             2011-02-04 09:46:04       4.491418e+09         3.813696e+08  "
      ]
     },
     "metadata": {},
     "output_type": "display_data"
    }
   ],
   "source": [
    "information_loss = Anonymization_scheme.calculate_information_loss(dataset, anonymization_scheme.anonymized_dataset)\n",
    "information_loss.description()"
   ]
  },
  {
   "cell_type": "markdown",
   "metadata": {},
   "source": [
    "#### 1.4 Disclosure risk is calculated via record linkage between anonymized and original data set  \n",
    "The disclosure risk estimates the percentage of anonymized records that correct match with the original ones"
   ]
  },
  {
   "cell_type": "code",
   "execution_count": 14,
   "metadata": {},
   "outputs": [
    {
     "name": "stdout",
     "output_type": "stream",
     "text": [
      "Calculating record linkage (disclosure risk)\n"
     ]
    },
    {
     "data": {
      "application/vnd.jupyter.widget-view+json": {
       "model_id": "48ae76ac344a4c139ca3e2d6a4fff440",
       "version_major": 2,
       "version_minor": 0
      },
      "text/plain": [
       "HBox(children=(FloatProgress(value=0.0, max=10.0), HTML(value='')))"
      ]
     },
     "metadata": {},
     "output_type": "display_data"
    },
    {
     "name": "stdout",
     "output_type": "stream",
     "text": [
      "\n",
      "Disclosure risk: 2.000 (20.00%)\n"
     ]
    }
   ],
   "source": [
    "disclosure_risk = Anonymization_scheme.calculate_record_linkage(dataset, anonymization_scheme.anonymized_dataset)\n",
    "disclosure_risk.description()"
   ]
  },
  {
   "cell_type": "markdown",
   "metadata": {},
   "source": [
    "#### 1.5 The anonymized data set can be saved to a csv formated file"
   ]
  },
  {
   "cell_type": "code",
   "execution_count": 15,
   "metadata": {
    "scrolled": true
   },
   "outputs": [
    {
     "data": {
      "text/plain": [
       "'Dataset saved: ./anonymization/output_datasets/toy_all_types_anom.csv'"
      ]
     },
     "metadata": {},
     "output_type": "display_data"
    }
   ],
   "source": [
    "anonymization_scheme.save_anonymized_dataset(\"./anonymization/output_datasets/toy_all_types_anom.csv\")"
   ]
  },
  {
   "cell_type": "markdown",
   "metadata": {},
   "source": [
    "#### 1.6 The anonymized data set can be converted to DataFrame"
   ]
  },
  {
   "cell_type": "code",
   "execution_count": 16,
   "metadata": {
    "scrolled": true
   },
   "outputs": [
    {
     "data": {
      "text/html": [
       "<div>\n",
       "<style scoped>\n",
       "    .dataframe tbody tr th:only-of-type {\n",
       "        vertical-align: middle;\n",
       "    }\n",
       "\n",
       "    .dataframe tbody tr th {\n",
       "        vertical-align: top;\n",
       "    }\n",
       "\n",
       "    .dataframe thead th {\n",
       "        text-align: right;\n",
       "    }\n",
       "</style>\n",
       "<table border=\"1\" class=\"dataframe\">\n",
       "  <thead>\n",
       "    <tr style=\"text-align: right;\">\n",
       "      <th></th>\n",
       "      <th>hours-per-week</th>\n",
       "      <th>age</th>\n",
       "      <th>income</th>\n",
       "      <th>date</th>\n",
       "      <th>occupation</th>\n",
       "      <th>native-country</th>\n",
       "      <th>location</th>\n",
       "      <th>datetime</th>\n",
       "    </tr>\n",
       "  </thead>\n",
       "  <tbody>\n",
       "    <tr>\n",
       "      <th>0</th>\n",
       "      <td>27</td>\n",
       "      <td>45.5</td>\n",
       "      <td>23546</td>\n",
       "      <td>24/3/2016</td>\n",
       "      <td>executive</td>\n",
       "      <td>location</td>\n",
       "      <td>43.73470695:10.4364345</td>\n",
       "      <td>2011-02-04 09:34:04</td>\n",
       "    </tr>\n",
       "    <tr>\n",
       "      <th>1</th>\n",
       "      <td>27</td>\n",
       "      <td>45.5</td>\n",
       "      <td>10230</td>\n",
       "      <td>24/3/2016</td>\n",
       "      <td>executive</td>\n",
       "      <td>location</td>\n",
       "      <td>43.73470695:10.4364345</td>\n",
       "      <td>2011-02-04 09:34:04</td>\n",
       "    </tr>\n",
       "    <tr>\n",
       "      <th>2</th>\n",
       "      <td>42</td>\n",
       "      <td>47.7</td>\n",
       "      <td>0</td>\n",
       "      <td>18/9/2015</td>\n",
       "      <td>cleaner</td>\n",
       "      <td>region</td>\n",
       "      <td>43.67735:10.65867</td>\n",
       "      <td>2011-02-04 02:54:04</td>\n",
       "    </tr>\n",
       "    <tr>\n",
       "      <th>3</th>\n",
       "      <td>42</td>\n",
       "      <td>47.7</td>\n",
       "      <td>152000</td>\n",
       "      <td>18/9/2015</td>\n",
       "      <td>cleaner</td>\n",
       "      <td>region</td>\n",
       "      <td>43.67735:10.65867</td>\n",
       "      <td>2011-02-04 02:54:04</td>\n",
       "    </tr>\n",
       "    <tr>\n",
       "      <th>4</th>\n",
       "      <td>43</td>\n",
       "      <td>32.8</td>\n",
       "      <td>54120</td>\n",
       "      <td>4/6/2016</td>\n",
       "      <td>specialist</td>\n",
       "      <td>location</td>\n",
       "      <td>43.69860463333333:10.412581333333334</td>\n",
       "      <td>2011-02-04 16:54:04</td>\n",
       "    </tr>\n",
       "  </tbody>\n",
       "</table>\n",
       "</div>"
      ],
      "text/plain": [
       "  hours-per-week   age  income       date  occupation native-country  \\\n",
       "0             27  45.5   23546  24/3/2016   executive       location   \n",
       "1             27  45.5   10230  24/3/2016   executive       location   \n",
       "2             42  47.7       0  18/9/2015     cleaner         region   \n",
       "3             42  47.7  152000  18/9/2015     cleaner         region   \n",
       "4             43  32.8   54120   4/6/2016  specialist       location   \n",
       "\n",
       "                               location             datetime  \n",
       "0                43.73470695:10.4364345  2011-02-04 09:34:04  \n",
       "1                43.73470695:10.4364345  2011-02-04 09:34:04  \n",
       "2                     43.67735:10.65867  2011-02-04 02:54:04  \n",
       "3                     43.67735:10.65867  2011-02-04 02:54:04  \n",
       "4  43.69860463333333:10.412581333333334  2011-02-04 16:54:04  "
      ]
     },
     "execution_count": 16,
     "metadata": {},
     "output_type": "execute_result"
    }
   ],
   "source": [
    "df_anonymized = anonymization_scheme.anonymized_dataset_to_dataframe()\n",
    "df_anonymized.head()"
   ]
  },
  {
   "cell_type": "markdown",
   "metadata": {},
   "source": [
    "#### 1.7 The previously saved anonymized and original data sets can be loaded in order to calculate the privacy metrics a posteriori"
   ]
  },
  {
   "cell_type": "code",
   "execution_count": 17,
   "metadata": {},
   "outputs": [
    {
     "name": "stdout",
     "output_type": "stream",
     "text": [
      "Loading dataset\n",
      "Dataset loaded: ./anonymization/input_datasets/toy_all_types.csv\n",
      "Records loaded: 10\n",
      "Dataset: ./anonymization/input_datasets/toy_all_types.csv\n",
      "Dataset head:\n"
     ]
    },
    {
     "data": {
      "text/html": [
       "<div>\n",
       "<style scoped>\n",
       "    .dataframe tbody tr th:only-of-type {\n",
       "        vertical-align: middle;\n",
       "    }\n",
       "\n",
       "    .dataframe tbody tr th {\n",
       "        vertical-align: top;\n",
       "    }\n",
       "\n",
       "    .dataframe thead th {\n",
       "        text-align: right;\n",
       "    }\n",
       "</style>\n",
       "<table border=\"1\" class=\"dataframe\">\n",
       "  <thead>\n",
       "    <tr style=\"text-align: right;\">\n",
       "      <th></th>\n",
       "      <th>hours-per-week</th>\n",
       "      <th>age</th>\n",
       "      <th>income</th>\n",
       "      <th>date</th>\n",
       "      <th>occupation</th>\n",
       "      <th>native-country</th>\n",
       "      <th>location</th>\n",
       "      <th>datetime</th>\n",
       "    </tr>\n",
       "  </thead>\n",
       "  <tbody>\n",
       "    <tr>\n",
       "      <th>0</th>\n",
       "      <td>40</td>\n",
       "      <td>39.5</td>\n",
       "      <td>23546</td>\n",
       "      <td>1/11/2016</td>\n",
       "      <td>clerk</td>\n",
       "      <td>United_States</td>\n",
       "      <td>43.8430139:10.507994</td>\n",
       "      <td>2011-02-03 08:34:04</td>\n",
       "    </tr>\n",
       "    <tr>\n",
       "      <th>1</th>\n",
       "      <td>13</td>\n",
       "      <td>50.3</td>\n",
       "      <td>10230</td>\n",
       "      <td>6/12/2015</td>\n",
       "      <td>executive</td>\n",
       "      <td>United_States</td>\n",
       "      <td>43.54427:10.32615</td>\n",
       "      <td>2011-02-03 09:34:04</td>\n",
       "    </tr>\n",
       "    <tr>\n",
       "      <th>2</th>\n",
       "      <td>40</td>\n",
       "      <td>38.0</td>\n",
       "      <td>0</td>\n",
       "      <td>19/7/2015</td>\n",
       "      <td>cleaner</td>\n",
       "      <td>United_States</td>\n",
       "      <td>43.70853:10.4036</td>\n",
       "      <td>2011-02-03 10:34:04</td>\n",
       "    </tr>\n",
       "    <tr>\n",
       "      <th>3</th>\n",
       "      <td>40</td>\n",
       "      <td>53.1</td>\n",
       "      <td>152000</td>\n",
       "      <td>25/7/2015</td>\n",
       "      <td>cleaner</td>\n",
       "      <td>United_States</td>\n",
       "      <td>43.77925:11.24626</td>\n",
       "      <td>2011-02-04 10:34:04</td>\n",
       "    </tr>\n",
       "    <tr>\n",
       "      <th>4</th>\n",
       "      <td>40</td>\n",
       "      <td>28.8</td>\n",
       "      <td>54120</td>\n",
       "      <td>10/8/2016</td>\n",
       "      <td>specialist</td>\n",
       "      <td>Cuba</td>\n",
       "      <td>43.8430139:10.507994</td>\n",
       "      <td>2011-02-04 08:34:04</td>\n",
       "    </tr>\n",
       "  </tbody>\n",
       "</table>\n",
       "</div>"
      ],
      "text/plain": [
       "   hours-per-week   age  income       date  occupation native-country  \\\n",
       "0              40  39.5   23546  1/11/2016       clerk  United_States   \n",
       "1              13  50.3   10230  6/12/2015   executive  United_States   \n",
       "2              40  38.0       0  19/7/2015     cleaner  United_States   \n",
       "3              40  53.1  152000  25/7/2015     cleaner  United_States   \n",
       "4              40  28.8   54120  10/8/2016  specialist           Cuba   \n",
       "\n",
       "               location             datetime  \n",
       "0  43.8430139:10.507994  2011-02-03 08:34:04  \n",
       "1     43.54427:10.32615  2011-02-03 09:34:04  \n",
       "2      43.70853:10.4036  2011-02-03 10:34:04  \n",
       "3     43.77925:11.24626  2011-02-04 10:34:04  \n",
       "4  43.8430139:10.507994  2011-02-04 08:34:04  "
      ]
     },
     "metadata": {},
     "output_type": "display_data"
    },
    {
     "name": "stdout",
     "output_type": "stream",
     "text": [
      "\n",
      "Dataset description:\n",
      "Data set: ./anonymization/input_datasets/toy_all_types.csv\n",
      "Records: 10\n",
      "Attributes:\n"
     ]
    },
    {
     "data": {
      "text/html": [
       "<div>\n",
       "<style scoped>\n",
       "    .dataframe tbody tr th:only-of-type {\n",
       "        vertical-align: middle;\n",
       "    }\n",
       "\n",
       "    .dataframe tbody tr th {\n",
       "        vertical-align: top;\n",
       "    }\n",
       "\n",
       "    .dataframe thead th {\n",
       "        text-align: right;\n",
       "    }\n",
       "</style>\n",
       "<table border=\"1\" class=\"dataframe\">\n",
       "  <thead>\n",
       "    <tr style=\"text-align: right;\">\n",
       "      <th></th>\n",
       "      <th>Name</th>\n",
       "      <th>Attribute_type</th>\n",
       "      <th>Sensitivity_type</th>\n",
       "    </tr>\n",
       "  </thead>\n",
       "  <tbody>\n",
       "    <tr>\n",
       "      <th>0</th>\n",
       "      <td>hours-per-week</td>\n",
       "      <td>numerical_discrete</td>\n",
       "      <td>quasi_identifier</td>\n",
       "    </tr>\n",
       "    <tr>\n",
       "      <th>1</th>\n",
       "      <td>age</td>\n",
       "      <td>numerical_continuous</td>\n",
       "      <td>quasi_identifier</td>\n",
       "    </tr>\n",
       "    <tr>\n",
       "      <th>2</th>\n",
       "      <td>income</td>\n",
       "      <td>numerical_discrete</td>\n",
       "      <td>confidential</td>\n",
       "    </tr>\n",
       "    <tr>\n",
       "      <th>3</th>\n",
       "      <td>date</td>\n",
       "      <td>date</td>\n",
       "      <td>quasi_identifier</td>\n",
       "    </tr>\n",
       "    <tr>\n",
       "      <th>4</th>\n",
       "      <td>occupation</td>\n",
       "      <td>plain_categorical</td>\n",
       "      <td>quasi_identifier</td>\n",
       "    </tr>\n",
       "    <tr>\n",
       "      <th>5</th>\n",
       "      <td>native-country</td>\n",
       "      <td>semantic_categorical_wordnet</td>\n",
       "      <td>quasi_identifier</td>\n",
       "    </tr>\n",
       "    <tr>\n",
       "      <th>6</th>\n",
       "      <td>location</td>\n",
       "      <td>coordinate</td>\n",
       "      <td>quasi_identifier</td>\n",
       "    </tr>\n",
       "    <tr>\n",
       "      <th>7</th>\n",
       "      <td>datetime</td>\n",
       "      <td>datetime</td>\n",
       "      <td>quasi_identifier</td>\n",
       "    </tr>\n",
       "  </tbody>\n",
       "</table>\n",
       "</div>"
      ],
      "text/plain": [
       "             Name                Attribute_type  Sensitivity_type\n",
       "0  hours-per-week            numerical_discrete  quasi_identifier\n",
       "1             age          numerical_continuous  quasi_identifier\n",
       "2          income            numerical_discrete      confidential\n",
       "3            date                          date  quasi_identifier\n",
       "4      occupation             plain_categorical  quasi_identifier\n",
       "5  native-country  semantic_categorical_wordnet  quasi_identifier\n",
       "6        location                    coordinate  quasi_identifier\n",
       "7        datetime                      datetime  quasi_identifier"
      ]
     },
     "metadata": {},
     "output_type": "display_data"
    },
    {
     "name": "stdout",
     "output_type": "stream",
     "text": [
      "\n"
     ]
    }
   ],
   "source": [
    "path_csv = \"./anonymization/input_datasets/toy_all_types.csv\"\n",
    "path_settings = \"./anonymization/input_datasets/metadata_toy_all_types.xml\"\n",
    "df = utils.read_dataframe_from_csv(path_csv)\n",
    "dataset_original = Dataset_DataFrame(df, path_settings)\n",
    "dataset_original.description()"
   ]
  },
  {
   "cell_type": "code",
   "execution_count": 18,
   "metadata": {},
   "outputs": [
    {
     "name": "stdout",
     "output_type": "stream",
     "text": [
      "Loading dataset\n",
      "Dataset loaded: ./anonymization/output_datasets/toy_all_types_anom.csv\n",
      "Records loaded: 10\n",
      "Dataset: ./anonymization/output_datasets/toy_all_types_anom.csv\n",
      "Dataset head:\n"
     ]
    },
    {
     "data": {
      "text/html": [
       "<div>\n",
       "<style scoped>\n",
       "    .dataframe tbody tr th:only-of-type {\n",
       "        vertical-align: middle;\n",
       "    }\n",
       "\n",
       "    .dataframe tbody tr th {\n",
       "        vertical-align: top;\n",
       "    }\n",
       "\n",
       "    .dataframe thead th {\n",
       "        text-align: right;\n",
       "    }\n",
       "</style>\n",
       "<table border=\"1\" class=\"dataframe\">\n",
       "  <thead>\n",
       "    <tr style=\"text-align: right;\">\n",
       "      <th></th>\n",
       "      <th>hours-per-week</th>\n",
       "      <th>age</th>\n",
       "      <th>income</th>\n",
       "      <th>date</th>\n",
       "      <th>occupation</th>\n",
       "      <th>native-country</th>\n",
       "      <th>location</th>\n",
       "      <th>datetime</th>\n",
       "    </tr>\n",
       "  </thead>\n",
       "  <tbody>\n",
       "    <tr>\n",
       "      <th>0</th>\n",
       "      <td>27</td>\n",
       "      <td>45.5</td>\n",
       "      <td>23546</td>\n",
       "      <td>24/3/2016</td>\n",
       "      <td>executive</td>\n",
       "      <td>location</td>\n",
       "      <td>43.73470695:10.4364345</td>\n",
       "      <td>2011-02-04 09:34:04</td>\n",
       "    </tr>\n",
       "    <tr>\n",
       "      <th>1</th>\n",
       "      <td>27</td>\n",
       "      <td>45.5</td>\n",
       "      <td>10230</td>\n",
       "      <td>24/3/2016</td>\n",
       "      <td>executive</td>\n",
       "      <td>location</td>\n",
       "      <td>43.73470695:10.4364345</td>\n",
       "      <td>2011-02-04 09:34:04</td>\n",
       "    </tr>\n",
       "    <tr>\n",
       "      <th>2</th>\n",
       "      <td>42</td>\n",
       "      <td>47.7</td>\n",
       "      <td>0</td>\n",
       "      <td>18/9/2015</td>\n",
       "      <td>cleaner</td>\n",
       "      <td>region</td>\n",
       "      <td>43.67735:10.65867</td>\n",
       "      <td>2011-02-04 02:54:04</td>\n",
       "    </tr>\n",
       "    <tr>\n",
       "      <th>3</th>\n",
       "      <td>42</td>\n",
       "      <td>47.7</td>\n",
       "      <td>152000</td>\n",
       "      <td>18/9/2015</td>\n",
       "      <td>cleaner</td>\n",
       "      <td>region</td>\n",
       "      <td>43.67735:10.65867</td>\n",
       "      <td>2011-02-04 02:54:04</td>\n",
       "    </tr>\n",
       "    <tr>\n",
       "      <th>4</th>\n",
       "      <td>43</td>\n",
       "      <td>32.8</td>\n",
       "      <td>54120</td>\n",
       "      <td>4/6/2016</td>\n",
       "      <td>specialist</td>\n",
       "      <td>location</td>\n",
       "      <td>43.69860463333333:10.412581333333334</td>\n",
       "      <td>2011-02-04 16:54:04</td>\n",
       "    </tr>\n",
       "  </tbody>\n",
       "</table>\n",
       "</div>"
      ],
      "text/plain": [
       "   hours-per-week   age  income       date  occupation native-country  \\\n",
       "0              27  45.5   23546  24/3/2016   executive       location   \n",
       "1              27  45.5   10230  24/3/2016   executive       location   \n",
       "2              42  47.7       0  18/9/2015     cleaner         region   \n",
       "3              42  47.7  152000  18/9/2015     cleaner         region   \n",
       "4              43  32.8   54120   4/6/2016  specialist       location   \n",
       "\n",
       "                               location             datetime  \n",
       "0                43.73470695:10.4364345  2011-02-04 09:34:04  \n",
       "1                43.73470695:10.4364345  2011-02-04 09:34:04  \n",
       "2                     43.67735:10.65867  2011-02-04 02:54:04  \n",
       "3                     43.67735:10.65867  2011-02-04 02:54:04  \n",
       "4  43.69860463333333:10.412581333333334  2011-02-04 16:54:04  "
      ]
     },
     "metadata": {},
     "output_type": "display_data"
    },
    {
     "name": "stdout",
     "output_type": "stream",
     "text": [
      "\n",
      "Dataset description:\n",
      "Data set: ./anonymization/output_datasets/toy_all_types_anom.csv\n",
      "Records: 10\n",
      "Attributes:\n"
     ]
    },
    {
     "data": {
      "text/html": [
       "<div>\n",
       "<style scoped>\n",
       "    .dataframe tbody tr th:only-of-type {\n",
       "        vertical-align: middle;\n",
       "    }\n",
       "\n",
       "    .dataframe tbody tr th {\n",
       "        vertical-align: top;\n",
       "    }\n",
       "\n",
       "    .dataframe thead th {\n",
       "        text-align: right;\n",
       "    }\n",
       "</style>\n",
       "<table border=\"1\" class=\"dataframe\">\n",
       "  <thead>\n",
       "    <tr style=\"text-align: right;\">\n",
       "      <th></th>\n",
       "      <th>Name</th>\n",
       "      <th>Attribute_type</th>\n",
       "      <th>Sensitivity_type</th>\n",
       "    </tr>\n",
       "  </thead>\n",
       "  <tbody>\n",
       "    <tr>\n",
       "      <th>0</th>\n",
       "      <td>hours-per-week</td>\n",
       "      <td>numerical_discrete</td>\n",
       "      <td>quasi_identifier</td>\n",
       "    </tr>\n",
       "    <tr>\n",
       "      <th>1</th>\n",
       "      <td>age</td>\n",
       "      <td>numerical_continuous</td>\n",
       "      <td>quasi_identifier</td>\n",
       "    </tr>\n",
       "    <tr>\n",
       "      <th>2</th>\n",
       "      <td>income</td>\n",
       "      <td>numerical_discrete</td>\n",
       "      <td>confidential</td>\n",
       "    </tr>\n",
       "    <tr>\n",
       "      <th>3</th>\n",
       "      <td>date</td>\n",
       "      <td>date</td>\n",
       "      <td>quasi_identifier</td>\n",
       "    </tr>\n",
       "    <tr>\n",
       "      <th>4</th>\n",
       "      <td>occupation</td>\n",
       "      <td>plain_categorical</td>\n",
       "      <td>quasi_identifier</td>\n",
       "    </tr>\n",
       "    <tr>\n",
       "      <th>5</th>\n",
       "      <td>native-country</td>\n",
       "      <td>semantic_categorical_wordnet</td>\n",
       "      <td>quasi_identifier</td>\n",
       "    </tr>\n",
       "    <tr>\n",
       "      <th>6</th>\n",
       "      <td>location</td>\n",
       "      <td>coordinate</td>\n",
       "      <td>quasi_identifier</td>\n",
       "    </tr>\n",
       "    <tr>\n",
       "      <th>7</th>\n",
       "      <td>datetime</td>\n",
       "      <td>datetime</td>\n",
       "      <td>quasi_identifier</td>\n",
       "    </tr>\n",
       "  </tbody>\n",
       "</table>\n",
       "</div>"
      ],
      "text/plain": [
       "             Name                Attribute_type  Sensitivity_type\n",
       "0  hours-per-week            numerical_discrete  quasi_identifier\n",
       "1             age          numerical_continuous  quasi_identifier\n",
       "2          income            numerical_discrete      confidential\n",
       "3            date                          date  quasi_identifier\n",
       "4      occupation             plain_categorical  quasi_identifier\n",
       "5  native-country  semantic_categorical_wordnet  quasi_identifier\n",
       "6        location                    coordinate  quasi_identifier\n",
       "7        datetime                      datetime  quasi_identifier"
      ]
     },
     "metadata": {},
     "output_type": "display_data"
    },
    {
     "name": "stdout",
     "output_type": "stream",
     "text": [
      "\n"
     ]
    }
   ],
   "source": [
    "path_csv = \"./anonymization/output_datasets/toy_all_types_anom.csv\"\n",
    "path_settings = \"./anonymization/input_datasets/metadata_toy_all_types.xml\"\n",
    "df = utils.read_dataframe_from_csv(path_csv)\n",
    "dataset_anomymized = Dataset_DataFrame(df, path_settings)\n",
    "dataset_anomymized.description()"
   ]
  },
  {
   "cell_type": "code",
   "execution_count": 19,
   "metadata": {},
   "outputs": [
    {
     "name": "stdout",
     "output_type": "stream",
     "text": [
      "Calculating information loss metrics\n",
      "\n",
      "Information loss metrics:\n",
      "SSE: 0.874\n"
     ]
    },
    {
     "data": {
      "text/html": [
       "<div>\n",
       "<style scoped>\n",
       "    .dataframe tbody tr th:only-of-type {\n",
       "        vertical-align: middle;\n",
       "    }\n",
       "\n",
       "    .dataframe tbody tr th {\n",
       "        vertical-align: top;\n",
       "    }\n",
       "\n",
       "    .dataframe thead th {\n",
       "        text-align: right;\n",
       "    }\n",
       "</style>\n",
       "<table border=\"1\" class=\"dataframe\">\n",
       "  <thead>\n",
       "    <tr style=\"text-align: right;\">\n",
       "      <th></th>\n",
       "      <th>Name</th>\n",
       "      <th>Original mean</th>\n",
       "      <th>Anonymized mean</th>\n",
       "      <th>Original variance</th>\n",
       "      <th>Anonymized variance</th>\n",
       "    </tr>\n",
       "  </thead>\n",
       "  <tbody>\n",
       "    <tr>\n",
       "      <th>0</th>\n",
       "      <td>hours-per-week</td>\n",
       "      <td>36.4</td>\n",
       "      <td>36.3</td>\n",
       "      <td>1.302000e+02</td>\n",
       "      <td>5.790000e+01</td>\n",
       "    </tr>\n",
       "    <tr>\n",
       "      <th>1</th>\n",
       "      <td>age</td>\n",
       "      <td>42.33</td>\n",
       "      <td>42.35</td>\n",
       "      <td>6.654810e+01</td>\n",
       "      <td>3.991650e+01</td>\n",
       "    </tr>\n",
       "    <tr>\n",
       "      <th>2</th>\n",
       "      <td>income</td>\n",
       "      <td>35771.4</td>\n",
       "      <td>35771.4</td>\n",
       "      <td>1.687522e+09</td>\n",
       "      <td>1.687522e+09</td>\n",
       "    </tr>\n",
       "    <tr>\n",
       "      <th>3</th>\n",
       "      <td>date</td>\n",
       "      <td>18/2/2016</td>\n",
       "      <td>18/2/2016</td>\n",
       "      <td>3.245814e+14</td>\n",
       "      <td>8.173050e+13</td>\n",
       "    </tr>\n",
       "    <tr>\n",
       "      <th>4</th>\n",
       "      <td>occupation</td>\n",
       "      <td>executive</td>\n",
       "      <td>executive</td>\n",
       "      <td>6.000000e-01</td>\n",
       "      <td>6.000000e-01</td>\n",
       "    </tr>\n",
       "    <tr>\n",
       "      <th>5</th>\n",
       "      <td>native-country</td>\n",
       "      <td>location</td>\n",
       "      <td>psychological_feature</td>\n",
       "      <td>3.369641e-01</td>\n",
       "      <td>3.600000e-01</td>\n",
       "    </tr>\n",
       "    <tr>\n",
       "      <th>6</th>\n",
       "      <td>location</td>\n",
       "      <td>43.70666917:10.495949199999998</td>\n",
       "      <td>43.70666917:10.495949200000002</td>\n",
       "      <td>8.156504e-02</td>\n",
       "      <td>1.203712e-02</td>\n",
       "    </tr>\n",
       "    <tr>\n",
       "      <th>7</th>\n",
       "      <td>datetime</td>\n",
       "      <td>2011-02-04 09:46:04</td>\n",
       "      <td>2011-02-04 09:46:04</td>\n",
       "      <td>4.491418e+09</td>\n",
       "      <td>3.813696e+08</td>\n",
       "    </tr>\n",
       "  </tbody>\n",
       "</table>\n",
       "</div>"
      ],
      "text/plain": [
       "             Name                   Original mean  \\\n",
       "0  hours-per-week                            36.4   \n",
       "1             age                           42.33   \n",
       "2          income                         35771.4   \n",
       "3            date                       18/2/2016   \n",
       "4      occupation                       executive   \n",
       "5  native-country                        location   \n",
       "6        location  43.70666917:10.495949199999998   \n",
       "7        datetime             2011-02-04 09:46:04   \n",
       "\n",
       "                  Anonymized mean  Original variance  Anonymized variance  \n",
       "0                            36.3       1.302000e+02         5.790000e+01  \n",
       "1                           42.35       6.654810e+01         3.991650e+01  \n",
       "2                         35771.4       1.687522e+09         1.687522e+09  \n",
       "3                       18/2/2016       3.245814e+14         8.173050e+13  \n",
       "4                       executive       6.000000e-01         6.000000e-01  \n",
       "5           psychological_feature       3.369641e-01         3.600000e-01  \n",
       "6  43.70666917:10.495949200000002       8.156504e-02         1.203712e-02  \n",
       "7             2011-02-04 09:46:04       4.491418e+09         3.813696e+08  "
      ]
     },
     "metadata": {},
     "output_type": "display_data"
    },
    {
     "name": "stdout",
     "output_type": "stream",
     "text": [
      "Calculating record linkage (disclosure risk)\n"
     ]
    },
    {
     "data": {
      "application/vnd.jupyter.widget-view+json": {
       "model_id": "6e4d34061e884db4868e16dabc0c6bc4",
       "version_major": 2,
       "version_minor": 0
      },
      "text/plain": [
       "HBox(children=(FloatProgress(value=0.0, max=10.0), HTML(value='')))"
      ]
     },
     "metadata": {},
     "output_type": "display_data"
    },
    {
     "name": "stdout",
     "output_type": "stream",
     "text": [
      "\n",
      "Disclosure risk: 2.000 (20.00%)\n"
     ]
    }
   ],
   "source": [
    "information_loss = Anonymization_scheme.calculate_information_loss(dataset_original, dataset_anomymized)\n",
    "information_loss.description()\n",
    "disclosure_risk = Anonymization_scheme.calculate_record_linkage(dataset_original, dataset_anomymized)\n",
    "disclosure_risk.description()"
   ]
  },
  {
   "cell_type": "markdown",
   "metadata": {},
   "source": [
    "========================================================================================================================\n",
    "## 2. k-Anomymity via MDAV\n",
    "### References:\n",
    "#### [1] Josep Domingo-Ferrer and Vicenç Torra, \"Ordinal, continuous and heterogeneous k-anonymity through microaggregation\", Data Mining and Knowledge Discovery, Vol. 11, pp. 195-212, Sep 2005. DOI: https://doi.org/10.1007/s10618-005-0007-5\n",
    "#### [4] Josep Domingo-Ferrer and Vicenç Torra, \"Disclosure risk assessment in statistical data protection\", Journal of Computational and Applied Mathematics, Vol. 164, pp. 285-293, Mar 2004. DOI: https://doi.org/10.1016/S0377-0427(03)00643-5\n",
    "### Adult data set (45222 records)\n",
    "#### k-anonymity via MDAV (k=10) takes long time (~1h) however, the anonymized data set maintains high utility (SSE = ~0.40)"
   ]
  },
  {
   "cell_type": "code",
   "execution_count": 20,
   "metadata": {},
   "outputs": [],
   "source": [
    "from anonymization.src.entities.dataset_DataFrame import Dataset_DataFrame\n",
    "from anonymization.src.algorithms.anonymization_scheme import Anonymization_scheme\n",
    "from anonymization.src.algorithms.k_anonymity import K_anonymity\n",
    "from anonymization.src.algorithms.mdav import Mdav\n",
    "from anonymization.src.utils import utils"
   ]
  },
  {
   "cell_type": "markdown",
   "metadata": {},
   "source": [
    "#### Following, it is indicated the path to the csv file containing the data set and the path to the xml file describing the attributes in the data set. Inside the xml file, there is a detailed descritpion about how to fill this xml file in order to properly configure the different attribute types in the data set"
   ]
  },
  {
   "cell_type": "code",
   "execution_count": 21,
   "metadata": {
    "scrolled": true
   },
   "outputs": [],
   "source": [
    "path_csv = \"./anonymization/input_datasets/adult.csv\"\n",
    "path_settings = \"./anonymization/input_datasets/metadata_adult.xml\"\n",
    "data_frame = utils.read_dataframe_from_csv(path_csv)"
   ]
  },
  {
   "cell_type": "markdown",
   "metadata": {},
   "source": [
    "#### 2.1 The data set is loaded from a DataFrame passed as parameter"
   ]
  },
  {
   "cell_type": "code",
   "execution_count": 22,
   "metadata": {
    "scrolled": false
   },
   "outputs": [
    {
     "name": "stdout",
     "output_type": "stream",
     "text": [
      "Loading dataset\n",
      "Dataset loaded: ./anonymization/input_datasets/adult.csv\n",
      "Records loaded: 45222\n",
      "Dataset: ./anonymization/input_datasets/adult.csv\n",
      "Dataset head:\n"
     ]
    },
    {
     "data": {
      "text/html": [
       "<div>\n",
       "<style scoped>\n",
       "    .dataframe tbody tr th:only-of-type {\n",
       "        vertical-align: middle;\n",
       "    }\n",
       "\n",
       "    .dataframe tbody tr th {\n",
       "        vertical-align: top;\n",
       "    }\n",
       "\n",
       "    .dataframe thead th {\n",
       "        text-align: right;\n",
       "    }\n",
       "</style>\n",
       "<table border=\"1\" class=\"dataframe\">\n",
       "  <thead>\n",
       "    <tr style=\"text-align: right;\">\n",
       "      <th></th>\n",
       "      <th>age</th>\n",
       "      <th>workclass</th>\n",
       "      <th>education</th>\n",
       "      <th>marital-status</th>\n",
       "      <th>occupation</th>\n",
       "      <th>relationship</th>\n",
       "      <th>race</th>\n",
       "      <th>sex</th>\n",
       "      <th>hours-per-week</th>\n",
       "      <th>native-country</th>\n",
       "      <th>prediction</th>\n",
       "    </tr>\n",
       "  </thead>\n",
       "  <tbody>\n",
       "    <tr>\n",
       "      <th>0</th>\n",
       "      <td>25</td>\n",
       "      <td>Private</td>\n",
       "      <td>11th</td>\n",
       "      <td>Never-married</td>\n",
       "      <td>Machine-op-inspct</td>\n",
       "      <td>Own-child</td>\n",
       "      <td>Black</td>\n",
       "      <td>Male</td>\n",
       "      <td>40</td>\n",
       "      <td>United-States</td>\n",
       "      <td>&lt;=50K</td>\n",
       "    </tr>\n",
       "    <tr>\n",
       "      <th>1</th>\n",
       "      <td>38</td>\n",
       "      <td>Private</td>\n",
       "      <td>HS-grad</td>\n",
       "      <td>Married-civ-spouse</td>\n",
       "      <td>Farming-fishing</td>\n",
       "      <td>Husband</td>\n",
       "      <td>White</td>\n",
       "      <td>Male</td>\n",
       "      <td>50</td>\n",
       "      <td>United-States</td>\n",
       "      <td>&lt;=50K</td>\n",
       "    </tr>\n",
       "    <tr>\n",
       "      <th>2</th>\n",
       "      <td>28</td>\n",
       "      <td>Local-gov</td>\n",
       "      <td>Assoc-acdm</td>\n",
       "      <td>Married-civ-spouse</td>\n",
       "      <td>Protective-serv</td>\n",
       "      <td>Husband</td>\n",
       "      <td>White</td>\n",
       "      <td>Male</td>\n",
       "      <td>40</td>\n",
       "      <td>United-States</td>\n",
       "      <td>&gt;50K</td>\n",
       "    </tr>\n",
       "    <tr>\n",
       "      <th>3</th>\n",
       "      <td>44</td>\n",
       "      <td>Private</td>\n",
       "      <td>Some-college</td>\n",
       "      <td>Married-civ-spouse</td>\n",
       "      <td>Machine-op-inspct</td>\n",
       "      <td>Husband</td>\n",
       "      <td>Black</td>\n",
       "      <td>Male</td>\n",
       "      <td>40</td>\n",
       "      <td>United-States</td>\n",
       "      <td>&gt;50K</td>\n",
       "    </tr>\n",
       "    <tr>\n",
       "      <th>4</th>\n",
       "      <td>34</td>\n",
       "      <td>Private</td>\n",
       "      <td>10th</td>\n",
       "      <td>Never-married</td>\n",
       "      <td>Other-service</td>\n",
       "      <td>Not-in-family</td>\n",
       "      <td>White</td>\n",
       "      <td>Male</td>\n",
       "      <td>30</td>\n",
       "      <td>United-States</td>\n",
       "      <td>&lt;=50K</td>\n",
       "    </tr>\n",
       "  </tbody>\n",
       "</table>\n",
       "</div>"
      ],
      "text/plain": [
       "   age  workclass     education      marital-status         occupation  \\\n",
       "0   25    Private          11th       Never-married  Machine-op-inspct   \n",
       "1   38    Private       HS-grad  Married-civ-spouse    Farming-fishing   \n",
       "2   28  Local-gov    Assoc-acdm  Married-civ-spouse    Protective-serv   \n",
       "3   44    Private  Some-college  Married-civ-spouse  Machine-op-inspct   \n",
       "4   34    Private          10th       Never-married      Other-service   \n",
       "\n",
       "    relationship   race   sex  hours-per-week native-country prediction  \n",
       "0      Own-child  Black  Male              40  United-States      <=50K  \n",
       "1        Husband  White  Male              50  United-States      <=50K  \n",
       "2        Husband  White  Male              40  United-States       >50K  \n",
       "3        Husband  Black  Male              40  United-States       >50K  \n",
       "4  Not-in-family  White  Male              30  United-States      <=50K  "
      ]
     },
     "metadata": {},
     "output_type": "display_data"
    },
    {
     "name": "stdout",
     "output_type": "stream",
     "text": [
      "\n",
      "Dataset description:\n",
      "Data set: ./anonymization/input_datasets/adult.csv\n",
      "Records: 45222\n",
      "Attributes:\n"
     ]
    },
    {
     "data": {
      "text/html": [
       "<div>\n",
       "<style scoped>\n",
       "    .dataframe tbody tr th:only-of-type {\n",
       "        vertical-align: middle;\n",
       "    }\n",
       "\n",
       "    .dataframe tbody tr th {\n",
       "        vertical-align: top;\n",
       "    }\n",
       "\n",
       "    .dataframe thead th {\n",
       "        text-align: right;\n",
       "    }\n",
       "</style>\n",
       "<table border=\"1\" class=\"dataframe\">\n",
       "  <thead>\n",
       "    <tr style=\"text-align: right;\">\n",
       "      <th></th>\n",
       "      <th>Name</th>\n",
       "      <th>Attribute_type</th>\n",
       "      <th>Sensitivity_type</th>\n",
       "    </tr>\n",
       "  </thead>\n",
       "  <tbody>\n",
       "    <tr>\n",
       "      <th>0</th>\n",
       "      <td>age</td>\n",
       "      <td>numerical_discrete</td>\n",
       "      <td>quasi_identifier</td>\n",
       "    </tr>\n",
       "    <tr>\n",
       "      <th>1</th>\n",
       "      <td>workclass</td>\n",
       "      <td>plain_categorical</td>\n",
       "      <td>quasi_identifier</td>\n",
       "    </tr>\n",
       "    <tr>\n",
       "      <th>2</th>\n",
       "      <td>education</td>\n",
       "      <td>plain_categorical</td>\n",
       "      <td>quasi_identifier</td>\n",
       "    </tr>\n",
       "    <tr>\n",
       "      <th>3</th>\n",
       "      <td>marital-status</td>\n",
       "      <td>plain_categorical</td>\n",
       "      <td>quasi_identifier</td>\n",
       "    </tr>\n",
       "    <tr>\n",
       "      <th>4</th>\n",
       "      <td>occupation</td>\n",
       "      <td>plain_categorical</td>\n",
       "      <td>quasi_identifier</td>\n",
       "    </tr>\n",
       "    <tr>\n",
       "      <th>5</th>\n",
       "      <td>relationship</td>\n",
       "      <td>plain_categorical</td>\n",
       "      <td>quasi_identifier</td>\n",
       "    </tr>\n",
       "    <tr>\n",
       "      <th>6</th>\n",
       "      <td>race</td>\n",
       "      <td>plain_categorical</td>\n",
       "      <td>quasi_identifier</td>\n",
       "    </tr>\n",
       "    <tr>\n",
       "      <th>7</th>\n",
       "      <td>sex</td>\n",
       "      <td>plain_categorical</td>\n",
       "      <td>quasi_identifier</td>\n",
       "    </tr>\n",
       "    <tr>\n",
       "      <th>8</th>\n",
       "      <td>hours-per-week</td>\n",
       "      <td>numerical_discrete</td>\n",
       "      <td>quasi_identifier</td>\n",
       "    </tr>\n",
       "    <tr>\n",
       "      <th>9</th>\n",
       "      <td>native-country</td>\n",
       "      <td>plain_categorical</td>\n",
       "      <td>quasi_identifier</td>\n",
       "    </tr>\n",
       "    <tr>\n",
       "      <th>10</th>\n",
       "      <td>prediction</td>\n",
       "      <td>plain_categorical</td>\n",
       "      <td>confidential</td>\n",
       "    </tr>\n",
       "  </tbody>\n",
       "</table>\n",
       "</div>"
      ],
      "text/plain": [
       "              Name      Attribute_type  Sensitivity_type\n",
       "0              age  numerical_discrete  quasi_identifier\n",
       "1        workclass   plain_categorical  quasi_identifier\n",
       "2        education   plain_categorical  quasi_identifier\n",
       "3   marital-status   plain_categorical  quasi_identifier\n",
       "4       occupation   plain_categorical  quasi_identifier\n",
       "5     relationship   plain_categorical  quasi_identifier\n",
       "6             race   plain_categorical  quasi_identifier\n",
       "7              sex   plain_categorical  quasi_identifier\n",
       "8   hours-per-week  numerical_discrete  quasi_identifier\n",
       "9   native-country   plain_categorical  quasi_identifier\n",
       "10      prediction   plain_categorical      confidential"
      ]
     },
     "metadata": {},
     "output_type": "display_data"
    },
    {
     "name": "stdout",
     "output_type": "stream",
     "text": [
      "\n"
     ]
    }
   ],
   "source": [
    "dataset = Dataset_DataFrame(data_frame, path_settings)\n",
    "dataset.description()"
   ]
  },
  {
   "cell_type": "markdown",
   "metadata": {},
   "source": [
    "#### 2.2 The data set is anonymized, in this case, applying k_anonymity via MDAV with a privacy level of k=10"
   ]
  },
  {
   "cell_type": "code",
   "execution_count": 23,
   "metadata": {
    "scrolled": true
   },
   "outputs": [
    {
     "name": "stdout",
     "output_type": "stream",
     "text": [
      "Anonymizing k-Anonymity, k = 10 via MDAV\n"
     ]
    },
    {
     "data": {
      "application/vnd.jupyter.widget-view+json": {
       "model_id": "3f52e29078664b33bf7ca72c03a0db67",
       "version_major": 2,
       "version_minor": 0
      },
      "text/plain": [
       "HBox(children=(FloatProgress(value=0.0, max=45222.0), HTML(value='')))"
      ]
     },
     "metadata": {},
     "output_type": "display_data"
    },
    {
     "ename": "KeyboardInterrupt",
     "evalue": "",
     "output_type": "error",
     "traceback": [
      "\u001b[1;31m---------------------------------------------------------------------------\u001b[0m",
      "\u001b[1;31mKeyboardInterrupt\u001b[0m                         Traceback (most recent call last)",
      "\u001b[1;32m<ipython-input-23-da5080236cee>\u001b[0m in \u001b[0;36m<module>\u001b[1;34m\u001b[0m\n\u001b[0;32m      2\u001b[0m \u001b[0manonymization_scheme\u001b[0m \u001b[1;33m=\u001b[0m \u001b[0mK_anonymity\u001b[0m\u001b[1;33m(\u001b[0m\u001b[0mdataset\u001b[0m\u001b[1;33m,\u001b[0m \u001b[0mk\u001b[0m\u001b[1;33m)\u001b[0m\u001b[1;33m\u001b[0m\u001b[1;33m\u001b[0m\u001b[0m\n\u001b[0;32m      3\u001b[0m \u001b[0malgorithm\u001b[0m \u001b[1;33m=\u001b[0m \u001b[0mMdav\u001b[0m\u001b[1;33m(\u001b[0m\u001b[1;33m)\u001b[0m\u001b[1;33m\u001b[0m\u001b[1;33m\u001b[0m\u001b[0m\n\u001b[1;32m----> 4\u001b[1;33m \u001b[0manonymization_scheme\u001b[0m\u001b[1;33m.\u001b[0m\u001b[0mcalculate_anonymization\u001b[0m\u001b[1;33m(\u001b[0m\u001b[0malgorithm\u001b[0m\u001b[1;33m)\u001b[0m\u001b[1;33m\u001b[0m\u001b[1;33m\u001b[0m\u001b[0m\n\u001b[0m",
      "\u001b[1;32mD:\\ProgramsSoBigDataGitHub\\anonymization\\src\\algorithms\\k_anonymity.py\u001b[0m in \u001b[0;36mcalculate_anonymization\u001b[1;34m(self, algorithm)\u001b[0m\n\u001b[0;32m     58\u001b[0m         \u001b[0mt_ini\u001b[0m \u001b[1;33m=\u001b[0m \u001b[0mtimer\u001b[0m\u001b[1;33m(\u001b[0m\u001b[1;33m)\u001b[0m\u001b[1;33m\u001b[0m\u001b[1;33m\u001b[0m\u001b[0m\n\u001b[0;32m     59\u001b[0m         \u001b[0mprint\u001b[0m\u001b[1;33m(\u001b[0m\u001b[1;34m\"Anonymizing \"\u001b[0m \u001b[1;33m+\u001b[0m \u001b[0mstr\u001b[0m\u001b[1;33m(\u001b[0m\u001b[0mself\u001b[0m\u001b[1;33m)\u001b[0m \u001b[1;33m+\u001b[0m \u001b[1;34m\" via \"\u001b[0m \u001b[1;33m+\u001b[0m \u001b[0mstr\u001b[0m\u001b[1;33m(\u001b[0m\u001b[0malgorithm\u001b[0m\u001b[1;33m)\u001b[0m\u001b[1;33m)\u001b[0m\u001b[1;33m\u001b[0m\u001b[1;33m\u001b[0m\u001b[0m\n\u001b[1;32m---> 60\u001b[1;33m         \u001b[0mclusters\u001b[0m \u001b[1;33m=\u001b[0m \u001b[0malgorithm\u001b[0m\u001b[1;33m.\u001b[0m\u001b[0mcreate_clusters\u001b[0m\u001b[1;33m(\u001b[0m\u001b[0mself\u001b[0m\u001b[1;33m.\u001b[0m\u001b[0moriginal_dataset\u001b[0m\u001b[1;33m.\u001b[0m\u001b[0mrecords\u001b[0m\u001b[1;33m,\u001b[0m \u001b[0mself\u001b[0m\u001b[1;33m.\u001b[0m\u001b[0mk\u001b[0m\u001b[1;33m)\u001b[0m\u001b[1;33m\u001b[0m\u001b[1;33m\u001b[0m\u001b[0m\n\u001b[0m\u001b[0;32m     61\u001b[0m         \u001b[0mself\u001b[0m\u001b[1;33m.\u001b[0m\u001b[0manonymized_dataset\u001b[0m \u001b[1;33m=\u001b[0m \u001b[0mcopy\u001b[0m\u001b[1;33m.\u001b[0m\u001b[0mdeepcopy\u001b[0m\u001b[1;33m(\u001b[0m\u001b[0mself\u001b[0m\u001b[1;33m.\u001b[0m\u001b[0moriginal_dataset\u001b[0m\u001b[1;33m)\u001b[0m\u001b[1;33m\u001b[0m\u001b[1;33m\u001b[0m\u001b[0m\n\u001b[0;32m     62\u001b[0m         \u001b[1;32mfor\u001b[0m \u001b[0mcluster\u001b[0m \u001b[1;32min\u001b[0m \u001b[0mclusters\u001b[0m\u001b[1;33m:\u001b[0m\u001b[1;33m\u001b[0m\u001b[1;33m\u001b[0m\u001b[0m\n",
      "\u001b[1;32mD:\\ProgramsSoBigDataGitHub\\anonymization\\src\\algorithms\\mdav.py\u001b[0m in \u001b[0;36mcreate_clusters\u001b[1;34m(records, k)\u001b[0m\n\u001b[0;32m     54\u001b[0m             \u001b[0mcentroid\u001b[0m \u001b[1;33m=\u001b[0m \u001b[0mMdav\u001b[0m\u001b[1;33m.\u001b[0m\u001b[0mcalculate_centroid\u001b[0m\u001b[1;33m(\u001b[0m\u001b[0mD\u001b[0m\u001b[1;33m)\u001b[0m\u001b[1;33m\u001b[0m\u001b[1;33m\u001b[0m\u001b[0m\n\u001b[0;32m     55\u001b[0m             \u001b[1;31m# calculate r (furthest from centroid)\u001b[0m\u001b[1;33m\u001b[0m\u001b[1;33m\u001b[0m\u001b[1;33m\u001b[0m\u001b[0m\n\u001b[1;32m---> 56\u001b[1;33m             \u001b[0mr\u001b[0m\u001b[1;33m,\u001b[0m \u001b[0mi\u001b[0m \u001b[1;33m=\u001b[0m \u001b[0mMdav\u001b[0m\u001b[1;33m.\u001b[0m\u001b[0mcalculate_furthest\u001b[0m\u001b[1;33m(\u001b[0m\u001b[0mcentroid\u001b[0m\u001b[1;33m,\u001b[0m \u001b[0mD\u001b[0m\u001b[1;33m)\u001b[0m\u001b[1;33m\u001b[0m\u001b[1;33m\u001b[0m\u001b[0m\n\u001b[0m\u001b[0;32m     57\u001b[0m             \u001b[0mD\u001b[0m \u001b[1;33m=\u001b[0m \u001b[0mnp\u001b[0m\u001b[1;33m.\u001b[0m\u001b[0mdelete\u001b[0m\u001b[1;33m(\u001b[0m\u001b[0mD\u001b[0m\u001b[1;33m,\u001b[0m \u001b[0mi\u001b[0m\u001b[1;33m)\u001b[0m\u001b[1;33m\u001b[0m\u001b[1;33m\u001b[0m\u001b[0m\n\u001b[0;32m     58\u001b[0m             \u001b[0mD\u001b[0m\u001b[1;33m,\u001b[0m \u001b[0mcluster\u001b[0m \u001b[1;33m=\u001b[0m \u001b[0mMdav\u001b[0m\u001b[1;33m.\u001b[0m\u001b[0mcreate_cluster\u001b[0m\u001b[1;33m(\u001b[0m\u001b[0mD\u001b[0m\u001b[1;33m,\u001b[0m \u001b[0mr\u001b[0m\u001b[1;33m,\u001b[0m \u001b[0mk\u001b[0m\u001b[1;33m)\u001b[0m\u001b[1;33m\u001b[0m\u001b[1;33m\u001b[0m\u001b[0m\n",
      "\u001b[1;32mD:\\ProgramsSoBigDataGitHub\\anonymization\\src\\algorithms\\mdav.py\u001b[0m in \u001b[0;36mcalculate_furthest\u001b[1;34m(record, records)\u001b[0m\n\u001b[0;32m     88\u001b[0m     \u001b[1;32mdef\u001b[0m \u001b[0mcalculate_furthest\u001b[0m\u001b[1;33m(\u001b[0m\u001b[0mrecord\u001b[0m\u001b[1;33m,\u001b[0m \u001b[0mrecords\u001b[0m\u001b[1;33m)\u001b[0m\u001b[1;33m:\u001b[0m\u001b[1;33m\u001b[0m\u001b[1;33m\u001b[0m\u001b[0m\n\u001b[0;32m     89\u001b[0m         \u001b[0mdistances\u001b[0m \u001b[1;33m=\u001b[0m \u001b[1;33m[\u001b[0m\u001b[0mMdav\u001b[0m\u001b[1;33m.\u001b[0m\u001b[0mdistance\u001b[0m\u001b[1;33m(\u001b[0m\u001b[0mv\u001b[0m\u001b[1;33m,\u001b[0m \u001b[0mrecord\u001b[0m\u001b[1;33m)\u001b[0m \u001b[1;32mfor\u001b[0m \u001b[0mv\u001b[0m \u001b[1;32min\u001b[0m \u001b[0mrecords\u001b[0m\u001b[1;33m]\u001b[0m\u001b[1;33m\u001b[0m\u001b[1;33m\u001b[0m\u001b[0m\n\u001b[1;32m---> 90\u001b[1;33m         \u001b[0mindex\u001b[0m \u001b[1;33m=\u001b[0m \u001b[0mnp\u001b[0m\u001b[1;33m.\u001b[0m\u001b[0margmax\u001b[0m\u001b[1;33m(\u001b[0m\u001b[0mdistances\u001b[0m\u001b[1;33m)\u001b[0m\u001b[1;33m\u001b[0m\u001b[1;33m\u001b[0m\u001b[0m\n\u001b[0m\u001b[0;32m     91\u001b[0m         \u001b[0mfurthest\u001b[0m \u001b[1;33m=\u001b[0m \u001b[0mrecords\u001b[0m\u001b[1;33m[\u001b[0m\u001b[0mindex\u001b[0m\u001b[1;33m]\u001b[0m\u001b[1;33m\u001b[0m\u001b[1;33m\u001b[0m\u001b[0m\n\u001b[0;32m     92\u001b[0m         \u001b[1;32mreturn\u001b[0m \u001b[0mfurthest\u001b[0m\u001b[1;33m,\u001b[0m \u001b[0mindex\u001b[0m\u001b[1;33m\u001b[0m\u001b[1;33m\u001b[0m\u001b[0m\n",
      "\u001b[1;32m<__array_function__ internals>\u001b[0m in \u001b[0;36margmax\u001b[1;34m(*args, **kwargs)\u001b[0m\n",
      "\u001b[1;32mc:\\users\\sergi\\appdata\\local\\programs\\python\\python37\\lib\\site-packages\\numpy\\core\\fromnumeric.py\u001b[0m in \u001b[0;36margmax\u001b[1;34m(a, axis, out)\u001b[0m\n\u001b[0;32m   1193\u001b[0m \u001b[1;33m\u001b[0m\u001b[0m\n\u001b[0;32m   1194\u001b[0m     \"\"\"\n\u001b[1;32m-> 1195\u001b[1;33m     \u001b[1;32mreturn\u001b[0m \u001b[0m_wrapfunc\u001b[0m\u001b[1;33m(\u001b[0m\u001b[0ma\u001b[0m\u001b[1;33m,\u001b[0m \u001b[1;34m'argmax'\u001b[0m\u001b[1;33m,\u001b[0m \u001b[0maxis\u001b[0m\u001b[1;33m=\u001b[0m\u001b[0maxis\u001b[0m\u001b[1;33m,\u001b[0m \u001b[0mout\u001b[0m\u001b[1;33m=\u001b[0m\u001b[0mout\u001b[0m\u001b[1;33m)\u001b[0m\u001b[1;33m\u001b[0m\u001b[1;33m\u001b[0m\u001b[0m\n\u001b[0m\u001b[0;32m   1196\u001b[0m \u001b[1;33m\u001b[0m\u001b[0m\n\u001b[0;32m   1197\u001b[0m \u001b[1;33m\u001b[0m\u001b[0m\n",
      "\u001b[1;32mc:\\users\\sergi\\appdata\\local\\programs\\python\\python37\\lib\\site-packages\\numpy\\core\\fromnumeric.py\u001b[0m in \u001b[0;36m_wrapfunc\u001b[1;34m(obj, method, *args, **kwds)\u001b[0m\n\u001b[0;32m     52\u001b[0m     \u001b[0mbound\u001b[0m \u001b[1;33m=\u001b[0m \u001b[0mgetattr\u001b[0m\u001b[1;33m(\u001b[0m\u001b[0mobj\u001b[0m\u001b[1;33m,\u001b[0m \u001b[0mmethod\u001b[0m\u001b[1;33m,\u001b[0m \u001b[1;32mNone\u001b[0m\u001b[1;33m)\u001b[0m\u001b[1;33m\u001b[0m\u001b[1;33m\u001b[0m\u001b[0m\n\u001b[0;32m     53\u001b[0m     \u001b[1;32mif\u001b[0m \u001b[0mbound\u001b[0m \u001b[1;32mis\u001b[0m \u001b[1;32mNone\u001b[0m\u001b[1;33m:\u001b[0m\u001b[1;33m\u001b[0m\u001b[1;33m\u001b[0m\u001b[0m\n\u001b[1;32m---> 54\u001b[1;33m         \u001b[1;32mreturn\u001b[0m \u001b[0m_wrapit\u001b[0m\u001b[1;33m(\u001b[0m\u001b[0mobj\u001b[0m\u001b[1;33m,\u001b[0m \u001b[0mmethod\u001b[0m\u001b[1;33m,\u001b[0m \u001b[1;33m*\u001b[0m\u001b[0margs\u001b[0m\u001b[1;33m,\u001b[0m \u001b[1;33m**\u001b[0m\u001b[0mkwds\u001b[0m\u001b[1;33m)\u001b[0m\u001b[1;33m\u001b[0m\u001b[1;33m\u001b[0m\u001b[0m\n\u001b[0m\u001b[0;32m     55\u001b[0m \u001b[1;33m\u001b[0m\u001b[0m\n\u001b[0;32m     56\u001b[0m     \u001b[1;32mtry\u001b[0m\u001b[1;33m:\u001b[0m\u001b[1;33m\u001b[0m\u001b[1;33m\u001b[0m\u001b[0m\n",
      "\u001b[1;32mc:\\users\\sergi\\appdata\\local\\programs\\python\\python37\\lib\\site-packages\\numpy\\core\\fromnumeric.py\u001b[0m in \u001b[0;36m_wrapit\u001b[1;34m(obj, method, *args, **kwds)\u001b[0m\n\u001b[0;32m     41\u001b[0m     \u001b[1;32mexcept\u001b[0m \u001b[0mAttributeError\u001b[0m\u001b[1;33m:\u001b[0m\u001b[1;33m\u001b[0m\u001b[1;33m\u001b[0m\u001b[0m\n\u001b[0;32m     42\u001b[0m         \u001b[0mwrap\u001b[0m \u001b[1;33m=\u001b[0m \u001b[1;32mNone\u001b[0m\u001b[1;33m\u001b[0m\u001b[1;33m\u001b[0m\u001b[0m\n\u001b[1;32m---> 43\u001b[1;33m     \u001b[0mresult\u001b[0m \u001b[1;33m=\u001b[0m \u001b[0mgetattr\u001b[0m\u001b[1;33m(\u001b[0m\u001b[0masarray\u001b[0m\u001b[1;33m(\u001b[0m\u001b[0mobj\u001b[0m\u001b[1;33m)\u001b[0m\u001b[1;33m,\u001b[0m \u001b[0mmethod\u001b[0m\u001b[1;33m)\u001b[0m\u001b[1;33m(\u001b[0m\u001b[1;33m*\u001b[0m\u001b[0margs\u001b[0m\u001b[1;33m,\u001b[0m \u001b[1;33m**\u001b[0m\u001b[0mkwds\u001b[0m\u001b[1;33m)\u001b[0m\u001b[1;33m\u001b[0m\u001b[1;33m\u001b[0m\u001b[0m\n\u001b[0m\u001b[0;32m     44\u001b[0m     \u001b[1;32mif\u001b[0m \u001b[0mwrap\u001b[0m\u001b[1;33m:\u001b[0m\u001b[1;33m\u001b[0m\u001b[1;33m\u001b[0m\u001b[0m\n\u001b[0;32m     45\u001b[0m         \u001b[1;32mif\u001b[0m \u001b[1;32mnot\u001b[0m \u001b[0misinstance\u001b[0m\u001b[1;33m(\u001b[0m\u001b[0mresult\u001b[0m\u001b[1;33m,\u001b[0m \u001b[0mmu\u001b[0m\u001b[1;33m.\u001b[0m\u001b[0mndarray\u001b[0m\u001b[1;33m)\u001b[0m\u001b[1;33m:\u001b[0m\u001b[1;33m\u001b[0m\u001b[1;33m\u001b[0m\u001b[0m\n",
      "\u001b[1;31mKeyboardInterrupt\u001b[0m: "
     ]
    }
   ],
   "source": [
    "k = 10\n",
    "anonymization_scheme = K_anonymity(dataset, k)\n",
    "algorithm = Mdav()\n",
    "anonymization_scheme.calculate_anonymization(algorithm)"
   ]
  },
  {
   "cell_type": "markdown",
   "metadata": {},
   "source": [
    "#### 2.3 Information loss metrics are calculated by comparing original and anonymized data set  \n",
    "Metrics calculated: Sum of Square Error (SSE) and, for each attribute, mean and variance\n"
   ]
  },
  {
   "cell_type": "code",
   "execution_count": 16,
   "metadata": {
    "scrolled": false
   },
   "outputs": [
    {
     "name": "stdout",
     "output_type": "stream",
     "text": [
      "Calculating information loss metrics\n",
      "\n",
      "Information loss metrics:\n",
      "SSE: 0.418\n"
     ]
    },
    {
     "data": {
      "text/html": [
       "<div>\n",
       "<style scoped>\n",
       "    .dataframe tbody tr th:only-of-type {\n",
       "        vertical-align: middle;\n",
       "    }\n",
       "\n",
       "    .dataframe tbody tr th {\n",
       "        vertical-align: top;\n",
       "    }\n",
       "\n",
       "    .dataframe thead th {\n",
       "        text-align: right;\n",
       "    }\n",
       "</style>\n",
       "<table border=\"1\" class=\"dataframe\">\n",
       "  <thead>\n",
       "    <tr style=\"text-align: right;\">\n",
       "      <th></th>\n",
       "      <th>Name</th>\n",
       "      <th>Original mean</th>\n",
       "      <th>Anonymized mean</th>\n",
       "      <th>Original variance</th>\n",
       "      <th>Anonymized variance</th>\n",
       "    </tr>\n",
       "  </thead>\n",
       "  <tbody>\n",
       "    <tr>\n",
       "      <th>0</th>\n",
       "      <td>age</td>\n",
       "      <td>38.5479</td>\n",
       "      <td>38.5484</td>\n",
       "      <td>174.912587</td>\n",
       "      <td>150.149043</td>\n",
       "    </tr>\n",
       "    <tr>\n",
       "      <th>1</th>\n",
       "      <td>workclass</td>\n",
       "      <td>Private</td>\n",
       "      <td>Private</td>\n",
       "      <td>0.263478</td>\n",
       "      <td>0.273318</td>\n",
       "    </tr>\n",
       "    <tr>\n",
       "      <th>2</th>\n",
       "      <td>education</td>\n",
       "      <td>HS-grad</td>\n",
       "      <td>HS-grad</td>\n",
       "      <td>0.673102</td>\n",
       "      <td>0.681306</td>\n",
       "    </tr>\n",
       "    <tr>\n",
       "      <th>3</th>\n",
       "      <td>marital-status</td>\n",
       "      <td>Married-civ-spouse</td>\n",
       "      <td>Married-civ-spouse</td>\n",
       "      <td>0.534408</td>\n",
       "      <td>0.538455</td>\n",
       "    </tr>\n",
       "    <tr>\n",
       "      <th>4</th>\n",
       "      <td>occupation</td>\n",
       "      <td>Craft-repair</td>\n",
       "      <td>Prof-specialty</td>\n",
       "      <td>0.866879</td>\n",
       "      <td>0.866437</td>\n",
       "    </tr>\n",
       "    <tr>\n",
       "      <th>5</th>\n",
       "      <td>relationship</td>\n",
       "      <td>Husband</td>\n",
       "      <td>Husband</td>\n",
       "      <td>0.587236</td>\n",
       "      <td>0.591084</td>\n",
       "    </tr>\n",
       "    <tr>\n",
       "      <th>6</th>\n",
       "      <td>race</td>\n",
       "      <td>White</td>\n",
       "      <td>White</td>\n",
       "      <td>0.139733</td>\n",
       "      <td>0.135332</td>\n",
       "    </tr>\n",
       "    <tr>\n",
       "      <th>7</th>\n",
       "      <td>sex</td>\n",
       "      <td>Male</td>\n",
       "      <td>Male</td>\n",
       "      <td>0.324952</td>\n",
       "      <td>0.335235</td>\n",
       "    </tr>\n",
       "    <tr>\n",
       "      <th>8</th>\n",
       "      <td>hours-per-week</td>\n",
       "      <td>40.938</td>\n",
       "      <td>40.9396</td>\n",
       "      <td>144.180908</td>\n",
       "      <td>123.105391</td>\n",
       "    </tr>\n",
       "    <tr>\n",
       "      <th>9</th>\n",
       "      <td>native-country</td>\n",
       "      <td>United-States</td>\n",
       "      <td>United-States</td>\n",
       "      <td>0.086905</td>\n",
       "      <td>0.039583</td>\n",
       "    </tr>\n",
       "    <tr>\n",
       "      <th>10</th>\n",
       "      <td>prediction</td>\n",
       "      <td>&lt;=50K</td>\n",
       "      <td>&lt;=50K</td>\n",
       "      <td>0.247844</td>\n",
       "      <td>0.247844</td>\n",
       "    </tr>\n",
       "  </tbody>\n",
       "</table>\n",
       "</div>"
      ],
      "text/plain": [
       "              Name       Original mean     Anonymized mean  Original variance  \\\n",
       "0              age             38.5479             38.5484         174.912587   \n",
       "1        workclass             Private             Private           0.263478   \n",
       "2        education             HS-grad             HS-grad           0.673102   \n",
       "3   marital-status  Married-civ-spouse  Married-civ-spouse           0.534408   \n",
       "4       occupation        Craft-repair      Prof-specialty           0.866879   \n",
       "5     relationship             Husband             Husband           0.587236   \n",
       "6             race               White               White           0.139733   \n",
       "7              sex                Male                Male           0.324952   \n",
       "8   hours-per-week              40.938             40.9396         144.180908   \n",
       "9   native-country       United-States       United-States           0.086905   \n",
       "10      prediction               <=50K               <=50K           0.247844   \n",
       "\n",
       "    Anonymized variance  \n",
       "0            150.149043  \n",
       "1              0.273318  \n",
       "2              0.681306  \n",
       "3              0.538455  \n",
       "4              0.866437  \n",
       "5              0.591084  \n",
       "6              0.135332  \n",
       "7              0.335235  \n",
       "8            123.105391  \n",
       "9              0.039583  \n",
       "10             0.247844  "
      ]
     },
     "metadata": {},
     "output_type": "display_data"
    }
   ],
   "source": [
    "information_loss = Anonymization_scheme.calculate_information_loss(dataset, anonymization_scheme.anonymized_dataset)\n",
    "information_loss.description()"
   ]
  },
  {
   "cell_type": "markdown",
   "metadata": {},
   "source": [
    "#### 2.4 Disclosure risk is calculated via record linkage between anonymized and original data set  \n",
    "The disclosure risk estimates the percentage of anonymized records that correct match with the original ones"
   ]
  },
  {
   "cell_type": "code",
   "execution_count": 17,
   "metadata": {},
   "outputs": [
    {
     "name": "stdout",
     "output_type": "stream",
     "text": [
      "Calculating fast record linkage (disclosure risk), window size = 452.22\n"
     ]
    },
    {
     "data": {
      "application/vnd.jupyter.widget-view+json": {
       "model_id": "d2754d0ca0434ea89f00a36d99d931b6",
       "version_major": 2,
       "version_minor": 0
      },
      "text/plain": [
       "HBox(children=(HTML(value=''), FloatProgress(value=0.0, max=45222.0), HTML(value='')))"
      ]
     },
     "metadata": {},
     "output_type": "display_data"
    },
    {
     "name": "stdout",
     "output_type": "stream",
     "text": [
      "\n",
      "Disclosure risk: 1884.426 (4.17%)\n"
     ]
    }
   ],
   "source": [
    "disclosure_risk = Anonymization_scheme.calculate_fast_record_linkage(dataset, anonymization_scheme.anonymized_dataset)\n",
    "disclosure_risk.description()"
   ]
  },
  {
   "cell_type": "markdown",
   "metadata": {},
   "source": [
    "#### 2.5 The anonymized data set can be saved to a csv formated file"
   ]
  },
  {
   "cell_type": "code",
   "execution_count": 18,
   "metadata": {
    "scrolled": true
   },
   "outputs": [
    {
     "data": {
      "text/plain": [
       "'Dataset saved: ./anonymization/output_datasets/adult_anom.csv'"
      ]
     },
     "metadata": {},
     "output_type": "display_data"
    }
   ],
   "source": [
    "anonymization_scheme.save_anonymized_dataset(\"./anonymization/output_datasets/adult_anom.csv\")"
   ]
  },
  {
   "cell_type": "markdown",
   "metadata": {},
   "source": [
    "#### 2.6 Also, the anonymized data set can be converted to DataFrame (to use as input data for other libraries)"
   ]
  },
  {
   "cell_type": "code",
   "execution_count": 19,
   "metadata": {
    "scrolled": true
   },
   "outputs": [
    {
     "data": {
      "text/html": [
       "<div>\n",
       "<style scoped>\n",
       "    .dataframe tbody tr th:only-of-type {\n",
       "        vertical-align: middle;\n",
       "    }\n",
       "\n",
       "    .dataframe tbody tr th {\n",
       "        vertical-align: top;\n",
       "    }\n",
       "\n",
       "    .dataframe thead th {\n",
       "        text-align: right;\n",
       "    }\n",
       "</style>\n",
       "<table border=\"1\" class=\"dataframe\">\n",
       "  <thead>\n",
       "    <tr style=\"text-align: right;\">\n",
       "      <th></th>\n",
       "      <th>age</th>\n",
       "      <th>workclass</th>\n",
       "      <th>education</th>\n",
       "      <th>marital-status</th>\n",
       "      <th>occupation</th>\n",
       "      <th>relationship</th>\n",
       "      <th>race</th>\n",
       "      <th>sex</th>\n",
       "      <th>hours-per-week</th>\n",
       "      <th>native-country</th>\n",
       "      <th>prediction</th>\n",
       "    </tr>\n",
       "  </thead>\n",
       "  <tbody>\n",
       "    <tr>\n",
       "      <th>0</th>\n",
       "      <td>29</td>\n",
       "      <td>Self-emp-not-inc</td>\n",
       "      <td>11th</td>\n",
       "      <td>Never-married</td>\n",
       "      <td>Farming-fishing</td>\n",
       "      <td>Own-child</td>\n",
       "      <td>Black</td>\n",
       "      <td>Male</td>\n",
       "      <td>40</td>\n",
       "      <td>United-States</td>\n",
       "      <td>&lt;=50K</td>\n",
       "    </tr>\n",
       "    <tr>\n",
       "      <th>1</th>\n",
       "      <td>28</td>\n",
       "      <td>Private</td>\n",
       "      <td>HS-grad</td>\n",
       "      <td>Married-civ-spouse</td>\n",
       "      <td>Transport-moving</td>\n",
       "      <td>Husband</td>\n",
       "      <td>White</td>\n",
       "      <td>Male</td>\n",
       "      <td>45</td>\n",
       "      <td>United-States</td>\n",
       "      <td>&lt;=50K</td>\n",
       "    </tr>\n",
       "    <tr>\n",
       "      <th>2</th>\n",
       "      <td>33</td>\n",
       "      <td>Local-gov</td>\n",
       "      <td>Assoc-acdm</td>\n",
       "      <td>Married-civ-spouse</td>\n",
       "      <td>Protective-serv</td>\n",
       "      <td>Husband</td>\n",
       "      <td>White</td>\n",
       "      <td>Male</td>\n",
       "      <td>41</td>\n",
       "      <td>United-States</td>\n",
       "      <td>&gt;50K</td>\n",
       "    </tr>\n",
       "    <tr>\n",
       "      <th>3</th>\n",
       "      <td>47</td>\n",
       "      <td>State-gov</td>\n",
       "      <td>Some-college</td>\n",
       "      <td>Married-civ-spouse</td>\n",
       "      <td>Machine-op-inspct</td>\n",
       "      <td>Husband</td>\n",
       "      <td>Black</td>\n",
       "      <td>Male</td>\n",
       "      <td>42</td>\n",
       "      <td>United-States</td>\n",
       "      <td>&gt;50K</td>\n",
       "    </tr>\n",
       "    <tr>\n",
       "      <th>4</th>\n",
       "      <td>23</td>\n",
       "      <td>Private</td>\n",
       "      <td>10th</td>\n",
       "      <td>Never-married</td>\n",
       "      <td>Other-service</td>\n",
       "      <td>Not-in-family</td>\n",
       "      <td>White</td>\n",
       "      <td>Male</td>\n",
       "      <td>30</td>\n",
       "      <td>El-Salvador</td>\n",
       "      <td>&lt;=50K</td>\n",
       "    </tr>\n",
       "  </tbody>\n",
       "</table>\n",
       "</div>"
      ],
      "text/plain": [
       "  age         workclass     education      marital-status         occupation  \\\n",
       "0  29  Self-emp-not-inc          11th       Never-married    Farming-fishing   \n",
       "1  28           Private       HS-grad  Married-civ-spouse   Transport-moving   \n",
       "2  33         Local-gov    Assoc-acdm  Married-civ-spouse    Protective-serv   \n",
       "3  47         State-gov  Some-college  Married-civ-spouse  Machine-op-inspct   \n",
       "4  23           Private          10th       Never-married      Other-service   \n",
       "\n",
       "    relationship   race   sex hours-per-week native-country prediction  \n",
       "0      Own-child  Black  Male             40  United-States      <=50K  \n",
       "1        Husband  White  Male             45  United-States      <=50K  \n",
       "2        Husband  White  Male             41  United-States       >50K  \n",
       "3        Husband  Black  Male             42  United-States       >50K  \n",
       "4  Not-in-family  White  Male             30    El-Salvador      <=50K  "
      ]
     },
     "execution_count": 19,
     "metadata": {},
     "output_type": "execute_result"
    }
   ],
   "source": [
    "df_anonymized = anonymization_scheme.anonymized_dataset_to_dataframe()\n",
    "df_anonymized.head()"
   ]
  },
  {
   "cell_type": "markdown",
   "metadata": {},
   "source": [
    "========================================================================================================================\n",
    "## 3. k-Anomymity via Microaggregation\n",
    "#### [1] Josep Domingo-Ferrer and Vicenç Torra, \"Ordinal, continuous and heterogeneous k-anonymity through microaggregation\", Data Mining and Knowledge Discovery, Vol. 11, pp. 195-212, Sep 2005. DOI: https://doi.org/10.1007/s10618-005-0007-5\n",
    "#### [4] Josep Domingo-Ferrer and Vicenç Torra, \"Disclosure risk assessment in statistical data protection\", Journal of Computational and Applied Mathematics, Vol. 164, pp. 285-293, Mar 2004. DOI: https://doi.org/10.1016/S0377-0427(03)00643-5\n",
    "### Adult data set (45222 records)\n",
    "#### k-anonymity via microaggregation (k=10) is much faster (~6 sec.) than via MDAV at the cost of utility (SSE = ~0.93)"
   ]
  },
  {
   "cell_type": "code",
   "execution_count": 20,
   "metadata": {},
   "outputs": [],
   "source": [
    "from anonymization.src.entities.dataset_DataFrame import Dataset_DataFrame\n",
    "from anonymization.src.algorithms.anonymization_scheme import Anonymization_scheme\n",
    "from anonymization.src.algorithms.k_anonymity import K_anonymity\n",
    "from anonymization.src.algorithms.microaggregation import Microaggregation\n",
    "from anonymization.src.utils import utils"
   ]
  },
  {
   "cell_type": "markdown",
   "metadata": {},
   "source": [
    "#### Following, it is indicated the path to the csv file containing the data set and the path to the xml file describing the attributes in the data set. Inside the xml file, there is a detailed descritpion about how to fill this xml file in order to properly configure the different attribute types in the data set"
   ]
  },
  {
   "cell_type": "code",
   "execution_count": 21,
   "metadata": {
    "scrolled": true
   },
   "outputs": [],
   "source": [
    "path_csv = \"./anonymization/input_datasets/adult.csv\"\n",
    "path_settings = \"./anonymization/input_datasets/metadata_adult.xml\"\n",
    "data_frame = utils.read_dataframe_from_csv(path_csv)"
   ]
  },
  {
   "cell_type": "markdown",
   "metadata": {},
   "source": [
    "#### 3.1 The data set is loaded from a DataFrame passed as parameter"
   ]
  },
  {
   "cell_type": "code",
   "execution_count": 22,
   "metadata": {
    "scrolled": false
   },
   "outputs": [
    {
     "name": "stdout",
     "output_type": "stream",
     "text": [
      "Loading dataset\n",
      "Dataset loaded: ./anonymization/input_datasets/adult.csv\n",
      "Records loaded: 45222\n",
      "Dataset: ./anonymization/input_datasets/adult.csv\n",
      "Dataset head:\n"
     ]
    },
    {
     "data": {
      "text/html": [
       "<div>\n",
       "<style scoped>\n",
       "    .dataframe tbody tr th:only-of-type {\n",
       "        vertical-align: middle;\n",
       "    }\n",
       "\n",
       "    .dataframe tbody tr th {\n",
       "        vertical-align: top;\n",
       "    }\n",
       "\n",
       "    .dataframe thead th {\n",
       "        text-align: right;\n",
       "    }\n",
       "</style>\n",
       "<table border=\"1\" class=\"dataframe\">\n",
       "  <thead>\n",
       "    <tr style=\"text-align: right;\">\n",
       "      <th></th>\n",
       "      <th>age</th>\n",
       "      <th>workclass</th>\n",
       "      <th>education</th>\n",
       "      <th>marital-status</th>\n",
       "      <th>occupation</th>\n",
       "      <th>relationship</th>\n",
       "      <th>race</th>\n",
       "      <th>sex</th>\n",
       "      <th>hours-per-week</th>\n",
       "      <th>native-country</th>\n",
       "      <th>prediction</th>\n",
       "    </tr>\n",
       "  </thead>\n",
       "  <tbody>\n",
       "    <tr>\n",
       "      <th>0</th>\n",
       "      <td>25</td>\n",
       "      <td>Private</td>\n",
       "      <td>11th</td>\n",
       "      <td>Never-married</td>\n",
       "      <td>Machine-op-inspct</td>\n",
       "      <td>Own-child</td>\n",
       "      <td>Black</td>\n",
       "      <td>Male</td>\n",
       "      <td>40</td>\n",
       "      <td>United-States</td>\n",
       "      <td>&lt;=50K</td>\n",
       "    </tr>\n",
       "    <tr>\n",
       "      <th>1</th>\n",
       "      <td>38</td>\n",
       "      <td>Private</td>\n",
       "      <td>HS-grad</td>\n",
       "      <td>Married-civ-spouse</td>\n",
       "      <td>Farming-fishing</td>\n",
       "      <td>Husband</td>\n",
       "      <td>White</td>\n",
       "      <td>Male</td>\n",
       "      <td>50</td>\n",
       "      <td>United-States</td>\n",
       "      <td>&lt;=50K</td>\n",
       "    </tr>\n",
       "    <tr>\n",
       "      <th>2</th>\n",
       "      <td>28</td>\n",
       "      <td>Local-gov</td>\n",
       "      <td>Assoc-acdm</td>\n",
       "      <td>Married-civ-spouse</td>\n",
       "      <td>Protective-serv</td>\n",
       "      <td>Husband</td>\n",
       "      <td>White</td>\n",
       "      <td>Male</td>\n",
       "      <td>40</td>\n",
       "      <td>United-States</td>\n",
       "      <td>&gt;50K</td>\n",
       "    </tr>\n",
       "    <tr>\n",
       "      <th>3</th>\n",
       "      <td>44</td>\n",
       "      <td>Private</td>\n",
       "      <td>Some-college</td>\n",
       "      <td>Married-civ-spouse</td>\n",
       "      <td>Machine-op-inspct</td>\n",
       "      <td>Husband</td>\n",
       "      <td>Black</td>\n",
       "      <td>Male</td>\n",
       "      <td>40</td>\n",
       "      <td>United-States</td>\n",
       "      <td>&gt;50K</td>\n",
       "    </tr>\n",
       "    <tr>\n",
       "      <th>4</th>\n",
       "      <td>34</td>\n",
       "      <td>Private</td>\n",
       "      <td>10th</td>\n",
       "      <td>Never-married</td>\n",
       "      <td>Other-service</td>\n",
       "      <td>Not-in-family</td>\n",
       "      <td>White</td>\n",
       "      <td>Male</td>\n",
       "      <td>30</td>\n",
       "      <td>United-States</td>\n",
       "      <td>&lt;=50K</td>\n",
       "    </tr>\n",
       "  </tbody>\n",
       "</table>\n",
       "</div>"
      ],
      "text/plain": [
       "   age  workclass     education      marital-status         occupation  \\\n",
       "0   25    Private          11th       Never-married  Machine-op-inspct   \n",
       "1   38    Private       HS-grad  Married-civ-spouse    Farming-fishing   \n",
       "2   28  Local-gov    Assoc-acdm  Married-civ-spouse    Protective-serv   \n",
       "3   44    Private  Some-college  Married-civ-spouse  Machine-op-inspct   \n",
       "4   34    Private          10th       Never-married      Other-service   \n",
       "\n",
       "    relationship   race   sex  hours-per-week native-country prediction  \n",
       "0      Own-child  Black  Male              40  United-States      <=50K  \n",
       "1        Husband  White  Male              50  United-States      <=50K  \n",
       "2        Husband  White  Male              40  United-States       >50K  \n",
       "3        Husband  Black  Male              40  United-States       >50K  \n",
       "4  Not-in-family  White  Male              30  United-States      <=50K  "
      ]
     },
     "metadata": {},
     "output_type": "display_data"
    },
    {
     "name": "stdout",
     "output_type": "stream",
     "text": [
      "\n",
      "Dataset description:\n",
      "Data set: ./anonymization/input_datasets/adult.csv\n",
      "Records: 45222\n",
      "Attributes:\n"
     ]
    },
    {
     "data": {
      "text/html": [
       "<div>\n",
       "<style scoped>\n",
       "    .dataframe tbody tr th:only-of-type {\n",
       "        vertical-align: middle;\n",
       "    }\n",
       "\n",
       "    .dataframe tbody tr th {\n",
       "        vertical-align: top;\n",
       "    }\n",
       "\n",
       "    .dataframe thead th {\n",
       "        text-align: right;\n",
       "    }\n",
       "</style>\n",
       "<table border=\"1\" class=\"dataframe\">\n",
       "  <thead>\n",
       "    <tr style=\"text-align: right;\">\n",
       "      <th></th>\n",
       "      <th>Name</th>\n",
       "      <th>Attribute_type</th>\n",
       "      <th>Sensitivity_type</th>\n",
       "    </tr>\n",
       "  </thead>\n",
       "  <tbody>\n",
       "    <tr>\n",
       "      <th>0</th>\n",
       "      <td>age</td>\n",
       "      <td>numerical_discrete</td>\n",
       "      <td>quasi_identifier</td>\n",
       "    </tr>\n",
       "    <tr>\n",
       "      <th>1</th>\n",
       "      <td>workclass</td>\n",
       "      <td>plain_categorical</td>\n",
       "      <td>quasi_identifier</td>\n",
       "    </tr>\n",
       "    <tr>\n",
       "      <th>2</th>\n",
       "      <td>education</td>\n",
       "      <td>plain_categorical</td>\n",
       "      <td>quasi_identifier</td>\n",
       "    </tr>\n",
       "    <tr>\n",
       "      <th>3</th>\n",
       "      <td>marital-status</td>\n",
       "      <td>plain_categorical</td>\n",
       "      <td>quasi_identifier</td>\n",
       "    </tr>\n",
       "    <tr>\n",
       "      <th>4</th>\n",
       "      <td>occupation</td>\n",
       "      <td>plain_categorical</td>\n",
       "      <td>quasi_identifier</td>\n",
       "    </tr>\n",
       "    <tr>\n",
       "      <th>5</th>\n",
       "      <td>relationship</td>\n",
       "      <td>plain_categorical</td>\n",
       "      <td>quasi_identifier</td>\n",
       "    </tr>\n",
       "    <tr>\n",
       "      <th>6</th>\n",
       "      <td>race</td>\n",
       "      <td>plain_categorical</td>\n",
       "      <td>quasi_identifier</td>\n",
       "    </tr>\n",
       "    <tr>\n",
       "      <th>7</th>\n",
       "      <td>sex</td>\n",
       "      <td>plain_categorical</td>\n",
       "      <td>quasi_identifier</td>\n",
       "    </tr>\n",
       "    <tr>\n",
       "      <th>8</th>\n",
       "      <td>hours-per-week</td>\n",
       "      <td>numerical_discrete</td>\n",
       "      <td>quasi_identifier</td>\n",
       "    </tr>\n",
       "    <tr>\n",
       "      <th>9</th>\n",
       "      <td>native-country</td>\n",
       "      <td>plain_categorical</td>\n",
       "      <td>quasi_identifier</td>\n",
       "    </tr>\n",
       "    <tr>\n",
       "      <th>10</th>\n",
       "      <td>prediction</td>\n",
       "      <td>plain_categorical</td>\n",
       "      <td>confidential</td>\n",
       "    </tr>\n",
       "  </tbody>\n",
       "</table>\n",
       "</div>"
      ],
      "text/plain": [
       "              Name      Attribute_type  Sensitivity_type\n",
       "0              age  numerical_discrete  quasi_identifier\n",
       "1        workclass   plain_categorical  quasi_identifier\n",
       "2        education   plain_categorical  quasi_identifier\n",
       "3   marital-status   plain_categorical  quasi_identifier\n",
       "4       occupation   plain_categorical  quasi_identifier\n",
       "5     relationship   plain_categorical  quasi_identifier\n",
       "6             race   plain_categorical  quasi_identifier\n",
       "7              sex   plain_categorical  quasi_identifier\n",
       "8   hours-per-week  numerical_discrete  quasi_identifier\n",
       "9   native-country   plain_categorical  quasi_identifier\n",
       "10      prediction   plain_categorical      confidential"
      ]
     },
     "metadata": {},
     "output_type": "display_data"
    },
    {
     "name": "stdout",
     "output_type": "stream",
     "text": [
      "\n"
     ]
    }
   ],
   "source": [
    "dataset = Dataset_DataFrame(data_frame, path_settings)\n",
    "dataset.description()"
   ]
  },
  {
   "cell_type": "markdown",
   "metadata": {},
   "source": [
    "#### 3.2 The data set is anonymized, in this case, applying k_anonymity via microaggregation with a privacy level of k=10"
   ]
  },
  {
   "cell_type": "code",
   "execution_count": 23,
   "metadata": {
    "scrolled": true
   },
   "outputs": [
    {
     "name": "stdout",
     "output_type": "stream",
     "text": [
      "Anonymizing k-Anonymity, k = 10 via Microaggregation\n"
     ]
    },
    {
     "data": {
      "application/vnd.jupyter.widget-view+json": {
       "model_id": "ff77f3917304412b8c1bcf4efe27225b",
       "version_major": 2,
       "version_minor": 0
      },
      "text/plain": [
       "HBox(children=(HTML(value=''), FloatProgress(value=0.0, max=45222.0), HTML(value='')))"
      ]
     },
     "metadata": {},
     "output_type": "display_data"
    },
    {
     "name": "stdout",
     "output_type": "stream",
     "text": [
      "\n",
      "Anonymization runtime: 0:00:14\n"
     ]
    }
   ],
   "source": [
    "k = 10\n",
    "anonymization_scheme = K_anonymity(dataset, k)\n",
    "algorithm = Microaggregation()\n",
    "anonymization_scheme.calculate_anonymization(algorithm)"
   ]
  },
  {
   "cell_type": "markdown",
   "metadata": {},
   "source": [
    "#### 3.3 Information loss metrics are calculated by comparing original and anonymized data set  \n",
    "Metrics calculated: Sum of Square Error (SSE) and, for each attribute, mean and variance\n"
   ]
  },
  {
   "cell_type": "code",
   "execution_count": 24,
   "metadata": {
    "scrolled": false
   },
   "outputs": [
    {
     "name": "stdout",
     "output_type": "stream",
     "text": [
      "Calculating information loss metrics\n",
      "\n",
      "Information loss metrics:\n",
      "SSE: 0.978\n"
     ]
    },
    {
     "data": {
      "text/html": [
       "<div>\n",
       "<style scoped>\n",
       "    .dataframe tbody tr th:only-of-type {\n",
       "        vertical-align: middle;\n",
       "    }\n",
       "\n",
       "    .dataframe tbody tr th {\n",
       "        vertical-align: top;\n",
       "    }\n",
       "\n",
       "    .dataframe thead th {\n",
       "        text-align: right;\n",
       "    }\n",
       "</style>\n",
       "<table border=\"1\" class=\"dataframe\">\n",
       "  <thead>\n",
       "    <tr style=\"text-align: right;\">\n",
       "      <th></th>\n",
       "      <th>Name</th>\n",
       "      <th>Original mean</th>\n",
       "      <th>Anonymized mean</th>\n",
       "      <th>Original variance</th>\n",
       "      <th>Anonymized variance</th>\n",
       "    </tr>\n",
       "  </thead>\n",
       "  <tbody>\n",
       "    <tr>\n",
       "      <th>0</th>\n",
       "      <td>age</td>\n",
       "      <td>38.5479</td>\n",
       "      <td>38.5437</td>\n",
       "      <td>174.912587</td>\n",
       "      <td>115.331874</td>\n",
       "    </tr>\n",
       "    <tr>\n",
       "      <th>1</th>\n",
       "      <td>workclass</td>\n",
       "      <td>Private</td>\n",
       "      <td>Private</td>\n",
       "      <td>0.263478</td>\n",
       "      <td>0.061298</td>\n",
       "    </tr>\n",
       "    <tr>\n",
       "      <th>2</th>\n",
       "      <td>education</td>\n",
       "      <td>HS-grad</td>\n",
       "      <td>HS-grad</td>\n",
       "      <td>0.673102</td>\n",
       "      <td>0.523241</td>\n",
       "    </tr>\n",
       "    <tr>\n",
       "      <th>3</th>\n",
       "      <td>marital-status</td>\n",
       "      <td>Married-civ-spouse</td>\n",
       "      <td>Married-civ-spouse</td>\n",
       "      <td>0.534408</td>\n",
       "      <td>0.479457</td>\n",
       "    </tr>\n",
       "    <tr>\n",
       "      <th>4</th>\n",
       "      <td>occupation</td>\n",
       "      <td>Craft-repair</td>\n",
       "      <td>Craft-repair</td>\n",
       "      <td>0.866879</td>\n",
       "      <td>0.814913</td>\n",
       "    </tr>\n",
       "    <tr>\n",
       "      <th>5</th>\n",
       "      <td>relationship</td>\n",
       "      <td>Husband</td>\n",
       "      <td>Husband</td>\n",
       "      <td>0.587236</td>\n",
       "      <td>0.519261</td>\n",
       "    </tr>\n",
       "    <tr>\n",
       "      <th>6</th>\n",
       "      <td>race</td>\n",
       "      <td>White</td>\n",
       "      <td>White</td>\n",
       "      <td>0.139733</td>\n",
       "      <td>0.024546</td>\n",
       "    </tr>\n",
       "    <tr>\n",
       "      <th>7</th>\n",
       "      <td>sex</td>\n",
       "      <td>Male</td>\n",
       "      <td>Male</td>\n",
       "      <td>0.324952</td>\n",
       "      <td>0.296139</td>\n",
       "    </tr>\n",
       "    <tr>\n",
       "      <th>8</th>\n",
       "      <td>hours-per-week</td>\n",
       "      <td>40.938</td>\n",
       "      <td>40.9329</td>\n",
       "      <td>144.180908</td>\n",
       "      <td>97.457167</td>\n",
       "    </tr>\n",
       "    <tr>\n",
       "      <th>9</th>\n",
       "      <td>native-country</td>\n",
       "      <td>United-States</td>\n",
       "      <td>United-States</td>\n",
       "      <td>0.086905</td>\n",
       "      <td>0.001106</td>\n",
       "    </tr>\n",
       "    <tr>\n",
       "      <th>10</th>\n",
       "      <td>prediction</td>\n",
       "      <td>&lt;=50K</td>\n",
       "      <td>&lt;=50K</td>\n",
       "      <td>0.247844</td>\n",
       "      <td>0.247844</td>\n",
       "    </tr>\n",
       "  </tbody>\n",
       "</table>\n",
       "</div>"
      ],
      "text/plain": [
       "              Name       Original mean     Anonymized mean  Original variance  \\\n",
       "0              age             38.5479             38.5437         174.912587   \n",
       "1        workclass             Private             Private           0.263478   \n",
       "2        education             HS-grad             HS-grad           0.673102   \n",
       "3   marital-status  Married-civ-spouse  Married-civ-spouse           0.534408   \n",
       "4       occupation        Craft-repair        Craft-repair           0.866879   \n",
       "5     relationship             Husband             Husband           0.587236   \n",
       "6             race               White               White           0.139733   \n",
       "7              sex                Male                Male           0.324952   \n",
       "8   hours-per-week              40.938             40.9329         144.180908   \n",
       "9   native-country       United-States       United-States           0.086905   \n",
       "10      prediction               <=50K               <=50K           0.247844   \n",
       "\n",
       "    Anonymized variance  \n",
       "0            115.331874  \n",
       "1              0.061298  \n",
       "2              0.523241  \n",
       "3              0.479457  \n",
       "4              0.814913  \n",
       "5              0.519261  \n",
       "6              0.024546  \n",
       "7              0.296139  \n",
       "8             97.457167  \n",
       "9              0.001106  \n",
       "10             0.247844  "
      ]
     },
     "metadata": {},
     "output_type": "display_data"
    }
   ],
   "source": [
    "information_loss = Anonymization_scheme.calculate_information_loss(dataset, anonymization_scheme.anonymized_dataset)\n",
    "information_loss.description()"
   ]
  },
  {
   "cell_type": "markdown",
   "metadata": {},
   "source": [
    "#### 3.4 Disclosure risk is calculated via record linkage between anonymized and original data set  \n",
    "The disclosure risk estimates the percentage of anonymized records that correct match with the original ones"
   ]
  },
  {
   "cell_type": "code",
   "execution_count": 25,
   "metadata": {},
   "outputs": [
    {
     "name": "stdout",
     "output_type": "stream",
     "text": [
      "Calculating fast record linkage (disclosure risk), window size = 452.22\n"
     ]
    },
    {
     "data": {
      "application/vnd.jupyter.widget-view+json": {
       "model_id": "050fb36c5147447cb7d49659a3b19e94",
       "version_major": 2,
       "version_minor": 0
      },
      "text/plain": [
       "HBox(children=(HTML(value=''), FloatProgress(value=0.0, max=45222.0), HTML(value='')))"
      ]
     },
     "metadata": {},
     "output_type": "display_data"
    },
    {
     "name": "stdout",
     "output_type": "stream",
     "text": [
      "\n",
      "Disclosure risk: 627.753 (1.39%)\n"
     ]
    }
   ],
   "source": [
    "disclosure_risk = Anonymization_scheme.calculate_fast_record_linkage(dataset, anonymization_scheme.anonymized_dataset)\n",
    "disclosure_risk.description()"
   ]
  },
  {
   "cell_type": "markdown",
   "metadata": {},
   "source": [
    "#### 3.5 The anonymized data set can be saved as a csv formated file"
   ]
  },
  {
   "cell_type": "code",
   "execution_count": 26,
   "metadata": {
    "scrolled": true
   },
   "outputs": [
    {
     "data": {
      "text/plain": [
       "'Dataset saved: ./anonymization/output_datasets/adult_anom.csv'"
      ]
     },
     "metadata": {},
     "output_type": "display_data"
    }
   ],
   "source": [
    "anonymization_scheme.save_anonymized_dataset(\"./anonymization/output_datasets/adult_anom.csv\")"
   ]
  },
  {
   "cell_type": "markdown",
   "metadata": {},
   "source": [
    "#### 3.6 Also, the anonymized data set can be converted to DataFrame (to use as input data for other libraries)"
   ]
  },
  {
   "cell_type": "code",
   "execution_count": 27,
   "metadata": {
    "scrolled": false
   },
   "outputs": [
    {
     "data": {
      "text/html": [
       "<div>\n",
       "<style scoped>\n",
       "    .dataframe tbody tr th:only-of-type {\n",
       "        vertical-align: middle;\n",
       "    }\n",
       "\n",
       "    .dataframe tbody tr th {\n",
       "        vertical-align: top;\n",
       "    }\n",
       "\n",
       "    .dataframe thead th {\n",
       "        text-align: right;\n",
       "    }\n",
       "</style>\n",
       "<table border=\"1\" class=\"dataframe\">\n",
       "  <thead>\n",
       "    <tr style=\"text-align: right;\">\n",
       "      <th></th>\n",
       "      <th>age</th>\n",
       "      <th>workclass</th>\n",
       "      <th>education</th>\n",
       "      <th>marital-status</th>\n",
       "      <th>occupation</th>\n",
       "      <th>relationship</th>\n",
       "      <th>race</th>\n",
       "      <th>sex</th>\n",
       "      <th>hours-per-week</th>\n",
       "      <th>native-country</th>\n",
       "      <th>prediction</th>\n",
       "    </tr>\n",
       "  </thead>\n",
       "  <tbody>\n",
       "    <tr>\n",
       "      <th>0</th>\n",
       "      <td>36</td>\n",
       "      <td>Private</td>\n",
       "      <td>HS-grad</td>\n",
       "      <td>Married-civ-spouse</td>\n",
       "      <td>Transport-moving</td>\n",
       "      <td>Husband</td>\n",
       "      <td>White</td>\n",
       "      <td>Male</td>\n",
       "      <td>56</td>\n",
       "      <td>United-States</td>\n",
       "      <td>&lt;=50K</td>\n",
       "    </tr>\n",
       "    <tr>\n",
       "      <th>1</th>\n",
       "      <td>37</td>\n",
       "      <td>Private</td>\n",
       "      <td>HS-grad</td>\n",
       "      <td>Married-civ-spouse</td>\n",
       "      <td>Sales</td>\n",
       "      <td>Husband</td>\n",
       "      <td>White</td>\n",
       "      <td>Male</td>\n",
       "      <td>36</td>\n",
       "      <td>United-States</td>\n",
       "      <td>&lt;=50K</td>\n",
       "    </tr>\n",
       "    <tr>\n",
       "      <th>2</th>\n",
       "      <td>28</td>\n",
       "      <td>Private</td>\n",
       "      <td>HS-grad</td>\n",
       "      <td>Never-married</td>\n",
       "      <td>Machine-op-inspct</td>\n",
       "      <td>Own-child</td>\n",
       "      <td>White</td>\n",
       "      <td>Male</td>\n",
       "      <td>38</td>\n",
       "      <td>United-States</td>\n",
       "      <td>&gt;50K</td>\n",
       "    </tr>\n",
       "    <tr>\n",
       "      <th>3</th>\n",
       "      <td>38</td>\n",
       "      <td>Private</td>\n",
       "      <td>Bachelors</td>\n",
       "      <td>Married-civ-spouse</td>\n",
       "      <td>Exec-managerial</td>\n",
       "      <td>Husband</td>\n",
       "      <td>White</td>\n",
       "      <td>Male</td>\n",
       "      <td>47</td>\n",
       "      <td>United-States</td>\n",
       "      <td>&gt;50K</td>\n",
       "    </tr>\n",
       "    <tr>\n",
       "      <th>4</th>\n",
       "      <td>34</td>\n",
       "      <td>Private</td>\n",
       "      <td>HS-grad</td>\n",
       "      <td>Never-married</td>\n",
       "      <td>Other-service</td>\n",
       "      <td>Not-in-family</td>\n",
       "      <td>White</td>\n",
       "      <td>Male</td>\n",
       "      <td>30</td>\n",
       "      <td>United-States</td>\n",
       "      <td>&lt;=50K</td>\n",
       "    </tr>\n",
       "  </tbody>\n",
       "</table>\n",
       "</div>"
      ],
      "text/plain": [
       "  age workclass  education      marital-status         occupation  \\\n",
       "0  36   Private    HS-grad  Married-civ-spouse   Transport-moving   \n",
       "1  37   Private    HS-grad  Married-civ-spouse              Sales   \n",
       "2  28   Private    HS-grad       Never-married  Machine-op-inspct   \n",
       "3  38   Private  Bachelors  Married-civ-spouse    Exec-managerial   \n",
       "4  34   Private    HS-grad       Never-married      Other-service   \n",
       "\n",
       "    relationship   race   sex hours-per-week native-country prediction  \n",
       "0        Husband  White  Male             56  United-States      <=50K  \n",
       "1        Husband  White  Male             36  United-States      <=50K  \n",
       "2      Own-child  White  Male             38  United-States       >50K  \n",
       "3        Husband  White  Male             47  United-States       >50K  \n",
       "4  Not-in-family  White  Male             30  United-States      <=50K  "
      ]
     },
     "execution_count": 27,
     "metadata": {},
     "output_type": "execute_result"
    }
   ],
   "source": [
    "df_anonymized = anonymization_scheme.anonymized_dataset_to_dataframe()\n",
    "df_anonymized.head()"
   ]
  },
  {
   "cell_type": "markdown",
   "metadata": {},
   "source": [
    "========================================================================================================================\n",
    "## 4. k-t-closeness via Microaggregation\n",
    "### References:\n",
    "#### [1] Josep Domingo-Ferrer and Vicenç Torra, \"Ordinal, continuous and heterogeneous k-anonymity through microaggregation\", Data Mining and Knowledge Discovery, Vol. 11, pp. 195-212, Sep 2005. DOI: https://doi.org/10.1007/s10618-005-0007-5\n",
    "#### [2] Jordi Soria-Comas, Josep Domingo-Ferrer, David Sánchez and Sergio Martínez, \"t-Closeness through microaggregation: strict privacy with enhanced utility preservation\", IEEE Transactions on Knowledge and Data Engineering, Vol. 27, no. 11, pp. 3098-3110, Oct 2015. DOI: https://doi.org/10.1109/TKDE.2015.2435777\n",
    "#### [4] Josep Domingo-Ferrer and Vicenç Torra, \"Disclosure risk assessment in statistical data protection\", Journal of Computational and Applied Mathematics, Vol. 164, pp. 285-293, Mar 2004. DOI: https://doi.org/10.1016/S0377-0427(03)00643-5\n",
    "### Adult data set (45222 records)\n",
    "#### k-t-closeness prevents attribute disclure"
   ]
  },
  {
   "cell_type": "code",
   "execution_count": 33,
   "metadata": {},
   "outputs": [],
   "source": [
    "from anonymization.src.entities.dataset_DataFrame import Dataset_DataFrame\n",
    "from anonymization.src.algorithms.anonymization_scheme import Anonymization_scheme\n",
    "from anonymization.src.algorithms.t_closeness import T_closeness\n",
    "from anonymization.src.algorithms.microaggregation import Microaggregation\n",
    "from anonymization.src.utils import utils"
   ]
  },
  {
   "cell_type": "markdown",
   "metadata": {},
   "source": [
    "#### Following, it is indicated the path to the csv file containing the data set and the path to the xml file describing the attributes in the data set. Inside the xml file, there is a detailed descritpion about how to fill this xml file in order to properly configure the different attribute types in the data set"
   ]
  },
  {
   "cell_type": "code",
   "execution_count": 34,
   "metadata": {},
   "outputs": [],
   "source": [
    "path_csv = \"./anonymization/input_datasets/adult.csv\"\n",
    "path_settings = \"./anonymization/input_datasets/metadata_adult.xml\"\n",
    "data_frame = utils.read_dataframe_from_csv(path_csv)"
   ]
  },
  {
   "cell_type": "markdown",
   "metadata": {},
   "source": [
    "#### 4.1 The data set is loaded from a DataFrame passed as parameter"
   ]
  },
  {
   "cell_type": "code",
   "execution_count": 35,
   "metadata": {
    "scrolled": false
   },
   "outputs": [
    {
     "name": "stdout",
     "output_type": "stream",
     "text": [
      "Loading dataset\n",
      "Dataset loaded: ./anonymization/input_datasets/adult.csv\n",
      "Records loaded: 45222\n",
      "Dataset: ./anonymization/input_datasets/adult.csv\n",
      "Dataset head:\n"
     ]
    },
    {
     "data": {
      "text/html": [
       "<div>\n",
       "<style scoped>\n",
       "    .dataframe tbody tr th:only-of-type {\n",
       "        vertical-align: middle;\n",
       "    }\n",
       "\n",
       "    .dataframe tbody tr th {\n",
       "        vertical-align: top;\n",
       "    }\n",
       "\n",
       "    .dataframe thead th {\n",
       "        text-align: right;\n",
       "    }\n",
       "</style>\n",
       "<table border=\"1\" class=\"dataframe\">\n",
       "  <thead>\n",
       "    <tr style=\"text-align: right;\">\n",
       "      <th></th>\n",
       "      <th>age</th>\n",
       "      <th>workclass</th>\n",
       "      <th>education</th>\n",
       "      <th>marital-status</th>\n",
       "      <th>occupation</th>\n",
       "      <th>relationship</th>\n",
       "      <th>race</th>\n",
       "      <th>sex</th>\n",
       "      <th>hours-per-week</th>\n",
       "      <th>native-country</th>\n",
       "      <th>prediction</th>\n",
       "    </tr>\n",
       "  </thead>\n",
       "  <tbody>\n",
       "    <tr>\n",
       "      <th>0</th>\n",
       "      <td>25</td>\n",
       "      <td>Private</td>\n",
       "      <td>11th</td>\n",
       "      <td>Never-married</td>\n",
       "      <td>Machine-op-inspct</td>\n",
       "      <td>Own-child</td>\n",
       "      <td>Black</td>\n",
       "      <td>Male</td>\n",
       "      <td>40</td>\n",
       "      <td>United-States</td>\n",
       "      <td>&lt;=50K</td>\n",
       "    </tr>\n",
       "    <tr>\n",
       "      <th>1</th>\n",
       "      <td>38</td>\n",
       "      <td>Private</td>\n",
       "      <td>HS-grad</td>\n",
       "      <td>Married-civ-spouse</td>\n",
       "      <td>Farming-fishing</td>\n",
       "      <td>Husband</td>\n",
       "      <td>White</td>\n",
       "      <td>Male</td>\n",
       "      <td>50</td>\n",
       "      <td>United-States</td>\n",
       "      <td>&lt;=50K</td>\n",
       "    </tr>\n",
       "    <tr>\n",
       "      <th>2</th>\n",
       "      <td>28</td>\n",
       "      <td>Local-gov</td>\n",
       "      <td>Assoc-acdm</td>\n",
       "      <td>Married-civ-spouse</td>\n",
       "      <td>Protective-serv</td>\n",
       "      <td>Husband</td>\n",
       "      <td>White</td>\n",
       "      <td>Male</td>\n",
       "      <td>40</td>\n",
       "      <td>United-States</td>\n",
       "      <td>&gt;50K</td>\n",
       "    </tr>\n",
       "    <tr>\n",
       "      <th>3</th>\n",
       "      <td>44</td>\n",
       "      <td>Private</td>\n",
       "      <td>Some-college</td>\n",
       "      <td>Married-civ-spouse</td>\n",
       "      <td>Machine-op-inspct</td>\n",
       "      <td>Husband</td>\n",
       "      <td>Black</td>\n",
       "      <td>Male</td>\n",
       "      <td>40</td>\n",
       "      <td>United-States</td>\n",
       "      <td>&gt;50K</td>\n",
       "    </tr>\n",
       "    <tr>\n",
       "      <th>4</th>\n",
       "      <td>34</td>\n",
       "      <td>Private</td>\n",
       "      <td>10th</td>\n",
       "      <td>Never-married</td>\n",
       "      <td>Other-service</td>\n",
       "      <td>Not-in-family</td>\n",
       "      <td>White</td>\n",
       "      <td>Male</td>\n",
       "      <td>30</td>\n",
       "      <td>United-States</td>\n",
       "      <td>&lt;=50K</td>\n",
       "    </tr>\n",
       "  </tbody>\n",
       "</table>\n",
       "</div>"
      ],
      "text/plain": [
       "   age  workclass     education      marital-status         occupation  \\\n",
       "0   25    Private          11th       Never-married  Machine-op-inspct   \n",
       "1   38    Private       HS-grad  Married-civ-spouse    Farming-fishing   \n",
       "2   28  Local-gov    Assoc-acdm  Married-civ-spouse    Protective-serv   \n",
       "3   44    Private  Some-college  Married-civ-spouse  Machine-op-inspct   \n",
       "4   34    Private          10th       Never-married      Other-service   \n",
       "\n",
       "    relationship   race   sex  hours-per-week native-country prediction  \n",
       "0      Own-child  Black  Male              40  United-States      <=50K  \n",
       "1        Husband  White  Male              50  United-States      <=50K  \n",
       "2        Husband  White  Male              40  United-States       >50K  \n",
       "3        Husband  Black  Male              40  United-States       >50K  \n",
       "4  Not-in-family  White  Male              30  United-States      <=50K  "
      ]
     },
     "metadata": {},
     "output_type": "display_data"
    },
    {
     "name": "stdout",
     "output_type": "stream",
     "text": [
      "\n",
      "Dataset description:\n",
      "Data set: ./anonymization/input_datasets/adult.csv\n",
      "Records: 45222\n",
      "Attributes:\n"
     ]
    },
    {
     "data": {
      "text/html": [
       "<div>\n",
       "<style scoped>\n",
       "    .dataframe tbody tr th:only-of-type {\n",
       "        vertical-align: middle;\n",
       "    }\n",
       "\n",
       "    .dataframe tbody tr th {\n",
       "        vertical-align: top;\n",
       "    }\n",
       "\n",
       "    .dataframe thead th {\n",
       "        text-align: right;\n",
       "    }\n",
       "</style>\n",
       "<table border=\"1\" class=\"dataframe\">\n",
       "  <thead>\n",
       "    <tr style=\"text-align: right;\">\n",
       "      <th></th>\n",
       "      <th>Name</th>\n",
       "      <th>Attribute_type</th>\n",
       "      <th>Sensitivity_type</th>\n",
       "    </tr>\n",
       "  </thead>\n",
       "  <tbody>\n",
       "    <tr>\n",
       "      <th>0</th>\n",
       "      <td>age</td>\n",
       "      <td>numerical_discrete</td>\n",
       "      <td>quasi_identifier</td>\n",
       "    </tr>\n",
       "    <tr>\n",
       "      <th>1</th>\n",
       "      <td>workclass</td>\n",
       "      <td>plain_categorical</td>\n",
       "      <td>quasi_identifier</td>\n",
       "    </tr>\n",
       "    <tr>\n",
       "      <th>2</th>\n",
       "      <td>education</td>\n",
       "      <td>plain_categorical</td>\n",
       "      <td>quasi_identifier</td>\n",
       "    </tr>\n",
       "    <tr>\n",
       "      <th>3</th>\n",
       "      <td>marital-status</td>\n",
       "      <td>plain_categorical</td>\n",
       "      <td>quasi_identifier</td>\n",
       "    </tr>\n",
       "    <tr>\n",
       "      <th>4</th>\n",
       "      <td>occupation</td>\n",
       "      <td>plain_categorical</td>\n",
       "      <td>quasi_identifier</td>\n",
       "    </tr>\n",
       "    <tr>\n",
       "      <th>5</th>\n",
       "      <td>relationship</td>\n",
       "      <td>plain_categorical</td>\n",
       "      <td>quasi_identifier</td>\n",
       "    </tr>\n",
       "    <tr>\n",
       "      <th>6</th>\n",
       "      <td>race</td>\n",
       "      <td>plain_categorical</td>\n",
       "      <td>quasi_identifier</td>\n",
       "    </tr>\n",
       "    <tr>\n",
       "      <th>7</th>\n",
       "      <td>sex</td>\n",
       "      <td>plain_categorical</td>\n",
       "      <td>quasi_identifier</td>\n",
       "    </tr>\n",
       "    <tr>\n",
       "      <th>8</th>\n",
       "      <td>hours-per-week</td>\n",
       "      <td>numerical_discrete</td>\n",
       "      <td>quasi_identifier</td>\n",
       "    </tr>\n",
       "    <tr>\n",
       "      <th>9</th>\n",
       "      <td>native-country</td>\n",
       "      <td>plain_categorical</td>\n",
       "      <td>quasi_identifier</td>\n",
       "    </tr>\n",
       "    <tr>\n",
       "      <th>10</th>\n",
       "      <td>prediction</td>\n",
       "      <td>plain_categorical</td>\n",
       "      <td>confidential</td>\n",
       "    </tr>\n",
       "  </tbody>\n",
       "</table>\n",
       "</div>"
      ],
      "text/plain": [
       "              Name      Attribute_type  Sensitivity_type\n",
       "0              age  numerical_discrete  quasi_identifier\n",
       "1        workclass   plain_categorical  quasi_identifier\n",
       "2        education   plain_categorical  quasi_identifier\n",
       "3   marital-status   plain_categorical  quasi_identifier\n",
       "4       occupation   plain_categorical  quasi_identifier\n",
       "5     relationship   plain_categorical  quasi_identifier\n",
       "6             race   plain_categorical  quasi_identifier\n",
       "7              sex   plain_categorical  quasi_identifier\n",
       "8   hours-per-week  numerical_discrete  quasi_identifier\n",
       "9   native-country   plain_categorical  quasi_identifier\n",
       "10      prediction   plain_categorical      confidential"
      ]
     },
     "metadata": {},
     "output_type": "display_data"
    },
    {
     "name": "stdout",
     "output_type": "stream",
     "text": [
      "\n"
     ]
    }
   ],
   "source": [
    "dataset = Dataset_DataFrame(data_frame, path_settings)\n",
    "dataset.description()"
   ]
  },
  {
   "cell_type": "markdown",
   "metadata": {},
   "source": [
    "#### 4.2 The data set is anonymized, in this case, applying t-k-closeness via microaggregation with a privacy level of k=10 and t=0.25"
   ]
  },
  {
   "cell_type": "code",
   "execution_count": 36,
   "metadata": {
    "scrolled": true
   },
   "outputs": [
    {
     "name": "stdout",
     "output_type": "stream",
     "text": [
      "Anonymizing k-t-Closeness, k = 10, t = 0.25 via Microaggregation\n",
      "Sorting by confidential attribute: prediction\n",
      "Creating k subsets (10)\n",
      "Sorting each subset by quasi-identifiers\n",
      "Creating clusters\n",
      "Anonymizing\n",
      "Anonymization runtime: 0:00:11\n"
     ]
    }
   ],
   "source": [
    "k = 10\n",
    "t = 0.25\n",
    "anonymization_scheme = T_closeness(dataset, k, t)\n",
    "algorithm = Microaggregation()\n",
    "anonymization_scheme.calculate_anonymization(algorithm)"
   ]
  },
  {
   "cell_type": "markdown",
   "metadata": {},
   "source": [
    "#### 4.3 Information loss metrics are calculated by comparing original and anonymized data set  \n",
    "Metrics calculated: Sum of Square Error (SSE) and, for each attribute, mean and variance\n"
   ]
  },
  {
   "cell_type": "code",
   "execution_count": 37,
   "metadata": {
    "scrolled": false
   },
   "outputs": [
    {
     "name": "stdout",
     "output_type": "stream",
     "text": [
      "Calculating information loss metrics\n",
      "\n",
      "Information loss metrics:\n",
      "SSE: 1.106\n"
     ]
    },
    {
     "data": {
      "text/html": [
       "<div>\n",
       "<style scoped>\n",
       "    .dataframe tbody tr th:only-of-type {\n",
       "        vertical-align: middle;\n",
       "    }\n",
       "\n",
       "    .dataframe tbody tr th {\n",
       "        vertical-align: top;\n",
       "    }\n",
       "\n",
       "    .dataframe thead th {\n",
       "        text-align: right;\n",
       "    }\n",
       "</style>\n",
       "<table border=\"1\" class=\"dataframe\">\n",
       "  <thead>\n",
       "    <tr style=\"text-align: right;\">\n",
       "      <th></th>\n",
       "      <th>Name</th>\n",
       "      <th>Original mean</th>\n",
       "      <th>Anonymized mean</th>\n",
       "      <th>Original variance</th>\n",
       "      <th>Anonymized variance</th>\n",
       "    </tr>\n",
       "  </thead>\n",
       "  <tbody>\n",
       "    <tr>\n",
       "      <th>0</th>\n",
       "      <td>age</td>\n",
       "      <td>38.5479</td>\n",
       "      <td>38.542</td>\n",
       "      <td>174.912587</td>\n",
       "      <td>44.272367</td>\n",
       "    </tr>\n",
       "    <tr>\n",
       "      <th>1</th>\n",
       "      <td>workclass</td>\n",
       "      <td>Private</td>\n",
       "      <td>Private</td>\n",
       "      <td>0.263478</td>\n",
       "      <td>0.032528</td>\n",
       "    </tr>\n",
       "    <tr>\n",
       "      <th>2</th>\n",
       "      <td>education</td>\n",
       "      <td>HS-grad</td>\n",
       "      <td>HS-grad</td>\n",
       "      <td>0.673102</td>\n",
       "      <td>0.477422</td>\n",
       "    </tr>\n",
       "    <tr>\n",
       "      <th>3</th>\n",
       "      <td>marital-status</td>\n",
       "      <td>Married-civ-spouse</td>\n",
       "      <td>Married-civ-spouse</td>\n",
       "      <td>0.534408</td>\n",
       "      <td>0.439388</td>\n",
       "    </tr>\n",
       "    <tr>\n",
       "      <th>4</th>\n",
       "      <td>occupation</td>\n",
       "      <td>Craft-repair</td>\n",
       "      <td>Craft-repair</td>\n",
       "      <td>0.866879</td>\n",
       "      <td>0.809363</td>\n",
       "    </tr>\n",
       "    <tr>\n",
       "      <th>5</th>\n",
       "      <td>relationship</td>\n",
       "      <td>Husband</td>\n",
       "      <td>Husband</td>\n",
       "      <td>0.587236</td>\n",
       "      <td>0.469705</td>\n",
       "    </tr>\n",
       "    <tr>\n",
       "      <th>6</th>\n",
       "      <td>race</td>\n",
       "      <td>White</td>\n",
       "      <td>White</td>\n",
       "      <td>0.139733</td>\n",
       "      <td>0.005528</td>\n",
       "    </tr>\n",
       "    <tr>\n",
       "      <th>7</th>\n",
       "      <td>sex</td>\n",
       "      <td>Male</td>\n",
       "      <td>Male</td>\n",
       "      <td>0.324952</td>\n",
       "      <td>0.245920</td>\n",
       "    </tr>\n",
       "    <tr>\n",
       "      <th>8</th>\n",
       "      <td>hours-per-week</td>\n",
       "      <td>40.938</td>\n",
       "      <td>40.9433</td>\n",
       "      <td>144.180908</td>\n",
       "      <td>62.766950</td>\n",
       "    </tr>\n",
       "    <tr>\n",
       "      <th>9</th>\n",
       "      <td>native-country</td>\n",
       "      <td>United-States</td>\n",
       "      <td>United-States</td>\n",
       "      <td>0.086905</td>\n",
       "      <td>0.000000</td>\n",
       "    </tr>\n",
       "    <tr>\n",
       "      <th>10</th>\n",
       "      <td>prediction</td>\n",
       "      <td>&lt;=50K</td>\n",
       "      <td>&lt;=50K</td>\n",
       "      <td>0.247844</td>\n",
       "      <td>0.247844</td>\n",
       "    </tr>\n",
       "  </tbody>\n",
       "</table>\n",
       "</div>"
      ],
      "text/plain": [
       "              Name       Original mean     Anonymized mean  Original variance  \\\n",
       "0              age             38.5479              38.542         174.912587   \n",
       "1        workclass             Private             Private           0.263478   \n",
       "2        education             HS-grad             HS-grad           0.673102   \n",
       "3   marital-status  Married-civ-spouse  Married-civ-spouse           0.534408   \n",
       "4       occupation        Craft-repair        Craft-repair           0.866879   \n",
       "5     relationship             Husband             Husband           0.587236   \n",
       "6             race               White               White           0.139733   \n",
       "7              sex                Male                Male           0.324952   \n",
       "8   hours-per-week              40.938             40.9433         144.180908   \n",
       "9   native-country       United-States       United-States           0.086905   \n",
       "10      prediction               <=50K               <=50K           0.247844   \n",
       "\n",
       "    Anonymized variance  \n",
       "0             44.272367  \n",
       "1              0.032528  \n",
       "2              0.477422  \n",
       "3              0.439388  \n",
       "4              0.809363  \n",
       "5              0.469705  \n",
       "6              0.005528  \n",
       "7              0.245920  \n",
       "8             62.766950  \n",
       "9              0.000000  \n",
       "10             0.247844  "
      ]
     },
     "metadata": {},
     "output_type": "display_data"
    }
   ],
   "source": [
    "information_loss = Anonymization_scheme.calculate_information_loss(dataset, anonymization_scheme.anonymized_dataset)\n",
    "information_loss.description()"
   ]
  },
  {
   "cell_type": "markdown",
   "metadata": {},
   "source": [
    "#### 4.4 Disclosure risk is calculated via record linkage between anonymized and original data set  \n",
    "The disclosure risk estimates the percentage of anonymized records that correct match with the original ones"
   ]
  },
  {
   "cell_type": "code",
   "execution_count": 38,
   "metadata": {},
   "outputs": [
    {
     "name": "stdout",
     "output_type": "stream",
     "text": [
      "Calculating fast record linkage (disclosure risk), window size = 452.22\n"
     ]
    },
    {
     "data": {
      "application/vnd.jupyter.widget-view+json": {
       "model_id": "03f5724bf3e84c5e8e5538778c3743d4",
       "version_major": 2,
       "version_minor": 0
      },
      "text/plain": [
       "HBox(children=(HTML(value=''), FloatProgress(value=0.0, max=45222.0), HTML(value='')))"
      ]
     },
     "metadata": {},
     "output_type": "display_data"
    },
    {
     "name": "stdout",
     "output_type": "stream",
     "text": [
      "\n",
      "Disclosure risk: 31.479 (0.07%)\n"
     ]
    }
   ],
   "source": [
    "disclosure_risk = Anonymization_scheme.calculate_fast_record_linkage(dataset, anonymization_scheme.anonymized_dataset)\n",
    "disclosure_risk.description()"
   ]
  },
  {
   "cell_type": "markdown",
   "metadata": {},
   "source": [
    "#### 4.5 The anonymized data set can be saved to a csv formated file"
   ]
  },
  {
   "cell_type": "code",
   "execution_count": 39,
   "metadata": {
    "scrolled": true
   },
   "outputs": [
    {
     "data": {
      "text/plain": [
       "'Dataset saved: ./anonymization/output_datasets/adult_anom.csv'"
      ]
     },
     "metadata": {},
     "output_type": "display_data"
    }
   ],
   "source": [
    "anonymization_scheme.save_anonymized_dataset(\"./anonymization/output_datasets/adult_anom.csv\")"
   ]
  },
  {
   "cell_type": "markdown",
   "metadata": {},
   "source": [
    "#### 4.6 Also, the anonymized data set can be converted to DataFrame (to use as input data for other libraries)"
   ]
  },
  {
   "cell_type": "code",
   "execution_count": 40,
   "metadata": {
    "scrolled": false
   },
   "outputs": [
    {
     "data": {
      "text/html": [
       "<div>\n",
       "<style scoped>\n",
       "    .dataframe tbody tr th:only-of-type {\n",
       "        vertical-align: middle;\n",
       "    }\n",
       "\n",
       "    .dataframe tbody tr th {\n",
       "        vertical-align: top;\n",
       "    }\n",
       "\n",
       "    .dataframe thead th {\n",
       "        text-align: right;\n",
       "    }\n",
       "</style>\n",
       "<table border=\"1\" class=\"dataframe\">\n",
       "  <thead>\n",
       "    <tr style=\"text-align: right;\">\n",
       "      <th></th>\n",
       "      <th>age</th>\n",
       "      <th>workclass</th>\n",
       "      <th>education</th>\n",
       "      <th>marital-status</th>\n",
       "      <th>occupation</th>\n",
       "      <th>relationship</th>\n",
       "      <th>race</th>\n",
       "      <th>sex</th>\n",
       "      <th>hours-per-week</th>\n",
       "      <th>native-country</th>\n",
       "      <th>prediction</th>\n",
       "    </tr>\n",
       "  </thead>\n",
       "  <tbody>\n",
       "    <tr>\n",
       "      <th>0</th>\n",
       "      <td>33</td>\n",
       "      <td>Private</td>\n",
       "      <td>Some-college</td>\n",
       "      <td>Never-married</td>\n",
       "      <td>Machine-op-inspct</td>\n",
       "      <td>Own-child</td>\n",
       "      <td>White</td>\n",
       "      <td>Male</td>\n",
       "      <td>42</td>\n",
       "      <td>United-States</td>\n",
       "      <td>&lt;=50K</td>\n",
       "    </tr>\n",
       "    <tr>\n",
       "      <th>1</th>\n",
       "      <td>38</td>\n",
       "      <td>Private</td>\n",
       "      <td>HS-grad</td>\n",
       "      <td>Married-civ-spouse</td>\n",
       "      <td>Exec-managerial</td>\n",
       "      <td>Husband</td>\n",
       "      <td>White</td>\n",
       "      <td>Male</td>\n",
       "      <td>29</td>\n",
       "      <td>United-States</td>\n",
       "      <td>&lt;=50K</td>\n",
       "    </tr>\n",
       "    <tr>\n",
       "      <th>2</th>\n",
       "      <td>38</td>\n",
       "      <td>Private</td>\n",
       "      <td>HS-grad</td>\n",
       "      <td>Married-civ-spouse</td>\n",
       "      <td>Craft-repair</td>\n",
       "      <td>Husband</td>\n",
       "      <td>White</td>\n",
       "      <td>Male</td>\n",
       "      <td>41</td>\n",
       "      <td>United-States</td>\n",
       "      <td>&gt;50K</td>\n",
       "    </tr>\n",
       "    <tr>\n",
       "      <th>3</th>\n",
       "      <td>31</td>\n",
       "      <td>Private</td>\n",
       "      <td>Some-college</td>\n",
       "      <td>Never-married</td>\n",
       "      <td>Sales</td>\n",
       "      <td>Own-child</td>\n",
       "      <td>White</td>\n",
       "      <td>Male</td>\n",
       "      <td>38</td>\n",
       "      <td>United-States</td>\n",
       "      <td>&gt;50K</td>\n",
       "    </tr>\n",
       "    <tr>\n",
       "      <th>4</th>\n",
       "      <td>44</td>\n",
       "      <td>Private</td>\n",
       "      <td>HS-grad</td>\n",
       "      <td>Married-civ-spouse</td>\n",
       "      <td>Other-service</td>\n",
       "      <td>Husband</td>\n",
       "      <td>White</td>\n",
       "      <td>Male</td>\n",
       "      <td>35</td>\n",
       "      <td>United-States</td>\n",
       "      <td>&lt;=50K</td>\n",
       "    </tr>\n",
       "  </tbody>\n",
       "</table>\n",
       "</div>"
      ],
      "text/plain": [
       "  age workclass     education      marital-status         occupation  \\\n",
       "0  33   Private  Some-college       Never-married  Machine-op-inspct   \n",
       "1  38   Private       HS-grad  Married-civ-spouse    Exec-managerial   \n",
       "2  38   Private       HS-grad  Married-civ-spouse       Craft-repair   \n",
       "3  31   Private  Some-college       Never-married              Sales   \n",
       "4  44   Private       HS-grad  Married-civ-spouse      Other-service   \n",
       "\n",
       "  relationship   race   sex hours-per-week native-country prediction  \n",
       "0    Own-child  White  Male             42  United-States      <=50K  \n",
       "1      Husband  White  Male             29  United-States      <=50K  \n",
       "2      Husband  White  Male             41  United-States       >50K  \n",
       "3    Own-child  White  Male             38  United-States       >50K  \n",
       "4      Husband  White  Male             35  United-States      <=50K  "
      ]
     },
     "execution_count": 40,
     "metadata": {},
     "output_type": "execute_result"
    }
   ],
   "source": [
    "df_anonymized = anonymization_scheme.anonymized_dataset_to_dataframe()\n",
    "df_anonymized.head()"
   ]
  },
  {
   "cell_type": "markdown",
   "metadata": {},
   "source": [
    "========================================================================================================================\n",
    "## 5. Differential privacy via MDAV\n",
    "### References:\n",
    "#### [1] Josep Domingo-Ferrer and Vicenç Torra, \"Ordinal, continuous and heterogeneous k-anonymity through microaggregation\", Data Mining and Knowledge Discovery, Vol. 11, pp. 195-212, Sep 2005. DOI: https://doi.org/10.1007/s10618-005-0007-5\n",
    "#### [3] Jordi Soria-Comas, Josep Domingo-Ferrer, David Sánchez and Sergio Martínez, \"Enhancing data utility in differential privacy via microaggregation-based k-anonymity\", The VLDB Journal, Vol. 23, no. 5, pp. 771-794, Sep 2014. DOI: https://doi.org/10.1007/s00778-014-0351-4\n",
    "#### [4] Josep Domingo-Ferrer and Vicenç Torra, \"Disclosure risk assessment in statistical data protection\", Journal of Computational and Applied Mathematics, Vol. 164, pp. 285-293, Mar 2004. DOI: https://doi.org/10.1016/S0377-0427(03)00643-5\n",
    "### Adult data set (45222 records)\n",
    "#### Differential privacy offers privacy guarantees at the cost of the lost of the original data utility"
   ]
  },
  {
   "cell_type": "code",
   "execution_count": 41,
   "metadata": {},
   "outputs": [],
   "source": [
    "from anonymization.src.entities.dataset_DataFrame import Dataset_DataFrame\n",
    "from anonymization.src.algorithms.anonymization_scheme import Anonymization_scheme\n",
    "from anonymization.src.algorithms.differential_privacy import Differential_privacy\n",
    "from anonymization.src.algorithms.microaggregation import Microaggregation\n",
    "from anonymization.src.utils import utils"
   ]
  },
  {
   "cell_type": "markdown",
   "metadata": {},
   "source": [
    "#### Following, it is indicated the path to the csv file containing the data set and the path to the xml file describing the attributes in the data set. Inside the xml file, there is a detailed descritpion about how to fill this xml file in order to properly configure the different attribute types in the data set"
   ]
  },
  {
   "cell_type": "code",
   "execution_count": 42,
   "metadata": {},
   "outputs": [],
   "source": [
    "path_csv = \"./anonymization/input_datasets/adult.csv\"\n",
    "path_settings = \"./anonymization/input_datasets/metadata_adult.xml\"\n",
    "data_frame = utils.read_dataframe_from_csv(path_csv)"
   ]
  },
  {
   "cell_type": "markdown",
   "metadata": {},
   "source": [
    "#### 5.1 The data set is loaded from a DataFrame passed as parameter"
   ]
  },
  {
   "cell_type": "code",
   "execution_count": 43,
   "metadata": {
    "scrolled": false
   },
   "outputs": [
    {
     "name": "stdout",
     "output_type": "stream",
     "text": [
      "Loading dataset\n",
      "Dataset loaded: ./anonymization/input_datasets/adult.csv\n",
      "Records loaded: 45222\n",
      "Dataset: ./anonymization/input_datasets/adult.csv\n",
      "Dataset head:\n"
     ]
    },
    {
     "data": {
      "text/html": [
       "<div>\n",
       "<style scoped>\n",
       "    .dataframe tbody tr th:only-of-type {\n",
       "        vertical-align: middle;\n",
       "    }\n",
       "\n",
       "    .dataframe tbody tr th {\n",
       "        vertical-align: top;\n",
       "    }\n",
       "\n",
       "    .dataframe thead th {\n",
       "        text-align: right;\n",
       "    }\n",
       "</style>\n",
       "<table border=\"1\" class=\"dataframe\">\n",
       "  <thead>\n",
       "    <tr style=\"text-align: right;\">\n",
       "      <th></th>\n",
       "      <th>age</th>\n",
       "      <th>workclass</th>\n",
       "      <th>education</th>\n",
       "      <th>marital-status</th>\n",
       "      <th>occupation</th>\n",
       "      <th>relationship</th>\n",
       "      <th>race</th>\n",
       "      <th>sex</th>\n",
       "      <th>hours-per-week</th>\n",
       "      <th>native-country</th>\n",
       "      <th>prediction</th>\n",
       "    </tr>\n",
       "  </thead>\n",
       "  <tbody>\n",
       "    <tr>\n",
       "      <th>0</th>\n",
       "      <td>25</td>\n",
       "      <td>Private</td>\n",
       "      <td>11th</td>\n",
       "      <td>Never-married</td>\n",
       "      <td>Machine-op-inspct</td>\n",
       "      <td>Own-child</td>\n",
       "      <td>Black</td>\n",
       "      <td>Male</td>\n",
       "      <td>40</td>\n",
       "      <td>United-States</td>\n",
       "      <td>&lt;=50K</td>\n",
       "    </tr>\n",
       "    <tr>\n",
       "      <th>1</th>\n",
       "      <td>38</td>\n",
       "      <td>Private</td>\n",
       "      <td>HS-grad</td>\n",
       "      <td>Married-civ-spouse</td>\n",
       "      <td>Farming-fishing</td>\n",
       "      <td>Husband</td>\n",
       "      <td>White</td>\n",
       "      <td>Male</td>\n",
       "      <td>50</td>\n",
       "      <td>United-States</td>\n",
       "      <td>&lt;=50K</td>\n",
       "    </tr>\n",
       "    <tr>\n",
       "      <th>2</th>\n",
       "      <td>28</td>\n",
       "      <td>Local-gov</td>\n",
       "      <td>Assoc-acdm</td>\n",
       "      <td>Married-civ-spouse</td>\n",
       "      <td>Protective-serv</td>\n",
       "      <td>Husband</td>\n",
       "      <td>White</td>\n",
       "      <td>Male</td>\n",
       "      <td>40</td>\n",
       "      <td>United-States</td>\n",
       "      <td>&gt;50K</td>\n",
       "    </tr>\n",
       "    <tr>\n",
       "      <th>3</th>\n",
       "      <td>44</td>\n",
       "      <td>Private</td>\n",
       "      <td>Some-college</td>\n",
       "      <td>Married-civ-spouse</td>\n",
       "      <td>Machine-op-inspct</td>\n",
       "      <td>Husband</td>\n",
       "      <td>Black</td>\n",
       "      <td>Male</td>\n",
       "      <td>40</td>\n",
       "      <td>United-States</td>\n",
       "      <td>&gt;50K</td>\n",
       "    </tr>\n",
       "    <tr>\n",
       "      <th>4</th>\n",
       "      <td>34</td>\n",
       "      <td>Private</td>\n",
       "      <td>10th</td>\n",
       "      <td>Never-married</td>\n",
       "      <td>Other-service</td>\n",
       "      <td>Not-in-family</td>\n",
       "      <td>White</td>\n",
       "      <td>Male</td>\n",
       "      <td>30</td>\n",
       "      <td>United-States</td>\n",
       "      <td>&lt;=50K</td>\n",
       "    </tr>\n",
       "  </tbody>\n",
       "</table>\n",
       "</div>"
      ],
      "text/plain": [
       "   age  workclass     education      marital-status         occupation  \\\n",
       "0   25    Private          11th       Never-married  Machine-op-inspct   \n",
       "1   38    Private       HS-grad  Married-civ-spouse    Farming-fishing   \n",
       "2   28  Local-gov    Assoc-acdm  Married-civ-spouse    Protective-serv   \n",
       "3   44    Private  Some-college  Married-civ-spouse  Machine-op-inspct   \n",
       "4   34    Private          10th       Never-married      Other-service   \n",
       "\n",
       "    relationship   race   sex  hours-per-week native-country prediction  \n",
       "0      Own-child  Black  Male              40  United-States      <=50K  \n",
       "1        Husband  White  Male              50  United-States      <=50K  \n",
       "2        Husband  White  Male              40  United-States       >50K  \n",
       "3        Husband  Black  Male              40  United-States       >50K  \n",
       "4  Not-in-family  White  Male              30  United-States      <=50K  "
      ]
     },
     "metadata": {},
     "output_type": "display_data"
    },
    {
     "name": "stdout",
     "output_type": "stream",
     "text": [
      "\n",
      "Dataset description:\n",
      "Data set: ./anonymization/input_datasets/adult.csv\n",
      "Records: 45222\n",
      "Attributes:\n"
     ]
    },
    {
     "data": {
      "text/html": [
       "<div>\n",
       "<style scoped>\n",
       "    .dataframe tbody tr th:only-of-type {\n",
       "        vertical-align: middle;\n",
       "    }\n",
       "\n",
       "    .dataframe tbody tr th {\n",
       "        vertical-align: top;\n",
       "    }\n",
       "\n",
       "    .dataframe thead th {\n",
       "        text-align: right;\n",
       "    }\n",
       "</style>\n",
       "<table border=\"1\" class=\"dataframe\">\n",
       "  <thead>\n",
       "    <tr style=\"text-align: right;\">\n",
       "      <th></th>\n",
       "      <th>Name</th>\n",
       "      <th>Attribute_type</th>\n",
       "      <th>Sensitivity_type</th>\n",
       "    </tr>\n",
       "  </thead>\n",
       "  <tbody>\n",
       "    <tr>\n",
       "      <th>0</th>\n",
       "      <td>age</td>\n",
       "      <td>numerical_discrete</td>\n",
       "      <td>quasi_identifier</td>\n",
       "    </tr>\n",
       "    <tr>\n",
       "      <th>1</th>\n",
       "      <td>workclass</td>\n",
       "      <td>plain_categorical</td>\n",
       "      <td>quasi_identifier</td>\n",
       "    </tr>\n",
       "    <tr>\n",
       "      <th>2</th>\n",
       "      <td>education</td>\n",
       "      <td>plain_categorical</td>\n",
       "      <td>quasi_identifier</td>\n",
       "    </tr>\n",
       "    <tr>\n",
       "      <th>3</th>\n",
       "      <td>marital-status</td>\n",
       "      <td>plain_categorical</td>\n",
       "      <td>quasi_identifier</td>\n",
       "    </tr>\n",
       "    <tr>\n",
       "      <th>4</th>\n",
       "      <td>occupation</td>\n",
       "      <td>plain_categorical</td>\n",
       "      <td>quasi_identifier</td>\n",
       "    </tr>\n",
       "    <tr>\n",
       "      <th>5</th>\n",
       "      <td>relationship</td>\n",
       "      <td>plain_categorical</td>\n",
       "      <td>quasi_identifier</td>\n",
       "    </tr>\n",
       "    <tr>\n",
       "      <th>6</th>\n",
       "      <td>race</td>\n",
       "      <td>plain_categorical</td>\n",
       "      <td>quasi_identifier</td>\n",
       "    </tr>\n",
       "    <tr>\n",
       "      <th>7</th>\n",
       "      <td>sex</td>\n",
       "      <td>plain_categorical</td>\n",
       "      <td>quasi_identifier</td>\n",
       "    </tr>\n",
       "    <tr>\n",
       "      <th>8</th>\n",
       "      <td>hours-per-week</td>\n",
       "      <td>numerical_discrete</td>\n",
       "      <td>quasi_identifier</td>\n",
       "    </tr>\n",
       "    <tr>\n",
       "      <th>9</th>\n",
       "      <td>native-country</td>\n",
       "      <td>plain_categorical</td>\n",
       "      <td>quasi_identifier</td>\n",
       "    </tr>\n",
       "    <tr>\n",
       "      <th>10</th>\n",
       "      <td>prediction</td>\n",
       "      <td>plain_categorical</td>\n",
       "      <td>confidential</td>\n",
       "    </tr>\n",
       "  </tbody>\n",
       "</table>\n",
       "</div>"
      ],
      "text/plain": [
       "              Name      Attribute_type  Sensitivity_type\n",
       "0              age  numerical_discrete  quasi_identifier\n",
       "1        workclass   plain_categorical  quasi_identifier\n",
       "2        education   plain_categorical  quasi_identifier\n",
       "3   marital-status   plain_categorical  quasi_identifier\n",
       "4       occupation   plain_categorical  quasi_identifier\n",
       "5     relationship   plain_categorical  quasi_identifier\n",
       "6             race   plain_categorical  quasi_identifier\n",
       "7              sex   plain_categorical  quasi_identifier\n",
       "8   hours-per-week  numerical_discrete  quasi_identifier\n",
       "9   native-country   plain_categorical  quasi_identifier\n",
       "10      prediction   plain_categorical      confidential"
      ]
     },
     "metadata": {},
     "output_type": "display_data"
    },
    {
     "name": "stdout",
     "output_type": "stream",
     "text": [
      "\n"
     ]
    }
   ],
   "source": [
    "dataset = Dataset_DataFrame(data_frame, path_settings)\n",
    "dataset.description()"
   ]
  },
  {
   "cell_type": "markdown",
   "metadata": {},
   "source": [
    "#### 5.2 The data set is anonymized, in this case, applying differential privacy via microaggregation with a privacy level of k=10 and epsilon=1.0"
   ]
  },
  {
   "cell_type": "code",
   "execution_count": 44,
   "metadata": {
    "scrolled": true
   },
   "outputs": [
    {
     "name": "stdout",
     "output_type": "stream",
     "text": [
      "Anonymizing Differential_privacy, k = 10, epsilon = 1.0 via Microaggregation\n",
      "Anonymizing attribute: age (numerical_discrete)\n"
     ]
    },
    {
     "data": {
      "application/vnd.jupyter.widget-view+json": {
       "model_id": "5381b35c47234ffdba936e838f509cb6",
       "version_major": 2,
       "version_minor": 0
      },
      "text/plain": [
       "HBox(children=(HTML(value=''), FloatProgress(value=0.0, max=45222.0), HTML(value='')))"
      ]
     },
     "metadata": {},
     "output_type": "display_data"
    },
    {
     "name": "stdout",
     "output_type": "stream",
     "text": [
      "\n",
      "Anonymizing attribute: workclass (plain_categorical)\n"
     ]
    },
    {
     "data": {
      "application/vnd.jupyter.widget-view+json": {
       "model_id": "779898e383884433b97aba4a8927c503",
       "version_major": 2,
       "version_minor": 0
      },
      "text/plain": [
       "HBox(children=(HTML(value=''), FloatProgress(value=0.0, max=45222.0), HTML(value='')))"
      ]
     },
     "metadata": {},
     "output_type": "display_data"
    },
    {
     "name": "stdout",
     "output_type": "stream",
     "text": [
      "\n",
      "Anonymizing attribute: education (plain_categorical)\n"
     ]
    },
    {
     "data": {
      "application/vnd.jupyter.widget-view+json": {
       "model_id": "3c0f663b94dd46c4b41c6b55410f3798",
       "version_major": 2,
       "version_minor": 0
      },
      "text/plain": [
       "HBox(children=(HTML(value=''), FloatProgress(value=0.0, max=45222.0), HTML(value='')))"
      ]
     },
     "metadata": {},
     "output_type": "display_data"
    },
    {
     "name": "stdout",
     "output_type": "stream",
     "text": [
      "\n",
      "Anonymizing attribute: marital-status (plain_categorical)\n"
     ]
    },
    {
     "data": {
      "application/vnd.jupyter.widget-view+json": {
       "model_id": "08d26d1d08114301b585e1c0da022c9b",
       "version_major": 2,
       "version_minor": 0
      },
      "text/plain": [
       "HBox(children=(HTML(value=''), FloatProgress(value=0.0, max=45222.0), HTML(value='')))"
      ]
     },
     "metadata": {},
     "output_type": "display_data"
    },
    {
     "name": "stdout",
     "output_type": "stream",
     "text": [
      "\n",
      "Anonymizing attribute: occupation (plain_categorical)\n"
     ]
    },
    {
     "data": {
      "application/vnd.jupyter.widget-view+json": {
       "model_id": "4080fe6cdaf14c16890fe12e9ab09245",
       "version_major": 2,
       "version_minor": 0
      },
      "text/plain": [
       "HBox(children=(HTML(value=''), FloatProgress(value=0.0, max=45222.0), HTML(value='')))"
      ]
     },
     "metadata": {},
     "output_type": "display_data"
    },
    {
     "name": "stdout",
     "output_type": "stream",
     "text": [
      "\n",
      "Anonymizing attribute: relationship (plain_categorical)\n"
     ]
    },
    {
     "data": {
      "application/vnd.jupyter.widget-view+json": {
       "model_id": "553fe5e77a304db489564d44fddc518e",
       "version_major": 2,
       "version_minor": 0
      },
      "text/plain": [
       "HBox(children=(HTML(value=''), FloatProgress(value=0.0, max=45222.0), HTML(value='')))"
      ]
     },
     "metadata": {},
     "output_type": "display_data"
    },
    {
     "name": "stdout",
     "output_type": "stream",
     "text": [
      "\n",
      "Anonymizing attribute: race (plain_categorical)\n"
     ]
    },
    {
     "data": {
      "application/vnd.jupyter.widget-view+json": {
       "model_id": "b3fc8b7582594f13b10a759d97d6f15a",
       "version_major": 2,
       "version_minor": 0
      },
      "text/plain": [
       "HBox(children=(HTML(value=''), FloatProgress(value=0.0, max=45222.0), HTML(value='')))"
      ]
     },
     "metadata": {},
     "output_type": "display_data"
    },
    {
     "name": "stdout",
     "output_type": "stream",
     "text": [
      "\n",
      "Anonymizing attribute: sex (plain_categorical)\n"
     ]
    },
    {
     "data": {
      "application/vnd.jupyter.widget-view+json": {
       "model_id": "4a42e0d158f242b4a1fed42486f2f6dc",
       "version_major": 2,
       "version_minor": 0
      },
      "text/plain": [
       "HBox(children=(HTML(value=''), FloatProgress(value=0.0, max=45222.0), HTML(value='')))"
      ]
     },
     "metadata": {},
     "output_type": "display_data"
    },
    {
     "name": "stdout",
     "output_type": "stream",
     "text": [
      "\n",
      "Anonymizing attribute: hours-per-week (numerical_discrete)\n"
     ]
    },
    {
     "data": {
      "application/vnd.jupyter.widget-view+json": {
       "model_id": "85bf0b9eb0f3457a908fd28520d95881",
       "version_major": 2,
       "version_minor": 0
      },
      "text/plain": [
       "HBox(children=(HTML(value=''), FloatProgress(value=0.0, max=45222.0), HTML(value='')))"
      ]
     },
     "metadata": {},
     "output_type": "display_data"
    },
    {
     "name": "stdout",
     "output_type": "stream",
     "text": [
      "\n",
      "Anonymizing attribute: native-country (plain_categorical)\n"
     ]
    },
    {
     "data": {
      "application/vnd.jupyter.widget-view+json": {
       "model_id": "059c6b3fd3624316ad2b8d77d2d3b444",
       "version_major": 2,
       "version_minor": 0
      },
      "text/plain": [
       "HBox(children=(HTML(value=''), FloatProgress(value=0.0, max=45222.0), HTML(value='')))"
      ]
     },
     "metadata": {},
     "output_type": "display_data"
    },
    {
     "name": "stdout",
     "output_type": "stream",
     "text": [
      "\n",
      "Anonymization runtime: 0:00:32\n"
     ]
    }
   ],
   "source": [
    "k = 10\n",
    "epsilon = 1.0\n",
    "anonymization_scheme = Differential_privacy(dataset, k, epsilon)\n",
    "algorithm = Microaggregation()\n",
    "anonymization_scheme.calculate_anonymization(algorithm)"
   ]
  },
  {
   "cell_type": "markdown",
   "metadata": {},
   "source": [
    "#### 5.3 Information loss metrics are calculated by comparing original and anonymized data set  \n",
    "Metrics calculated: Sum of Square Error (SSE) and, for each attribute, mean and variance\n"
   ]
  },
  {
   "cell_type": "code",
   "execution_count": 45,
   "metadata": {
    "scrolled": false
   },
   "outputs": [
    {
     "name": "stdout",
     "output_type": "stream",
     "text": [
      "Calculating information loss metrics\n",
      "\n",
      "Information loss metrics:\n",
      "SSE: 2.050\n"
     ]
    },
    {
     "data": {
      "text/html": [
       "<div>\n",
       "<style scoped>\n",
       "    .dataframe tbody tr th:only-of-type {\n",
       "        vertical-align: middle;\n",
       "    }\n",
       "\n",
       "    .dataframe tbody tr th {\n",
       "        vertical-align: top;\n",
       "    }\n",
       "\n",
       "    .dataframe thead th {\n",
       "        text-align: right;\n",
       "    }\n",
       "</style>\n",
       "<table border=\"1\" class=\"dataframe\">\n",
       "  <thead>\n",
       "    <tr style=\"text-align: right;\">\n",
       "      <th></th>\n",
       "      <th>Name</th>\n",
       "      <th>Original mean</th>\n",
       "      <th>Anonymized mean</th>\n",
       "      <th>Original variance</th>\n",
       "      <th>Anonymized variance</th>\n",
       "    </tr>\n",
       "  </thead>\n",
       "  <tbody>\n",
       "    <tr>\n",
       "      <th>0</th>\n",
       "      <td>age</td>\n",
       "      <td>38.5479</td>\n",
       "      <td>44.8991</td>\n",
       "      <td>174.912587</td>\n",
       "      <td>1793.972005</td>\n",
       "    </tr>\n",
       "    <tr>\n",
       "      <th>1</th>\n",
       "      <td>workclass</td>\n",
       "      <td>Private</td>\n",
       "      <td>Private</td>\n",
       "      <td>0.263478</td>\n",
       "      <td>0.501349</td>\n",
       "    </tr>\n",
       "    <tr>\n",
       "      <th>2</th>\n",
       "      <td>education</td>\n",
       "      <td>HS-grad</td>\n",
       "      <td>HS-grad</td>\n",
       "      <td>0.673102</td>\n",
       "      <td>0.551280</td>\n",
       "    </tr>\n",
       "    <tr>\n",
       "      <th>3</th>\n",
       "      <td>marital-status</td>\n",
       "      <td>Married-civ-spouse</td>\n",
       "      <td>Married-civ-spouse</td>\n",
       "      <td>0.534408</td>\n",
       "      <td>0.512582</td>\n",
       "    </tr>\n",
       "    <tr>\n",
       "      <th>4</th>\n",
       "      <td>occupation</td>\n",
       "      <td>Craft-repair</td>\n",
       "      <td>Craft-repair</td>\n",
       "      <td>0.866879</td>\n",
       "      <td>0.615851</td>\n",
       "    </tr>\n",
       "    <tr>\n",
       "      <th>5</th>\n",
       "      <td>relationship</td>\n",
       "      <td>Husband</td>\n",
       "      <td>Husband</td>\n",
       "      <td>0.587236</td>\n",
       "      <td>0.544912</td>\n",
       "    </tr>\n",
       "    <tr>\n",
       "      <th>6</th>\n",
       "      <td>race</td>\n",
       "      <td>White</td>\n",
       "      <td>White</td>\n",
       "      <td>0.139733</td>\n",
       "      <td>0.467516</td>\n",
       "    </tr>\n",
       "    <tr>\n",
       "      <th>7</th>\n",
       "      <td>sex</td>\n",
       "      <td>Male</td>\n",
       "      <td>Male</td>\n",
       "      <td>0.324952</td>\n",
       "      <td>0.430145</td>\n",
       "    </tr>\n",
       "    <tr>\n",
       "      <th>8</th>\n",
       "      <td>hours-per-week</td>\n",
       "      <td>40.938</td>\n",
       "      <td>47.0603</td>\n",
       "      <td>144.180908</td>\n",
       "      <td>1724.402547</td>\n",
       "    </tr>\n",
       "    <tr>\n",
       "      <th>9</th>\n",
       "      <td>native-country</td>\n",
       "      <td>United-States</td>\n",
       "      <td>United-States</td>\n",
       "      <td>0.086905</td>\n",
       "      <td>0.513290</td>\n",
       "    </tr>\n",
       "    <tr>\n",
       "      <th>10</th>\n",
       "      <td>prediction</td>\n",
       "      <td>&lt;=50K</td>\n",
       "      <td>&lt;=50K</td>\n",
       "      <td>0.247844</td>\n",
       "      <td>0.247844</td>\n",
       "    </tr>\n",
       "  </tbody>\n",
       "</table>\n",
       "</div>"
      ],
      "text/plain": [
       "              Name       Original mean     Anonymized mean  Original variance  \\\n",
       "0              age             38.5479             44.8991         174.912587   \n",
       "1        workclass             Private             Private           0.263478   \n",
       "2        education             HS-grad             HS-grad           0.673102   \n",
       "3   marital-status  Married-civ-spouse  Married-civ-spouse           0.534408   \n",
       "4       occupation        Craft-repair        Craft-repair           0.866879   \n",
       "5     relationship             Husband             Husband           0.587236   \n",
       "6             race               White               White           0.139733   \n",
       "7              sex                Male                Male           0.324952   \n",
       "8   hours-per-week              40.938             47.0603         144.180908   \n",
       "9   native-country       United-States       United-States           0.086905   \n",
       "10      prediction               <=50K               <=50K           0.247844   \n",
       "\n",
       "    Anonymized variance  \n",
       "0           1793.972005  \n",
       "1              0.501349  \n",
       "2              0.551280  \n",
       "3              0.512582  \n",
       "4              0.615851  \n",
       "5              0.544912  \n",
       "6              0.467516  \n",
       "7              0.430145  \n",
       "8           1724.402547  \n",
       "9              0.513290  \n",
       "10             0.247844  "
      ]
     },
     "metadata": {},
     "output_type": "display_data"
    }
   ],
   "source": [
    "information_loss = Anonymization_scheme.calculate_information_loss(dataset, anonymization_scheme.anonymized_dataset)\n",
    "information_loss.description()"
   ]
  },
  {
   "cell_type": "markdown",
   "metadata": {},
   "source": [
    "#### 5.4 Disclosure risk is calculated via record linkage between anonymized and original data set  \n",
    "The disclosure risk estimates the percentage of anonymized records that correct match with the original ones"
   ]
  },
  {
   "cell_type": "code",
   "execution_count": 46,
   "metadata": {},
   "outputs": [
    {
     "name": "stdout",
     "output_type": "stream",
     "text": [
      "Calculating fast record linkage (disclosure risk), window size = 452.22\n"
     ]
    },
    {
     "data": {
      "application/vnd.jupyter.widget-view+json": {
       "model_id": "241d4c2a40234c0f92adeaf4089465c7",
       "version_major": 2,
       "version_minor": 0
      },
      "text/plain": [
       "HBox(children=(HTML(value=''), FloatProgress(value=0.0, max=45222.0), HTML(value='')))"
      ]
     },
     "metadata": {},
     "output_type": "display_data"
    },
    {
     "name": "stdout",
     "output_type": "stream",
     "text": [
      "\n",
      "Disclosure risk: 4.333 (0.01%)\n"
     ]
    }
   ],
   "source": [
    "disclosure_risk = Anonymization_scheme.calculate_fast_record_linkage(dataset, anonymization_scheme.anonymized_dataset)\n",
    "disclosure_risk.description()"
   ]
  },
  {
   "cell_type": "markdown",
   "metadata": {},
   "source": [
    "#### 5.5 The anonymized data set can be saved to a csv formated file"
   ]
  },
  {
   "cell_type": "code",
   "execution_count": 47,
   "metadata": {
    "scrolled": true
   },
   "outputs": [
    {
     "data": {
      "text/plain": [
       "'Dataset saved: ./anonymization/output_datasets/adult_anom.csv'"
      ]
     },
     "metadata": {},
     "output_type": "display_data"
    }
   ],
   "source": [
    "anonymization_scheme.save_anonymized_dataset(\"./anonymization/output_datasets/adult_anom.csv\")"
   ]
  },
  {
   "cell_type": "markdown",
   "metadata": {},
   "source": [
    "#### 5.6 Also, the anonymized data set can be converted to DataFrame (to use as input data for other libraries)"
   ]
  },
  {
   "cell_type": "code",
   "execution_count": 48,
   "metadata": {
    "scrolled": false
   },
   "outputs": [
    {
     "data": {
      "text/html": [
       "<div>\n",
       "<style scoped>\n",
       "    .dataframe tbody tr th:only-of-type {\n",
       "        vertical-align: middle;\n",
       "    }\n",
       "\n",
       "    .dataframe tbody tr th {\n",
       "        vertical-align: top;\n",
       "    }\n",
       "\n",
       "    .dataframe thead th {\n",
       "        text-align: right;\n",
       "    }\n",
       "</style>\n",
       "<table border=\"1\" class=\"dataframe\">\n",
       "  <thead>\n",
       "    <tr style=\"text-align: right;\">\n",
       "      <th></th>\n",
       "      <th>age</th>\n",
       "      <th>workclass</th>\n",
       "      <th>education</th>\n",
       "      <th>marital-status</th>\n",
       "      <th>occupation</th>\n",
       "      <th>relationship</th>\n",
       "      <th>race</th>\n",
       "      <th>sex</th>\n",
       "      <th>hours-per-week</th>\n",
       "      <th>native-country</th>\n",
       "      <th>prediction</th>\n",
       "    </tr>\n",
       "  </thead>\n",
       "  <tbody>\n",
       "    <tr>\n",
       "      <th>0</th>\n",
       "      <td>63</td>\n",
       "      <td>Private</td>\n",
       "      <td>9th</td>\n",
       "      <td>Married-AF-spouse</td>\n",
       "      <td>Armed-Forces</td>\n",
       "      <td>Husband</td>\n",
       "      <td>Amer-Indian-Eskimo</td>\n",
       "      <td>Female</td>\n",
       "      <td>1</td>\n",
       "      <td>Dominican-Republic</td>\n",
       "      <td>&lt;=50K</td>\n",
       "    </tr>\n",
       "    <tr>\n",
       "      <th>1</th>\n",
       "      <td>66</td>\n",
       "      <td>Private</td>\n",
       "      <td>Preschool</td>\n",
       "      <td>Never-married</td>\n",
       "      <td>Armed-Forces</td>\n",
       "      <td>Wife</td>\n",
       "      <td>White</td>\n",
       "      <td>Female</td>\n",
       "      <td>1</td>\n",
       "      <td>Dominican-Republic</td>\n",
       "      <td>&lt;=50K</td>\n",
       "    </tr>\n",
       "    <tr>\n",
       "      <th>2</th>\n",
       "      <td>37</td>\n",
       "      <td>Private</td>\n",
       "      <td>9th</td>\n",
       "      <td>Never-married</td>\n",
       "      <td>Armed-Forces</td>\n",
       "      <td>Wife</td>\n",
       "      <td>White</td>\n",
       "      <td>Female</td>\n",
       "      <td>1</td>\n",
       "      <td>Dominican-Republic</td>\n",
       "      <td>&gt;50K</td>\n",
       "    </tr>\n",
       "    <tr>\n",
       "      <th>3</th>\n",
       "      <td>10</td>\n",
       "      <td>Private</td>\n",
       "      <td>9th</td>\n",
       "      <td>Never-married</td>\n",
       "      <td>Armed-Forces</td>\n",
       "      <td>Wife</td>\n",
       "      <td>Amer-Indian-Eskimo</td>\n",
       "      <td>Female</td>\n",
       "      <td>1</td>\n",
       "      <td>Dominican-Republic</td>\n",
       "      <td>&gt;50K</td>\n",
       "    </tr>\n",
       "    <tr>\n",
       "      <th>4</th>\n",
       "      <td>56</td>\n",
       "      <td>Private</td>\n",
       "      <td>9th</td>\n",
       "      <td>Married-AF-spouse</td>\n",
       "      <td>Armed-Forces</td>\n",
       "      <td>Husband</td>\n",
       "      <td>White</td>\n",
       "      <td>Female</td>\n",
       "      <td>94</td>\n",
       "      <td>Dominican-Republic</td>\n",
       "      <td>&lt;=50K</td>\n",
       "    </tr>\n",
       "  </tbody>\n",
       "</table>\n",
       "</div>"
      ],
      "text/plain": [
       "  age workclass  education     marital-status    occupation relationship  \\\n",
       "0  63   Private        9th  Married-AF-spouse  Armed-Forces      Husband   \n",
       "1  66   Private  Preschool      Never-married  Armed-Forces         Wife   \n",
       "2  37   Private        9th      Never-married  Armed-Forces         Wife   \n",
       "3  10   Private        9th      Never-married  Armed-Forces         Wife   \n",
       "4  56   Private        9th  Married-AF-spouse  Armed-Forces      Husband   \n",
       "\n",
       "                 race     sex hours-per-week      native-country prediction  \n",
       "0  Amer-Indian-Eskimo  Female              1  Dominican-Republic      <=50K  \n",
       "1               White  Female              1  Dominican-Republic      <=50K  \n",
       "2               White  Female              1  Dominican-Republic       >50K  \n",
       "3  Amer-Indian-Eskimo  Female              1  Dominican-Republic       >50K  \n",
       "4               White  Female             94  Dominican-Republic      <=50K  "
      ]
     },
     "execution_count": 48,
     "metadata": {},
     "output_type": "execute_result"
    }
   ],
   "source": [
    "df_anonymized = anonymization_scheme.anonymized_dataset_to_dataframe()\n",
    "df_anonymized.head()"
   ]
  },
  {
   "cell_type": "markdown",
   "metadata": {
    "scrolled": true
   },
   "source": [
    "========================================================================================================================\n",
    "## 6. Comparative study, adult data set (45222 records)\n",
    "### It is compared the information loss, disclosure risk and runtime for different methods and levels of privacy\n",
    "### The privacy level 'k' is ranged from 10 to 500"
   ]
  },
  {
   "cell_type": "code",
   "execution_count": 50,
   "metadata": {},
   "outputs": [],
   "source": [
    "import pandas as pd\n",
    "from anonymization.src.entities.dataset_CSV import Dataset_CSV\n",
    "from anonymization.src.entities.dataset_DataFrame import Dataset_DataFrame\n",
    "from anonymization.src.algorithms.anonymization_scheme import Anonymization_scheme\n",
    "from anonymization.src.algorithms.k_anonymity import K_anonymity\n",
    "from anonymization.src.algorithms.t_closeness import T_closeness\n",
    "from anonymization.src.algorithms.differential_privacy import Differential_privacy\n",
    "from anonymization.src.algorithms.mdav import Mdav\n",
    "from anonymization.src.algorithms.microaggregation import Microaggregation\n",
    "from anonymization.src.utils import utils\n",
    "import pickle\n",
    "import matplotlib.pyplot as plt\n",
    "%matplotlib inline\n",
    "plt.rcParams['figure.figsize'] = (8, 5)\n",
    "plt.style.use('ggplot')"
   ]
  },
  {
   "cell_type": "markdown",
   "metadata": {},
   "source": [
    "#### Following, it is indicated the path to the csv file containing the data set and the path to the xml file describing the attributes in the data set. Inside the xml file, there is a detailed descritpion about how to fill this xml file in order to properly configure the different attribute types in the data set"
   ]
  },
  {
   "cell_type": "code",
   "execution_count": 51,
   "metadata": {},
   "outputs": [],
   "source": [
    "# k_list = [10, 25, 50, 100, 250, 500, 1000, 2500, 5000, 10000, 25000]\n",
    "k_list = [10, 25, 50, 100, 250, 500]\n",
    "path_csv = \"./anonymization/input_datasets/adult.csv\"\n",
    "path_settings = \"./anonymization/input_datasets/metadata_adult.xml\""
   ]
  },
  {
   "cell_type": "markdown",
   "metadata": {},
   "source": [
    "### 6.1 k-Anonymity via mdav"
   ]
  },
  {
   "cell_type": "code",
   "execution_count": 52,
   "metadata": {
    "scrolled": true
   },
   "outputs": [
    {
     "name": "stdout",
     "output_type": "stream",
     "text": [
      "Loading dataset\n",
      "Dataset loaded: ./anonymization/input_datasets/adult.csv\n",
      "Records loaded: 45222\n",
      "Anonymizing k-Anonymity, k = 10 via MDAV\n"
     ]
    },
    {
     "data": {
      "application/vnd.jupyter.widget-view+json": {
       "model_id": "adfe368685004d26b7e0690af03921bf",
       "version_major": 2,
       "version_minor": 0
      },
      "text/plain": [
       "HBox(children=(HTML(value=''), FloatProgress(value=0.0, max=45222.0), HTML(value='')))"
      ]
     },
     "metadata": {},
     "output_type": "display_data"
    },
    {
     "name": "stdout",
     "output_type": "stream",
     "text": [
      "\n",
      "Anonymization runtime: 0:59:30\n",
      "Calculating information loss metrics\n",
      "Calculating fast record linkage (disclosure risk), window size = 452.22\n"
     ]
    },
    {
     "data": {
      "application/vnd.jupyter.widget-view+json": {
       "model_id": "99fbcb82ded04892aa65ffa5090ff73e",
       "version_major": 2,
       "version_minor": 0
      },
      "text/plain": [
       "HBox(children=(HTML(value=''), FloatProgress(value=0.0, max=45222.0), HTML(value='')))"
      ]
     },
     "metadata": {},
     "output_type": "display_data"
    },
    {
     "name": "stdout",
     "output_type": "stream",
     "text": [
      "\n",
      "Anonymizing k-Anonymity, k = 25 via MDAV\n"
     ]
    },
    {
     "data": {
      "application/vnd.jupyter.widget-view+json": {
       "model_id": "9efe58f275694545b0e4b96ee4380854",
       "version_major": 2,
       "version_minor": 0
      },
      "text/plain": [
       "HBox(children=(HTML(value=''), FloatProgress(value=0.0, max=45222.0), HTML(value='')))"
      ]
     },
     "metadata": {},
     "output_type": "display_data"
    },
    {
     "name": "stdout",
     "output_type": "stream",
     "text": [
      "\n",
      "Anonymization runtime: 0:23:49\n",
      "Calculating information loss metrics\n",
      "Calculating fast record linkage (disclosure risk), window size = 452.22\n"
     ]
    },
    {
     "data": {
      "application/vnd.jupyter.widget-view+json": {
       "model_id": "eddebfadd7494aac9ed85e912e88befa",
       "version_major": 2,
       "version_minor": 0
      },
      "text/plain": [
       "HBox(children=(HTML(value=''), FloatProgress(value=0.0, max=45222.0), HTML(value='')))"
      ]
     },
     "metadata": {},
     "output_type": "display_data"
    },
    {
     "name": "stdout",
     "output_type": "stream",
     "text": [
      "\n",
      "Anonymizing k-Anonymity, k = 50 via MDAV\n"
     ]
    },
    {
     "data": {
      "application/vnd.jupyter.widget-view+json": {
       "model_id": "28677e3044e3467a820952957b93da9f",
       "version_major": 2,
       "version_minor": 0
      },
      "text/plain": [
       "HBox(children=(HTML(value=''), FloatProgress(value=0.0, max=45222.0), HTML(value='')))"
      ]
     },
     "metadata": {},
     "output_type": "display_data"
    },
    {
     "name": "stdout",
     "output_type": "stream",
     "text": [
      "\n",
      "Anonymization runtime: 0:11:59\n",
      "Calculating information loss metrics\n",
      "Calculating fast record linkage (disclosure risk), window size = 452.22\n"
     ]
    },
    {
     "data": {
      "application/vnd.jupyter.widget-view+json": {
       "model_id": "8d3b66e204cb437f8aa4c086a7066d3e",
       "version_major": 2,
       "version_minor": 0
      },
      "text/plain": [
       "HBox(children=(HTML(value=''), FloatProgress(value=0.0, max=45222.0), HTML(value='')))"
      ]
     },
     "metadata": {},
     "output_type": "display_data"
    },
    {
     "name": "stdout",
     "output_type": "stream",
     "text": [
      "\n",
      "Anonymizing k-Anonymity, k = 100 via MDAV\n"
     ]
    },
    {
     "data": {
      "application/vnd.jupyter.widget-view+json": {
       "model_id": "d1f1a516d8ca4223b396c898fd0b3a86",
       "version_major": 2,
       "version_minor": 0
      },
      "text/plain": [
       "HBox(children=(HTML(value=''), FloatProgress(value=0.0, max=45222.0), HTML(value='')))"
      ]
     },
     "metadata": {},
     "output_type": "display_data"
    },
    {
     "name": "stdout",
     "output_type": "stream",
     "text": [
      "\n",
      "Anonymization runtime: 0:06:05\n",
      "Calculating information loss metrics\n",
      "Calculating fast record linkage (disclosure risk), window size = 452.22\n"
     ]
    },
    {
     "data": {
      "application/vnd.jupyter.widget-view+json": {
       "model_id": "dd5f501152934ac788642c46f30bf64b",
       "version_major": 2,
       "version_minor": 0
      },
      "text/plain": [
       "HBox(children=(HTML(value=''), FloatProgress(value=0.0, max=45222.0), HTML(value='')))"
      ]
     },
     "metadata": {},
     "output_type": "display_data"
    },
    {
     "name": "stdout",
     "output_type": "stream",
     "text": [
      "\n",
      "Anonymizing k-Anonymity, k = 250 via MDAV\n"
     ]
    },
    {
     "data": {
      "application/vnd.jupyter.widget-view+json": {
       "model_id": "4dad5f1d59f0437e8dd3aa87b1565d72",
       "version_major": 2,
       "version_minor": 0
      },
      "text/plain": [
       "HBox(children=(HTML(value=''), FloatProgress(value=0.0, max=45222.0), HTML(value='')))"
      ]
     },
     "metadata": {},
     "output_type": "display_data"
    },
    {
     "name": "stdout",
     "output_type": "stream",
     "text": [
      "\n",
      "Anonymization runtime: 0:02:31\n",
      "Calculating information loss metrics\n",
      "Calculating fast record linkage (disclosure risk), window size = 452.22\n"
     ]
    },
    {
     "data": {
      "application/vnd.jupyter.widget-view+json": {
       "model_id": "afe474941fae4375ac3bdfd47d462f69",
       "version_major": 2,
       "version_minor": 0
      },
      "text/plain": [
       "HBox(children=(HTML(value=''), FloatProgress(value=0.0, max=45222.0), HTML(value='')))"
      ]
     },
     "metadata": {},
     "output_type": "display_data"
    },
    {
     "name": "stdout",
     "output_type": "stream",
     "text": [
      "\n",
      "Anonymizing k-Anonymity, k = 500 via MDAV\n"
     ]
    },
    {
     "data": {
      "application/vnd.jupyter.widget-view+json": {
       "model_id": "55126c13bfbf42ffb870cc927ba3a7fd",
       "version_major": 2,
       "version_minor": 0
      },
      "text/plain": [
       "HBox(children=(HTML(value=''), FloatProgress(value=0.0, max=45222.0), HTML(value='')))"
      ]
     },
     "metadata": {},
     "output_type": "display_data"
    },
    {
     "name": "stdout",
     "output_type": "stream",
     "text": [
      "\n",
      "Anonymization runtime: 0:01:19\n",
      "Calculating information loss metrics\n",
      "Calculating fast record linkage (disclosure risk), window size = 452.22\n"
     ]
    },
    {
     "data": {
      "application/vnd.jupyter.widget-view+json": {
       "model_id": "81c0f3f17c294b3dbfb9568dcfc30b76",
       "version_major": 2,
       "version_minor": 0
      },
      "text/plain": [
       "HBox(children=(HTML(value=''), FloatProgress(value=0.0, max=45222.0), HTML(value='')))"
      ]
     },
     "metadata": {},
     "output_type": "display_data"
    },
    {
     "name": "stdout",
     "output_type": "stream",
     "text": [
      "\n"
     ]
    }
   ],
   "source": [
    "data_frame = utils.read_dataframe_from_csv(path_csv)\n",
    "dataset = Dataset_DataFrame(data_frame, path_settings)\n",
    "il_k_anom_mdav = []\n",
    "dr_k_anom_mdav = []\n",
    "run_k_anom_mdav = []\n",
    "for k in k_list:\n",
    "    anonymization_scheme = K_anonymity(dataset, k)\n",
    "    algorithm = Mdav()\n",
    "    anonymization_scheme.calculate_anonymization(algorithm)\n",
    "    run_k_anom_mdav.append(Anonymization_scheme.runtime)\n",
    "    il_k_anom_mdav.append(Anonymization_scheme.calculate_information_loss(dataset, anonymization_scheme.anonymized_dataset))\n",
    "    dr_k_anom_mdav.append(Anonymization_scheme.calculate_fast_record_linkage(dataset, anonymization_scheme.anonymized_dataset))"
   ]
  },
  {
   "cell_type": "markdown",
   "metadata": {},
   "source": [
    "### 6.2 k-Anonymity via microaggregation"
   ]
  },
  {
   "cell_type": "code",
   "execution_count": 53,
   "metadata": {
    "scrolled": true
   },
   "outputs": [
    {
     "name": "stdout",
     "output_type": "stream",
     "text": [
      "Loading dataset\n",
      "Dataset loaded: ./anonymization/input_datasets/adult.csv\n",
      "Records loaded: 45222\n",
      "Anonymizing k-Anonymity, k = 10 via Microaggregation\n"
     ]
    },
    {
     "data": {
      "application/vnd.jupyter.widget-view+json": {
       "model_id": "094bee479c3b4c3fbda8a7eb0b83df54",
       "version_major": 2,
       "version_minor": 0
      },
      "text/plain": [
       "HBox(children=(HTML(value=''), FloatProgress(value=0.0, max=45222.0), HTML(value='')))"
      ]
     },
     "metadata": {},
     "output_type": "display_data"
    },
    {
     "name": "stdout",
     "output_type": "stream",
     "text": [
      "\n",
      "Anonymization runtime: 0:00:14\n",
      "Calculating information loss metrics\n",
      "Calculating fast record linkage (disclosure risk), window size = 452.22\n"
     ]
    },
    {
     "data": {
      "application/vnd.jupyter.widget-view+json": {
       "model_id": "751723d9dbc248c8b25445c2c1fe0b33",
       "version_major": 2,
       "version_minor": 0
      },
      "text/plain": [
       "HBox(children=(HTML(value=''), FloatProgress(value=0.0, max=45222.0), HTML(value='')))"
      ]
     },
     "metadata": {},
     "output_type": "display_data"
    },
    {
     "name": "stdout",
     "output_type": "stream",
     "text": [
      "\n",
      "Anonymizing k-Anonymity, k = 25 via Microaggregation\n"
     ]
    },
    {
     "data": {
      "application/vnd.jupyter.widget-view+json": {
       "model_id": "21c116f604e24628881ddd58fc4455e6",
       "version_major": 2,
       "version_minor": 0
      },
      "text/plain": [
       "HBox(children=(HTML(value=''), FloatProgress(value=0.0, max=45222.0), HTML(value='')))"
      ]
     },
     "metadata": {},
     "output_type": "display_data"
    },
    {
     "name": "stdout",
     "output_type": "stream",
     "text": [
      "\n",
      "Anonymization runtime: 0:00:14\n",
      "Calculating information loss metrics\n",
      "Calculating fast record linkage (disclosure risk), window size = 452.22\n"
     ]
    },
    {
     "data": {
      "application/vnd.jupyter.widget-view+json": {
       "model_id": "4fecd23d5a9e430d99959e2bc077a706",
       "version_major": 2,
       "version_minor": 0
      },
      "text/plain": [
       "HBox(children=(HTML(value=''), FloatProgress(value=0.0, max=45222.0), HTML(value='')))"
      ]
     },
     "metadata": {},
     "output_type": "display_data"
    },
    {
     "name": "stdout",
     "output_type": "stream",
     "text": [
      "\n",
      "Anonymizing k-Anonymity, k = 50 via Microaggregation\n"
     ]
    },
    {
     "data": {
      "application/vnd.jupyter.widget-view+json": {
       "model_id": "3d0fbaf5a1e049f8a75ee0b1ce65ad95",
       "version_major": 2,
       "version_minor": 0
      },
      "text/plain": [
       "HBox(children=(HTML(value=''), FloatProgress(value=0.0, max=45222.0), HTML(value='')))"
      ]
     },
     "metadata": {},
     "output_type": "display_data"
    },
    {
     "name": "stdout",
     "output_type": "stream",
     "text": [
      "\n",
      "Anonymization runtime: 0:00:14\n",
      "Calculating information loss metrics\n",
      "Calculating fast record linkage (disclosure risk), window size = 452.22\n"
     ]
    },
    {
     "data": {
      "application/vnd.jupyter.widget-view+json": {
       "model_id": "103edc85d03a4d099bc525416d581755",
       "version_major": 2,
       "version_minor": 0
      },
      "text/plain": [
       "HBox(children=(HTML(value=''), FloatProgress(value=0.0, max=45222.0), HTML(value='')))"
      ]
     },
     "metadata": {},
     "output_type": "display_data"
    },
    {
     "name": "stdout",
     "output_type": "stream",
     "text": [
      "\n",
      "Anonymizing k-Anonymity, k = 100 via Microaggregation\n"
     ]
    },
    {
     "data": {
      "application/vnd.jupyter.widget-view+json": {
       "model_id": "7cbadb7088d343bb94ab6015d9c2661b",
       "version_major": 2,
       "version_minor": 0
      },
      "text/plain": [
       "HBox(children=(HTML(value=''), FloatProgress(value=0.0, max=45222.0), HTML(value='')))"
      ]
     },
     "metadata": {},
     "output_type": "display_data"
    },
    {
     "name": "stdout",
     "output_type": "stream",
     "text": [
      "\n",
      "Anonymization runtime: 0:00:13\n",
      "Calculating information loss metrics\n",
      "Calculating fast record linkage (disclosure risk), window size = 452.22\n"
     ]
    },
    {
     "data": {
      "application/vnd.jupyter.widget-view+json": {
       "model_id": "e502e5e9aced44b1a3cbb9aaeafce6bf",
       "version_major": 2,
       "version_minor": 0
      },
      "text/plain": [
       "HBox(children=(HTML(value=''), FloatProgress(value=0.0, max=45222.0), HTML(value='')))"
      ]
     },
     "metadata": {},
     "output_type": "display_data"
    },
    {
     "name": "stdout",
     "output_type": "stream",
     "text": [
      "\n",
      "Anonymizing k-Anonymity, k = 250 via Microaggregation\n"
     ]
    },
    {
     "data": {
      "application/vnd.jupyter.widget-view+json": {
       "model_id": "bd527506daf34cbfbb6b6ff6d0e5b1e9",
       "version_major": 2,
       "version_minor": 0
      },
      "text/plain": [
       "HBox(children=(HTML(value=''), FloatProgress(value=0.0, max=45222.0), HTML(value='')))"
      ]
     },
     "metadata": {},
     "output_type": "display_data"
    },
    {
     "name": "stdout",
     "output_type": "stream",
     "text": [
      "\n",
      "Anonymization runtime: 0:00:13\n",
      "Calculating information loss metrics\n",
      "Calculating fast record linkage (disclosure risk), window size = 452.22\n"
     ]
    },
    {
     "data": {
      "application/vnd.jupyter.widget-view+json": {
       "model_id": "a56bfe0fba9a42db83065f62b4b8b8b7",
       "version_major": 2,
       "version_minor": 0
      },
      "text/plain": [
       "HBox(children=(HTML(value=''), FloatProgress(value=0.0, max=45222.0), HTML(value='')))"
      ]
     },
     "metadata": {},
     "output_type": "display_data"
    },
    {
     "name": "stdout",
     "output_type": "stream",
     "text": [
      "\n",
      "Anonymizing k-Anonymity, k = 500 via Microaggregation\n"
     ]
    },
    {
     "data": {
      "application/vnd.jupyter.widget-view+json": {
       "model_id": "9faa13aba23b4254ae95eff4b926c0fd",
       "version_major": 2,
       "version_minor": 0
      },
      "text/plain": [
       "HBox(children=(HTML(value=''), FloatProgress(value=0.0, max=45222.0), HTML(value='')))"
      ]
     },
     "metadata": {},
     "output_type": "display_data"
    },
    {
     "name": "stdout",
     "output_type": "stream",
     "text": [
      "\n",
      "Anonymization runtime: 0:00:14\n",
      "Calculating information loss metrics\n",
      "Calculating fast record linkage (disclosure risk), window size = 452.22\n"
     ]
    },
    {
     "data": {
      "application/vnd.jupyter.widget-view+json": {
       "model_id": "1a364a04b23e4faea0bdfd1dab7bb2eb",
       "version_major": 2,
       "version_minor": 0
      },
      "text/plain": [
       "HBox(children=(HTML(value=''), FloatProgress(value=0.0, max=45222.0), HTML(value='')))"
      ]
     },
     "metadata": {},
     "output_type": "display_data"
    },
    {
     "name": "stdout",
     "output_type": "stream",
     "text": [
      "\n"
     ]
    }
   ],
   "source": [
    "data_frame = utils.read_dataframe_from_csv(path_csv)\n",
    "dataset = Dataset_DataFrame(data_frame, path_settings)\n",
    "il_k_anom_micro = []\n",
    "dr_k_anom_micro = []\n",
    "run_k_anom_micro = []\n",
    "for k in k_list:\n",
    "    anonymization_scheme = K_anonymity(dataset, k)\n",
    "    algorithm = Microaggregation()\n",
    "    anonymization_scheme.calculate_anonymization(algorithm)\n",
    "    run_k_anom_micro.append(Anonymization_scheme.runtime)\n",
    "    il_k_anom_micro.append(Anonymization_scheme.calculate_information_loss(dataset, anonymization_scheme.anonymized_dataset))\n",
    "    dr_k_anom_micro.append(Anonymization_scheme.calculate_fast_record_linkage(dataset, anonymization_scheme.anonymized_dataset))"
   ]
  },
  {
   "cell_type": "markdown",
   "metadata": {},
   "source": [
    "### 6.3 k-t-Closeness via microaggregation, t=0.25 (maximum attribute disclosure protection) "
   ]
  },
  {
   "cell_type": "code",
   "execution_count": 54,
   "metadata": {
    "scrolled": true
   },
   "outputs": [
    {
     "name": "stdout",
     "output_type": "stream",
     "text": [
      "Loading dataset\n",
      "Dataset loaded: ./anonymization/input_datasets/adult.csv\n",
      "Records loaded: 45222\n",
      "Anonymizing k-t-Closeness, k = 10, t = 0.25 via Microaggregation\n",
      "Sorting by confidential attribute: prediction\n",
      "Creating k subsets (10)\n",
      "Sorting each subset by quasi-identifiers\n",
      "Creating clusters\n",
      "Anonymizing\n",
      "Anonymization runtime: 0:00:12\n",
      "Calculating information loss metrics\n",
      "Calculating fast record linkage (disclosure risk), window size = 452.22\n"
     ]
    },
    {
     "data": {
      "application/vnd.jupyter.widget-view+json": {
       "model_id": "3a77bdcdd8334cb6b5e23da98575381a",
       "version_major": 2,
       "version_minor": 0
      },
      "text/plain": [
       "HBox(children=(HTML(value=''), FloatProgress(value=0.0, max=45222.0), HTML(value='')))"
      ]
     },
     "metadata": {},
     "output_type": "display_data"
    },
    {
     "name": "stdout",
     "output_type": "stream",
     "text": [
      "\n",
      "Anonymizing k-t-Closeness, k = 25, t = 0.25 via Microaggregation\n",
      "Sorting by confidential attribute: prediction\n",
      "Creating k subsets (25)\n",
      "Sorting each subset by quasi-identifiers\n",
      "Creating clusters\n",
      "Anonymizing\n",
      "Anonymization runtime: 0:00:11\n",
      "Calculating information loss metrics\n",
      "Calculating fast record linkage (disclosure risk), window size = 452.22\n"
     ]
    },
    {
     "data": {
      "application/vnd.jupyter.widget-view+json": {
       "model_id": "79caf73b5c5941079632e6221505d106",
       "version_major": 2,
       "version_minor": 0
      },
      "text/plain": [
       "HBox(children=(HTML(value=''), FloatProgress(value=0.0, max=45222.0), HTML(value='')))"
      ]
     },
     "metadata": {},
     "output_type": "display_data"
    },
    {
     "name": "stdout",
     "output_type": "stream",
     "text": [
      "\n",
      "Anonymizing k-t-Closeness, k = 50, t = 0.25 via Microaggregation\n",
      "Sorting by confidential attribute: prediction\n",
      "Creating k subsets (50)\n",
      "Sorting each subset by quasi-identifiers\n",
      "Creating clusters\n",
      "Anonymizing\n",
      "Anonymization runtime: 0:00:12\n",
      "Calculating information loss metrics\n",
      "Calculating fast record linkage (disclosure risk), window size = 452.22\n"
     ]
    },
    {
     "data": {
      "application/vnd.jupyter.widget-view+json": {
       "model_id": "d0c7c94e31f1477ebb140d50602d562b",
       "version_major": 2,
       "version_minor": 0
      },
      "text/plain": [
       "HBox(children=(HTML(value=''), FloatProgress(value=0.0, max=45222.0), HTML(value='')))"
      ]
     },
     "metadata": {},
     "output_type": "display_data"
    },
    {
     "name": "stdout",
     "output_type": "stream",
     "text": [
      "\n",
      "Anonymizing k-t-Closeness, k = 100, t = 0.25 via Microaggregation\n",
      "Sorting by confidential attribute: prediction\n",
      "Creating k subsets (100)\n",
      "Sorting each subset by quasi-identifiers\n",
      "Creating clusters\n",
      "Anonymizing\n",
      "Anonymization runtime: 0:00:12\n",
      "Calculating information loss metrics\n",
      "Calculating fast record linkage (disclosure risk), window size = 452.22\n"
     ]
    },
    {
     "data": {
      "application/vnd.jupyter.widget-view+json": {
       "model_id": "b6846d41472041d58be1c47b8c4f45a7",
       "version_major": 2,
       "version_minor": 0
      },
      "text/plain": [
       "HBox(children=(HTML(value=''), FloatProgress(value=0.0, max=45222.0), HTML(value='')))"
      ]
     },
     "metadata": {},
     "output_type": "display_data"
    },
    {
     "name": "stdout",
     "output_type": "stream",
     "text": [
      "\n",
      "Anonymizing k-t-Closeness, k = 250, t = 0.25 via Microaggregation\n",
      "Sorting by confidential attribute: prediction\n",
      "Creating k subsets (251)\n",
      "Sorting each subset by quasi-identifiers\n",
      "Creating clusters\n",
      "Anonymizing\n",
      "Anonymization runtime: 0:00:12\n",
      "Calculating information loss metrics\n",
      "Calculating fast record linkage (disclosure risk), window size = 452.22\n"
     ]
    },
    {
     "data": {
      "application/vnd.jupyter.widget-view+json": {
       "model_id": "dd055b5707134d948f108655f48164de",
       "version_major": 2,
       "version_minor": 0
      },
      "text/plain": [
       "HBox(children=(HTML(value=''), FloatProgress(value=0.0, max=45222.0), HTML(value='')))"
      ]
     },
     "metadata": {},
     "output_type": "display_data"
    },
    {
     "name": "stdout",
     "output_type": "stream",
     "text": [
      "\n",
      "Anonymizing k-t-Closeness, k = 500, t = 0.25 via Microaggregation\n",
      "Sorting by confidential attribute: prediction\n",
      "Creating k subsets (502)\n",
      "Sorting each subset by quasi-identifiers\n",
      "Creating clusters\n",
      "Anonymizing\n",
      "Anonymization runtime: 0:00:12\n",
      "Calculating information loss metrics\n",
      "Calculating fast record linkage (disclosure risk), window size = 452.22\n"
     ]
    },
    {
     "data": {
      "application/vnd.jupyter.widget-view+json": {
       "model_id": "4523b176f93749b383544c93f982cc71",
       "version_major": 2,
       "version_minor": 0
      },
      "text/plain": [
       "HBox(children=(HTML(value=''), FloatProgress(value=0.0, max=45222.0), HTML(value='')))"
      ]
     },
     "metadata": {},
     "output_type": "display_data"
    },
    {
     "name": "stdout",
     "output_type": "stream",
     "text": [
      "\n"
     ]
    }
   ],
   "source": [
    "data_frame = utils.read_dataframe_from_csv(path_csv)\n",
    "dataset = Dataset_DataFrame(data_frame, path_settings)\n",
    "il_t_clos = []\n",
    "dr_t_clos = []\n",
    "run_t_clos = []\n",
    "t = 0.25\n",
    "for k in k_list:\n",
    "    anonymization_scheme = T_closeness(dataset, k, t)\n",
    "    algorithm = Microaggregation()\n",
    "    anonymization_scheme.calculate_anonymization(algorithm)\n",
    "    run_t_clos.append(Anonymization_scheme.runtime)\n",
    "    il_t_clos.append(anonymization_scheme.calculate_information_loss(dataset, anonymization_scheme.anonymized_dataset))\n",
    "    dr_t_clos.append(anonymization_scheme.calculate_fast_record_linkage(dataset, anonymization_scheme.anonymized_dataset))"
   ]
  },
  {
   "cell_type": "markdown",
   "metadata": {},
   "source": [
    "### 6.4 Differential privacy via individual ranking through mdav, epsilon=1.0"
   ]
  },
  {
   "cell_type": "code",
   "execution_count": 55,
   "metadata": {
    "scrolled": true
   },
   "outputs": [
    {
     "name": "stdout",
     "output_type": "stream",
     "text": [
      "Loading dataset\n",
      "Dataset loaded: ./anonymization/input_datasets/adult.csv\n",
      "Records loaded: 45222\n",
      "Anonymizing Differential_privacy, k = 10, epsilon = 1.0 via MDAV\n",
      "Anonymizing attribute: age (numerical_discrete)\n"
     ]
    },
    {
     "data": {
      "application/vnd.jupyter.widget-view+json": {
       "model_id": "a7921ff9366b4d66aae724f7ed4afa0e",
       "version_major": 2,
       "version_minor": 0
      },
      "text/plain": [
       "HBox(children=(HTML(value=''), FloatProgress(value=0.0, max=45222.0), HTML(value='')))"
      ]
     },
     "metadata": {},
     "output_type": "display_data"
    },
    {
     "name": "stdout",
     "output_type": "stream",
     "text": [
      "\n",
      "Anonymizing attribute: workclass (plain_categorical)\n"
     ]
    },
    {
     "data": {
      "application/vnd.jupyter.widget-view+json": {
       "model_id": "45f0c182ca4942339dd43255777794c3",
       "version_major": 2,
       "version_minor": 0
      },
      "text/plain": [
       "HBox(children=(HTML(value=''), FloatProgress(value=0.0, max=45222.0), HTML(value='')))"
      ]
     },
     "metadata": {},
     "output_type": "display_data"
    },
    {
     "name": "stdout",
     "output_type": "stream",
     "text": [
      "\n",
      "Anonymizing attribute: education (plain_categorical)\n"
     ]
    },
    {
     "data": {
      "application/vnd.jupyter.widget-view+json": {
       "model_id": "d1670639dd704db69e61e136d399b482",
       "version_major": 2,
       "version_minor": 0
      },
      "text/plain": [
       "HBox(children=(HTML(value=''), FloatProgress(value=0.0, max=45222.0), HTML(value='')))"
      ]
     },
     "metadata": {},
     "output_type": "display_data"
    },
    {
     "name": "stdout",
     "output_type": "stream",
     "text": [
      "\n",
      "Anonymizing attribute: marital-status (plain_categorical)\n"
     ]
    },
    {
     "data": {
      "application/vnd.jupyter.widget-view+json": {
       "model_id": "b93ac1cecf5043d7939d796cb50f1565",
       "version_major": 2,
       "version_minor": 0
      },
      "text/plain": [
       "HBox(children=(HTML(value=''), FloatProgress(value=0.0, max=45222.0), HTML(value='')))"
      ]
     },
     "metadata": {},
     "output_type": "display_data"
    },
    {
     "name": "stdout",
     "output_type": "stream",
     "text": [
      "\n",
      "Anonymizing attribute: occupation (plain_categorical)\n"
     ]
    },
    {
     "data": {
      "application/vnd.jupyter.widget-view+json": {
       "model_id": "7eedfe545fb04797b69fdfbdce53b7b4",
       "version_major": 2,
       "version_minor": 0
      },
      "text/plain": [
       "HBox(children=(HTML(value=''), FloatProgress(value=0.0, max=45222.0), HTML(value='')))"
      ]
     },
     "metadata": {},
     "output_type": "display_data"
    },
    {
     "name": "stdout",
     "output_type": "stream",
     "text": [
      "\n",
      "Anonymizing attribute: relationship (plain_categorical)\n"
     ]
    },
    {
     "data": {
      "application/vnd.jupyter.widget-view+json": {
       "model_id": "98ccc44e0dec4880907b322cf3f83e40",
       "version_major": 2,
       "version_minor": 0
      },
      "text/plain": [
       "HBox(children=(HTML(value=''), FloatProgress(value=0.0, max=45222.0), HTML(value='')))"
      ]
     },
     "metadata": {},
     "output_type": "display_data"
    },
    {
     "name": "stdout",
     "output_type": "stream",
     "text": [
      "\n",
      "Anonymizing attribute: race (plain_categorical)\n"
     ]
    },
    {
     "data": {
      "application/vnd.jupyter.widget-view+json": {
       "model_id": "0826bf36932944f1a6ce9a0aa1869fd3",
       "version_major": 2,
       "version_minor": 0
      },
      "text/plain": [
       "HBox(children=(HTML(value=''), FloatProgress(value=0.0, max=45222.0), HTML(value='')))"
      ]
     },
     "metadata": {},
     "output_type": "display_data"
    },
    {
     "name": "stdout",
     "output_type": "stream",
     "text": [
      "\n",
      "Anonymizing attribute: sex (plain_categorical)\n"
     ]
    },
    {
     "data": {
      "application/vnd.jupyter.widget-view+json": {
       "model_id": "08da0b12681f4062a5d38844568ba12e",
       "version_major": 2,
       "version_minor": 0
      },
      "text/plain": [
       "HBox(children=(HTML(value=''), FloatProgress(value=0.0, max=45222.0), HTML(value='')))"
      ]
     },
     "metadata": {},
     "output_type": "display_data"
    },
    {
     "name": "stdout",
     "output_type": "stream",
     "text": [
      "\n",
      "Anonymizing attribute: hours-per-week (numerical_discrete)\n"
     ]
    },
    {
     "data": {
      "application/vnd.jupyter.widget-view+json": {
       "model_id": "bbaaa33642c64a12a1f6e2b7aa7a8579",
       "version_major": 2,
       "version_minor": 0
      },
      "text/plain": [
       "HBox(children=(HTML(value=''), FloatProgress(value=0.0, max=45222.0), HTML(value='')))"
      ]
     },
     "metadata": {},
     "output_type": "display_data"
    },
    {
     "name": "stdout",
     "output_type": "stream",
     "text": [
      "\n",
      "Anonymizing attribute: native-country (plain_categorical)\n"
     ]
    },
    {
     "data": {
      "application/vnd.jupyter.widget-view+json": {
       "model_id": "c3e56321ed5845cea7cd354ae060e68c",
       "version_major": 2,
       "version_minor": 0
      },
      "text/plain": [
       "HBox(children=(HTML(value=''), FloatProgress(value=0.0, max=45222.0), HTML(value='')))"
      ]
     },
     "metadata": {},
     "output_type": "display_data"
    },
    {
     "name": "stdout",
     "output_type": "stream",
     "text": [
      "\n",
      "Anonymization runtime: 1:24:36\n",
      "Calculating information loss metrics\n",
      "Calculating fast record linkage (disclosure risk), window size = 452.22\n"
     ]
    },
    {
     "data": {
      "application/vnd.jupyter.widget-view+json": {
       "model_id": "ccdfdffa06e343c18c36654df309387d",
       "version_major": 2,
       "version_minor": 0
      },
      "text/plain": [
       "HBox(children=(HTML(value=''), FloatProgress(value=0.0, max=45222.0), HTML(value='')))"
      ]
     },
     "metadata": {},
     "output_type": "display_data"
    },
    {
     "name": "stdout",
     "output_type": "stream",
     "text": [
      "\n",
      "Anonymizing Differential_privacy, k = 25, epsilon = 1.0 via MDAV\n",
      "Anonymizing attribute: age (numerical_discrete)\n"
     ]
    },
    {
     "data": {
      "application/vnd.jupyter.widget-view+json": {
       "model_id": "c11d5549d60546e29dad1136ee7aac24",
       "version_major": 2,
       "version_minor": 0
      },
      "text/plain": [
       "HBox(children=(HTML(value=''), FloatProgress(value=0.0, max=45222.0), HTML(value='')))"
      ]
     },
     "metadata": {},
     "output_type": "display_data"
    },
    {
     "name": "stdout",
     "output_type": "stream",
     "text": [
      "\n",
      "Anonymizing attribute: workclass (plain_categorical)\n"
     ]
    },
    {
     "data": {
      "application/vnd.jupyter.widget-view+json": {
       "model_id": "4141e2e066e1434980096c9a5baead55",
       "version_major": 2,
       "version_minor": 0
      },
      "text/plain": [
       "HBox(children=(HTML(value=''), FloatProgress(value=0.0, max=45222.0), HTML(value='')))"
      ]
     },
     "metadata": {},
     "output_type": "display_data"
    },
    {
     "name": "stdout",
     "output_type": "stream",
     "text": [
      "\n",
      "Anonymizing attribute: education (plain_categorical)\n"
     ]
    },
    {
     "data": {
      "application/vnd.jupyter.widget-view+json": {
       "model_id": "974baab23b26499397c8db07c8f947d0",
       "version_major": 2,
       "version_minor": 0
      },
      "text/plain": [
       "HBox(children=(HTML(value=''), FloatProgress(value=0.0, max=45222.0), HTML(value='')))"
      ]
     },
     "metadata": {},
     "output_type": "display_data"
    },
    {
     "name": "stdout",
     "output_type": "stream",
     "text": [
      "\n",
      "Anonymizing attribute: marital-status (plain_categorical)\n"
     ]
    },
    {
     "data": {
      "application/vnd.jupyter.widget-view+json": {
       "model_id": "e83dc131db8c4d55a33b4ffe11fe3fb0",
       "version_major": 2,
       "version_minor": 0
      },
      "text/plain": [
       "HBox(children=(HTML(value=''), FloatProgress(value=0.0, max=45222.0), HTML(value='')))"
      ]
     },
     "metadata": {},
     "output_type": "display_data"
    },
    {
     "name": "stdout",
     "output_type": "stream",
     "text": [
      "\n",
      "Anonymizing attribute: occupation (plain_categorical)\n"
     ]
    },
    {
     "data": {
      "application/vnd.jupyter.widget-view+json": {
       "model_id": "db375a40dd4b402ebd2d52efde9ef7ba",
       "version_major": 2,
       "version_minor": 0
      },
      "text/plain": [
       "HBox(children=(HTML(value=''), FloatProgress(value=0.0, max=45222.0), HTML(value='')))"
      ]
     },
     "metadata": {},
     "output_type": "display_data"
    },
    {
     "name": "stdout",
     "output_type": "stream",
     "text": [
      "\n",
      "Anonymizing attribute: relationship (plain_categorical)\n"
     ]
    },
    {
     "data": {
      "application/vnd.jupyter.widget-view+json": {
       "model_id": "e0f1c5ebd9a746939bd1ca41e52cef69",
       "version_major": 2,
       "version_minor": 0
      },
      "text/plain": [
       "HBox(children=(HTML(value=''), FloatProgress(value=0.0, max=45222.0), HTML(value='')))"
      ]
     },
     "metadata": {},
     "output_type": "display_data"
    },
    {
     "name": "stdout",
     "output_type": "stream",
     "text": [
      "\n",
      "Anonymizing attribute: race (plain_categorical)\n"
     ]
    },
    {
     "data": {
      "application/vnd.jupyter.widget-view+json": {
       "model_id": "7ae8fdc9aedd459c983cd37fa7c65275",
       "version_major": 2,
       "version_minor": 0
      },
      "text/plain": [
       "HBox(children=(HTML(value=''), FloatProgress(value=0.0, max=45222.0), HTML(value='')))"
      ]
     },
     "metadata": {},
     "output_type": "display_data"
    },
    {
     "name": "stdout",
     "output_type": "stream",
     "text": [
      "\n",
      "Anonymizing attribute: sex (plain_categorical)\n"
     ]
    },
    {
     "data": {
      "application/vnd.jupyter.widget-view+json": {
       "model_id": "c8a8e715e76f42d1be11159a7f4348d4",
       "version_major": 2,
       "version_minor": 0
      },
      "text/plain": [
       "HBox(children=(HTML(value=''), FloatProgress(value=0.0, max=45222.0), HTML(value='')))"
      ]
     },
     "metadata": {},
     "output_type": "display_data"
    },
    {
     "name": "stdout",
     "output_type": "stream",
     "text": [
      "\n",
      "Anonymizing attribute: hours-per-week (numerical_discrete)\n"
     ]
    },
    {
     "data": {
      "application/vnd.jupyter.widget-view+json": {
       "model_id": "36978671f2c6432f89a96d3b7425825e",
       "version_major": 2,
       "version_minor": 0
      },
      "text/plain": [
       "HBox(children=(HTML(value=''), FloatProgress(value=0.0, max=45222.0), HTML(value='')))"
      ]
     },
     "metadata": {},
     "output_type": "display_data"
    },
    {
     "name": "stdout",
     "output_type": "stream",
     "text": [
      "\n",
      "Anonymizing attribute: native-country (plain_categorical)\n"
     ]
    },
    {
     "data": {
      "application/vnd.jupyter.widget-view+json": {
       "model_id": "dba52527de3246a9b91be57a60caebce",
       "version_major": 2,
       "version_minor": 0
      },
      "text/plain": [
       "HBox(children=(HTML(value=''), FloatProgress(value=0.0, max=45222.0), HTML(value='')))"
      ]
     },
     "metadata": {},
     "output_type": "display_data"
    },
    {
     "name": "stdout",
     "output_type": "stream",
     "text": [
      "\n",
      "Anonymization runtime: 0:34:05\n",
      "Calculating information loss metrics\n",
      "Calculating fast record linkage (disclosure risk), window size = 452.22\n"
     ]
    },
    {
     "data": {
      "application/vnd.jupyter.widget-view+json": {
       "model_id": "32f4fa3c2b8446e0a05056ece8458d62",
       "version_major": 2,
       "version_minor": 0
      },
      "text/plain": [
       "HBox(children=(HTML(value=''), FloatProgress(value=0.0, max=45222.0), HTML(value='')))"
      ]
     },
     "metadata": {},
     "output_type": "display_data"
    },
    {
     "name": "stdout",
     "output_type": "stream",
     "text": [
      "\n",
      "Anonymizing Differential_privacy, k = 50, epsilon = 1.0 via MDAV\n",
      "Anonymizing attribute: age (numerical_discrete)\n"
     ]
    },
    {
     "data": {
      "application/vnd.jupyter.widget-view+json": {
       "model_id": "1353a77eef2a40838fbbf128b6b2202e",
       "version_major": 2,
       "version_minor": 0
      },
      "text/plain": [
       "HBox(children=(HTML(value=''), FloatProgress(value=0.0, max=45222.0), HTML(value='')))"
      ]
     },
     "metadata": {},
     "output_type": "display_data"
    },
    {
     "name": "stdout",
     "output_type": "stream",
     "text": [
      "\n",
      "Anonymizing attribute: workclass (plain_categorical)\n"
     ]
    },
    {
     "data": {
      "application/vnd.jupyter.widget-view+json": {
       "model_id": "b73bf65ce754472489f55c21efddd0c5",
       "version_major": 2,
       "version_minor": 0
      },
      "text/plain": [
       "HBox(children=(HTML(value=''), FloatProgress(value=0.0, max=45222.0), HTML(value='')))"
      ]
     },
     "metadata": {},
     "output_type": "display_data"
    },
    {
     "name": "stdout",
     "output_type": "stream",
     "text": [
      "\n",
      "Anonymizing attribute: education (plain_categorical)\n"
     ]
    },
    {
     "data": {
      "application/vnd.jupyter.widget-view+json": {
       "model_id": "20ada009fb324e88a71ec030591c1d8a",
       "version_major": 2,
       "version_minor": 0
      },
      "text/plain": [
       "HBox(children=(HTML(value=''), FloatProgress(value=0.0, max=45222.0), HTML(value='')))"
      ]
     },
     "metadata": {},
     "output_type": "display_data"
    },
    {
     "name": "stdout",
     "output_type": "stream",
     "text": [
      "\n",
      "Anonymizing attribute: marital-status (plain_categorical)\n"
     ]
    },
    {
     "data": {
      "application/vnd.jupyter.widget-view+json": {
       "model_id": "fcbeebc8c0194842b01613ff8c51dc06",
       "version_major": 2,
       "version_minor": 0
      },
      "text/plain": [
       "HBox(children=(HTML(value=''), FloatProgress(value=0.0, max=45222.0), HTML(value='')))"
      ]
     },
     "metadata": {},
     "output_type": "display_data"
    },
    {
     "name": "stdout",
     "output_type": "stream",
     "text": [
      "\n",
      "Anonymizing attribute: occupation (plain_categorical)\n"
     ]
    },
    {
     "data": {
      "application/vnd.jupyter.widget-view+json": {
       "model_id": "6ee5a9a52002480281da6f2a17abaeb3",
       "version_major": 2,
       "version_minor": 0
      },
      "text/plain": [
       "HBox(children=(HTML(value=''), FloatProgress(value=0.0, max=45222.0), HTML(value='')))"
      ]
     },
     "metadata": {},
     "output_type": "display_data"
    },
    {
     "name": "stdout",
     "output_type": "stream",
     "text": [
      "\n",
      "Anonymizing attribute: relationship (plain_categorical)\n"
     ]
    },
    {
     "data": {
      "application/vnd.jupyter.widget-view+json": {
       "model_id": "401f895f01614295a7c77f10b9bbb42b",
       "version_major": 2,
       "version_minor": 0
      },
      "text/plain": [
       "HBox(children=(HTML(value=''), FloatProgress(value=0.0, max=45222.0), HTML(value='')))"
      ]
     },
     "metadata": {},
     "output_type": "display_data"
    },
    {
     "name": "stdout",
     "output_type": "stream",
     "text": [
      "\n",
      "Anonymizing attribute: race (plain_categorical)\n"
     ]
    },
    {
     "data": {
      "application/vnd.jupyter.widget-view+json": {
       "model_id": "d7f6a9e13a8a467d956e8062ff2c044d",
       "version_major": 2,
       "version_minor": 0
      },
      "text/plain": [
       "HBox(children=(HTML(value=''), FloatProgress(value=0.0, max=45222.0), HTML(value='')))"
      ]
     },
     "metadata": {},
     "output_type": "display_data"
    },
    {
     "name": "stdout",
     "output_type": "stream",
     "text": [
      "\n",
      "Anonymizing attribute: sex (plain_categorical)\n"
     ]
    },
    {
     "data": {
      "application/vnd.jupyter.widget-view+json": {
       "model_id": "a292d9931a384d2989127ea50d7c6171",
       "version_major": 2,
       "version_minor": 0
      },
      "text/plain": [
       "HBox(children=(HTML(value=''), FloatProgress(value=0.0, max=45222.0), HTML(value='')))"
      ]
     },
     "metadata": {},
     "output_type": "display_data"
    },
    {
     "name": "stdout",
     "output_type": "stream",
     "text": [
      "\n",
      "Anonymizing attribute: hours-per-week (numerical_discrete)\n"
     ]
    },
    {
     "data": {
      "application/vnd.jupyter.widget-view+json": {
       "model_id": "ed78336bc5514145b23b820ef48b4109",
       "version_major": 2,
       "version_minor": 0
      },
      "text/plain": [
       "HBox(children=(HTML(value=''), FloatProgress(value=0.0, max=45222.0), HTML(value='')))"
      ]
     },
     "metadata": {},
     "output_type": "display_data"
    },
    {
     "name": "stdout",
     "output_type": "stream",
     "text": [
      "\n",
      "Anonymizing attribute: native-country (plain_categorical)\n"
     ]
    },
    {
     "data": {
      "application/vnd.jupyter.widget-view+json": {
       "model_id": "593ea0b9dcdc412c9d6b4db65cb15d5b",
       "version_major": 2,
       "version_minor": 0
      },
      "text/plain": [
       "HBox(children=(HTML(value=''), FloatProgress(value=0.0, max=45222.0), HTML(value='')))"
      ]
     },
     "metadata": {},
     "output_type": "display_data"
    },
    {
     "name": "stdout",
     "output_type": "stream",
     "text": [
      "\n",
      "Anonymization runtime: 0:16:55\n",
      "Calculating information loss metrics\n",
      "Calculating fast record linkage (disclosure risk), window size = 452.22\n"
     ]
    },
    {
     "data": {
      "application/vnd.jupyter.widget-view+json": {
       "model_id": "467666a3253542fc89dc03d1f46862d4",
       "version_major": 2,
       "version_minor": 0
      },
      "text/plain": [
       "HBox(children=(HTML(value=''), FloatProgress(value=0.0, max=45222.0), HTML(value='')))"
      ]
     },
     "metadata": {},
     "output_type": "display_data"
    },
    {
     "name": "stdout",
     "output_type": "stream",
     "text": [
      "\n",
      "Anonymizing Differential_privacy, k = 100, epsilon = 1.0 via MDAV\n",
      "Anonymizing attribute: age (numerical_discrete)\n"
     ]
    },
    {
     "data": {
      "application/vnd.jupyter.widget-view+json": {
       "model_id": "551a5adcb6b7443b85a7fdb6ae085460",
       "version_major": 2,
       "version_minor": 0
      },
      "text/plain": [
       "HBox(children=(HTML(value=''), FloatProgress(value=0.0, max=45222.0), HTML(value='')))"
      ]
     },
     "metadata": {},
     "output_type": "display_data"
    },
    {
     "name": "stdout",
     "output_type": "stream",
     "text": [
      "\n",
      "Anonymizing attribute: workclass (plain_categorical)\n"
     ]
    },
    {
     "data": {
      "application/vnd.jupyter.widget-view+json": {
       "model_id": "fc4ad8e89ffd476a9aa270e14a2b5ece",
       "version_major": 2,
       "version_minor": 0
      },
      "text/plain": [
       "HBox(children=(HTML(value=''), FloatProgress(value=0.0, max=45222.0), HTML(value='')))"
      ]
     },
     "metadata": {},
     "output_type": "display_data"
    },
    {
     "name": "stdout",
     "output_type": "stream",
     "text": [
      "\n",
      "Anonymizing attribute: education (plain_categorical)\n"
     ]
    },
    {
     "data": {
      "application/vnd.jupyter.widget-view+json": {
       "model_id": "2ababa9061ef4ef1af3c73d43de81585",
       "version_major": 2,
       "version_minor": 0
      },
      "text/plain": [
       "HBox(children=(HTML(value=''), FloatProgress(value=0.0, max=45222.0), HTML(value='')))"
      ]
     },
     "metadata": {},
     "output_type": "display_data"
    },
    {
     "name": "stdout",
     "output_type": "stream",
     "text": [
      "\n",
      "Anonymizing attribute: marital-status (plain_categorical)\n"
     ]
    },
    {
     "data": {
      "application/vnd.jupyter.widget-view+json": {
       "model_id": "85c56568493b40c184cb28f45d6fb369",
       "version_major": 2,
       "version_minor": 0
      },
      "text/plain": [
       "HBox(children=(HTML(value=''), FloatProgress(value=0.0, max=45222.0), HTML(value='')))"
      ]
     },
     "metadata": {},
     "output_type": "display_data"
    },
    {
     "name": "stdout",
     "output_type": "stream",
     "text": [
      "\n",
      "Anonymizing attribute: occupation (plain_categorical)\n"
     ]
    },
    {
     "data": {
      "application/vnd.jupyter.widget-view+json": {
       "model_id": "23eab513708b48538efec95e74d98507",
       "version_major": 2,
       "version_minor": 0
      },
      "text/plain": [
       "HBox(children=(HTML(value=''), FloatProgress(value=0.0, max=45222.0), HTML(value='')))"
      ]
     },
     "metadata": {},
     "output_type": "display_data"
    },
    {
     "name": "stdout",
     "output_type": "stream",
     "text": [
      "\n",
      "Anonymizing attribute: relationship (plain_categorical)\n"
     ]
    },
    {
     "data": {
      "application/vnd.jupyter.widget-view+json": {
       "model_id": "3cbf140730cd4fb1a1b898ddcab667e8",
       "version_major": 2,
       "version_minor": 0
      },
      "text/plain": [
       "HBox(children=(HTML(value=''), FloatProgress(value=0.0, max=45222.0), HTML(value='')))"
      ]
     },
     "metadata": {},
     "output_type": "display_data"
    },
    {
     "name": "stdout",
     "output_type": "stream",
     "text": [
      "\n",
      "Anonymizing attribute: race (plain_categorical)\n"
     ]
    },
    {
     "data": {
      "application/vnd.jupyter.widget-view+json": {
       "model_id": "6b4ee7febdf34773bf6aafa4485871e2",
       "version_major": 2,
       "version_minor": 0
      },
      "text/plain": [
       "HBox(children=(HTML(value=''), FloatProgress(value=0.0, max=45222.0), HTML(value='')))"
      ]
     },
     "metadata": {},
     "output_type": "display_data"
    },
    {
     "name": "stdout",
     "output_type": "stream",
     "text": [
      "\n",
      "Anonymizing attribute: sex (plain_categorical)\n"
     ]
    },
    {
     "data": {
      "application/vnd.jupyter.widget-view+json": {
       "model_id": "fa928cb61cfe458c98b7469c9808a713",
       "version_major": 2,
       "version_minor": 0
      },
      "text/plain": [
       "HBox(children=(HTML(value=''), FloatProgress(value=0.0, max=45222.0), HTML(value='')))"
      ]
     },
     "metadata": {},
     "output_type": "display_data"
    },
    {
     "name": "stdout",
     "output_type": "stream",
     "text": [
      "\n",
      "Anonymizing attribute: hours-per-week (numerical_discrete)\n"
     ]
    },
    {
     "data": {
      "application/vnd.jupyter.widget-view+json": {
       "model_id": "ff030b0cc26e4dd6be9c5285565c6e6d",
       "version_major": 2,
       "version_minor": 0
      },
      "text/plain": [
       "HBox(children=(HTML(value=''), FloatProgress(value=0.0, max=45222.0), HTML(value='')))"
      ]
     },
     "metadata": {},
     "output_type": "display_data"
    },
    {
     "name": "stdout",
     "output_type": "stream",
     "text": [
      "\n",
      "Anonymizing attribute: native-country (plain_categorical)\n"
     ]
    },
    {
     "data": {
      "application/vnd.jupyter.widget-view+json": {
       "model_id": "87cc193fc18b489785588bd62b01a014",
       "version_major": 2,
       "version_minor": 0
      },
      "text/plain": [
       "HBox(children=(HTML(value=''), FloatProgress(value=0.0, max=45222.0), HTML(value='')))"
      ]
     },
     "metadata": {},
     "output_type": "display_data"
    },
    {
     "name": "stdout",
     "output_type": "stream",
     "text": [
      "\n",
      "Anonymization runtime: 0:08:36\n",
      "Calculating information loss metrics\n",
      "Calculating fast record linkage (disclosure risk), window size = 452.22\n"
     ]
    },
    {
     "data": {
      "application/vnd.jupyter.widget-view+json": {
       "model_id": "0fdbdd2a59814965a5302e08caa9be2e",
       "version_major": 2,
       "version_minor": 0
      },
      "text/plain": [
       "HBox(children=(HTML(value=''), FloatProgress(value=0.0, max=45222.0), HTML(value='')))"
      ]
     },
     "metadata": {},
     "output_type": "display_data"
    },
    {
     "name": "stdout",
     "output_type": "stream",
     "text": [
      "\n",
      "Anonymizing Differential_privacy, k = 250, epsilon = 1.0 via MDAV\n",
      "Anonymizing attribute: age (numerical_discrete)\n"
     ]
    },
    {
     "data": {
      "application/vnd.jupyter.widget-view+json": {
       "model_id": "b56a56dfa5954cda9758162a2702a5e9",
       "version_major": 2,
       "version_minor": 0
      },
      "text/plain": [
       "HBox(children=(HTML(value=''), FloatProgress(value=0.0, max=45222.0), HTML(value='')))"
      ]
     },
     "metadata": {},
     "output_type": "display_data"
    },
    {
     "name": "stdout",
     "output_type": "stream",
     "text": [
      "\n",
      "Anonymizing attribute: workclass (plain_categorical)\n"
     ]
    },
    {
     "data": {
      "application/vnd.jupyter.widget-view+json": {
       "model_id": "faf1c02a2fbf4da7a7cd1a50020f59c1",
       "version_major": 2,
       "version_minor": 0
      },
      "text/plain": [
       "HBox(children=(HTML(value=''), FloatProgress(value=0.0, max=45222.0), HTML(value='')))"
      ]
     },
     "metadata": {},
     "output_type": "display_data"
    },
    {
     "name": "stdout",
     "output_type": "stream",
     "text": [
      "\n",
      "Anonymizing attribute: education (plain_categorical)\n"
     ]
    },
    {
     "data": {
      "application/vnd.jupyter.widget-view+json": {
       "model_id": "668c988bbfd9498781bb7e8a80a1b81e",
       "version_major": 2,
       "version_minor": 0
      },
      "text/plain": [
       "HBox(children=(HTML(value=''), FloatProgress(value=0.0, max=45222.0), HTML(value='')))"
      ]
     },
     "metadata": {},
     "output_type": "display_data"
    },
    {
     "name": "stdout",
     "output_type": "stream",
     "text": [
      "\n",
      "Anonymizing attribute: marital-status (plain_categorical)\n"
     ]
    },
    {
     "data": {
      "application/vnd.jupyter.widget-view+json": {
       "model_id": "2e6aa6c3e37c4548b42ebcad0fb7abe3",
       "version_major": 2,
       "version_minor": 0
      },
      "text/plain": [
       "HBox(children=(HTML(value=''), FloatProgress(value=0.0, max=45222.0), HTML(value='')))"
      ]
     },
     "metadata": {},
     "output_type": "display_data"
    },
    {
     "name": "stdout",
     "output_type": "stream",
     "text": [
      "\n",
      "Anonymizing attribute: occupation (plain_categorical)\n"
     ]
    },
    {
     "data": {
      "application/vnd.jupyter.widget-view+json": {
       "model_id": "1f0c83f8426047e29f98551cbe1f8956",
       "version_major": 2,
       "version_minor": 0
      },
      "text/plain": [
       "HBox(children=(HTML(value=''), FloatProgress(value=0.0, max=45222.0), HTML(value='')))"
      ]
     },
     "metadata": {},
     "output_type": "display_data"
    },
    {
     "name": "stdout",
     "output_type": "stream",
     "text": [
      "\n",
      "Anonymizing attribute: relationship (plain_categorical)\n"
     ]
    },
    {
     "data": {
      "application/vnd.jupyter.widget-view+json": {
       "model_id": "6372aa405d8340f498533a6f839193fd",
       "version_major": 2,
       "version_minor": 0
      },
      "text/plain": [
       "HBox(children=(HTML(value=''), FloatProgress(value=0.0, max=45222.0), HTML(value='')))"
      ]
     },
     "metadata": {},
     "output_type": "display_data"
    },
    {
     "name": "stdout",
     "output_type": "stream",
     "text": [
      "\n",
      "Anonymizing attribute: race (plain_categorical)\n"
     ]
    },
    {
     "data": {
      "application/vnd.jupyter.widget-view+json": {
       "model_id": "f69fa227c4a54ff9bf66780f0d1ef88d",
       "version_major": 2,
       "version_minor": 0
      },
      "text/plain": [
       "HBox(children=(HTML(value=''), FloatProgress(value=0.0, max=45222.0), HTML(value='')))"
      ]
     },
     "metadata": {},
     "output_type": "display_data"
    },
    {
     "name": "stdout",
     "output_type": "stream",
     "text": [
      "\n",
      "Anonymizing attribute: sex (plain_categorical)\n"
     ]
    },
    {
     "data": {
      "application/vnd.jupyter.widget-view+json": {
       "model_id": "3df707fe074a4ca59f4b647d323bbef0",
       "version_major": 2,
       "version_minor": 0
      },
      "text/plain": [
       "HBox(children=(HTML(value=''), FloatProgress(value=0.0, max=45222.0), HTML(value='')))"
      ]
     },
     "metadata": {},
     "output_type": "display_data"
    },
    {
     "name": "stdout",
     "output_type": "stream",
     "text": [
      "\n",
      "Anonymizing attribute: hours-per-week (numerical_discrete)\n"
     ]
    },
    {
     "data": {
      "application/vnd.jupyter.widget-view+json": {
       "model_id": "a1904e8682ef45699fd0ff8ce1da0dbd",
       "version_major": 2,
       "version_minor": 0
      },
      "text/plain": [
       "HBox(children=(HTML(value=''), FloatProgress(value=0.0, max=45222.0), HTML(value='')))"
      ]
     },
     "metadata": {},
     "output_type": "display_data"
    },
    {
     "name": "stdout",
     "output_type": "stream",
     "text": [
      "\n",
      "Anonymizing attribute: native-country (plain_categorical)\n"
     ]
    },
    {
     "data": {
      "application/vnd.jupyter.widget-view+json": {
       "model_id": "2f1b927f169c4bf5b773a0964c9109aa",
       "version_major": 2,
       "version_minor": 0
      },
      "text/plain": [
       "HBox(children=(HTML(value=''), FloatProgress(value=0.0, max=45222.0), HTML(value='')))"
      ]
     },
     "metadata": {},
     "output_type": "display_data"
    },
    {
     "name": "stdout",
     "output_type": "stream",
     "text": [
      "\n",
      "Anonymization runtime: 0:03:36\n",
      "Calculating information loss metrics\n",
      "Calculating fast record linkage (disclosure risk), window size = 452.22\n"
     ]
    },
    {
     "data": {
      "application/vnd.jupyter.widget-view+json": {
       "model_id": "a7669caaf7fb4a43a0247c784e9b8268",
       "version_major": 2,
       "version_minor": 0
      },
      "text/plain": [
       "HBox(children=(HTML(value=''), FloatProgress(value=0.0, max=45222.0), HTML(value='')))"
      ]
     },
     "metadata": {},
     "output_type": "display_data"
    },
    {
     "name": "stdout",
     "output_type": "stream",
     "text": [
      "\n",
      "Anonymizing Differential_privacy, k = 500, epsilon = 1.0 via MDAV\n",
      "Anonymizing attribute: age (numerical_discrete)\n"
     ]
    },
    {
     "data": {
      "application/vnd.jupyter.widget-view+json": {
       "model_id": "fa885fcf3e6d43f68fe004508e296a83",
       "version_major": 2,
       "version_minor": 0
      },
      "text/plain": [
       "HBox(children=(HTML(value=''), FloatProgress(value=0.0, max=45222.0), HTML(value='')))"
      ]
     },
     "metadata": {},
     "output_type": "display_data"
    },
    {
     "name": "stdout",
     "output_type": "stream",
     "text": [
      "\n",
      "Anonymizing attribute: workclass (plain_categorical)\n"
     ]
    },
    {
     "data": {
      "application/vnd.jupyter.widget-view+json": {
       "model_id": "20c196436e504bb5a8ae18c0aa2c9cfd",
       "version_major": 2,
       "version_minor": 0
      },
      "text/plain": [
       "HBox(children=(HTML(value=''), FloatProgress(value=0.0, max=45222.0), HTML(value='')))"
      ]
     },
     "metadata": {},
     "output_type": "display_data"
    },
    {
     "name": "stdout",
     "output_type": "stream",
     "text": [
      "\n",
      "Anonymizing attribute: education (plain_categorical)\n"
     ]
    },
    {
     "data": {
      "application/vnd.jupyter.widget-view+json": {
       "model_id": "ffd70f7d02d84facabb8f87f53c3a2fa",
       "version_major": 2,
       "version_minor": 0
      },
      "text/plain": [
       "HBox(children=(HTML(value=''), FloatProgress(value=0.0, max=45222.0), HTML(value='')))"
      ]
     },
     "metadata": {},
     "output_type": "display_data"
    },
    {
     "name": "stdout",
     "output_type": "stream",
     "text": [
      "\n",
      "Anonymizing attribute: marital-status (plain_categorical)\n"
     ]
    },
    {
     "data": {
      "application/vnd.jupyter.widget-view+json": {
       "model_id": "0f04d9ed646d427bb11c92139beb8142",
       "version_major": 2,
       "version_minor": 0
      },
      "text/plain": [
       "HBox(children=(HTML(value=''), FloatProgress(value=0.0, max=45222.0), HTML(value='')))"
      ]
     },
     "metadata": {},
     "output_type": "display_data"
    },
    {
     "name": "stdout",
     "output_type": "stream",
     "text": [
      "\n",
      "Anonymizing attribute: occupation (plain_categorical)\n"
     ]
    },
    {
     "data": {
      "application/vnd.jupyter.widget-view+json": {
       "model_id": "3f1f6dc8fcd4493da25f2eae49a95018",
       "version_major": 2,
       "version_minor": 0
      },
      "text/plain": [
       "HBox(children=(HTML(value=''), FloatProgress(value=0.0, max=45222.0), HTML(value='')))"
      ]
     },
     "metadata": {},
     "output_type": "display_data"
    },
    {
     "name": "stdout",
     "output_type": "stream",
     "text": [
      "\n",
      "Anonymizing attribute: relationship (plain_categorical)\n"
     ]
    },
    {
     "data": {
      "application/vnd.jupyter.widget-view+json": {
       "model_id": "d180dbba915c40d7880f25698192d797",
       "version_major": 2,
       "version_minor": 0
      },
      "text/plain": [
       "HBox(children=(HTML(value=''), FloatProgress(value=0.0, max=45222.0), HTML(value='')))"
      ]
     },
     "metadata": {},
     "output_type": "display_data"
    },
    {
     "name": "stdout",
     "output_type": "stream",
     "text": [
      "\n",
      "Anonymizing attribute: race (plain_categorical)\n"
     ]
    },
    {
     "data": {
      "application/vnd.jupyter.widget-view+json": {
       "model_id": "be8df24628424e808cc31753be4f7ac5",
       "version_major": 2,
       "version_minor": 0
      },
      "text/plain": [
       "HBox(children=(HTML(value=''), FloatProgress(value=0.0, max=45222.0), HTML(value='')))"
      ]
     },
     "metadata": {},
     "output_type": "display_data"
    },
    {
     "name": "stdout",
     "output_type": "stream",
     "text": [
      "\n",
      "Anonymizing attribute: sex (plain_categorical)\n"
     ]
    },
    {
     "data": {
      "application/vnd.jupyter.widget-view+json": {
       "model_id": "f9f53f287e3242c38de15a1aa7608120",
       "version_major": 2,
       "version_minor": 0
      },
      "text/plain": [
       "HBox(children=(HTML(value=''), FloatProgress(value=0.0, max=45222.0), HTML(value='')))"
      ]
     },
     "metadata": {},
     "output_type": "display_data"
    },
    {
     "name": "stdout",
     "output_type": "stream",
     "text": [
      "\n",
      "Anonymizing attribute: hours-per-week (numerical_discrete)\n"
     ]
    },
    {
     "data": {
      "application/vnd.jupyter.widget-view+json": {
       "model_id": "f740e6c9193c4188b11363ace95ce7b2",
       "version_major": 2,
       "version_minor": 0
      },
      "text/plain": [
       "HBox(children=(HTML(value=''), FloatProgress(value=0.0, max=45222.0), HTML(value='')))"
      ]
     },
     "metadata": {},
     "output_type": "display_data"
    },
    {
     "name": "stdout",
     "output_type": "stream",
     "text": [
      "\n",
      "Anonymizing attribute: native-country (plain_categorical)\n"
     ]
    },
    {
     "data": {
      "application/vnd.jupyter.widget-view+json": {
       "model_id": "8c58829c89c14a4b8fc3211666c6e33d",
       "version_major": 2,
       "version_minor": 0
      },
      "text/plain": [
       "HBox(children=(HTML(value=''), FloatProgress(value=0.0, max=45222.0), HTML(value='')))"
      ]
     },
     "metadata": {},
     "output_type": "display_data"
    },
    {
     "name": "stdout",
     "output_type": "stream",
     "text": [
      "\n",
      "Anonymization runtime: 0:01:56\n",
      "Calculating information loss metrics\n",
      "Calculating fast record linkage (disclosure risk), window size = 452.22\n"
     ]
    },
    {
     "data": {
      "application/vnd.jupyter.widget-view+json": {
       "model_id": "9c642a7f60ae4dccbec1018e062ef93f",
       "version_major": 2,
       "version_minor": 0
      },
      "text/plain": [
       "HBox(children=(HTML(value=''), FloatProgress(value=0.0, max=45222.0), HTML(value='')))"
      ]
     },
     "metadata": {},
     "output_type": "display_data"
    },
    {
     "name": "stdout",
     "output_type": "stream",
     "text": [
      "\n"
     ]
    }
   ],
   "source": [
    "data_frame = utils.read_dataframe_from_csv(path_csv)\n",
    "dataset = Dataset_DataFrame(data_frame, path_settings)\n",
    "il_dp_mdav = []\n",
    "dr_dp_mdav = []\n",
    "run_dp_mdav = []\n",
    "epsilon = 1.0\n",
    "for k in k_list:\n",
    "    anonymization_scheme = Differential_privacy(dataset, k, epsilon)\n",
    "    algorithm = Mdav()\n",
    "    anonymization_scheme.calculate_anonymization(algorithm)\n",
    "    run_dp_mdav.append(Anonymization_scheme.runtime)\n",
    "    il_dp_mdav.append(anonymization_scheme.calculate_information_loss(dataset, anonymization_scheme.anonymized_dataset))\n",
    "    dr_dp_mdav.append(anonymization_scheme.calculate_fast_record_linkage(dataset, anonymization_scheme.anonymized_dataset))"
   ]
  },
  {
   "cell_type": "markdown",
   "metadata": {},
   "source": [
    "### 6.5 Differential privacy via individual ranking through microaggregation, epsilon=1.0"
   ]
  },
  {
   "cell_type": "code",
   "execution_count": 56,
   "metadata": {
    "scrolled": true
   },
   "outputs": [
    {
     "name": "stdout",
     "output_type": "stream",
     "text": [
      "Loading dataset\n",
      "Dataset loaded: ./anonymization/input_datasets/adult.csv\n",
      "Records loaded: 45222\n",
      "Anonymizing Differential_privacy, k = 10, epsilon = 1.0 via Microaggregation\n",
      "Anonymizing attribute: age (numerical_discrete)\n"
     ]
    },
    {
     "data": {
      "application/vnd.jupyter.widget-view+json": {
       "model_id": "1c1960983991496381ce8c26f9ac8fef",
       "version_major": 2,
       "version_minor": 0
      },
      "text/plain": [
       "HBox(children=(HTML(value=''), FloatProgress(value=0.0, max=45222.0), HTML(value='')))"
      ]
     },
     "metadata": {},
     "output_type": "display_data"
    },
    {
     "name": "stdout",
     "output_type": "stream",
     "text": [
      "\n",
      "Anonymizing attribute: workclass (plain_categorical)\n"
     ]
    },
    {
     "data": {
      "application/vnd.jupyter.widget-view+json": {
       "model_id": "3520d4340f9245fc80e62aaba2aaca88",
       "version_major": 2,
       "version_minor": 0
      },
      "text/plain": [
       "HBox(children=(HTML(value=''), FloatProgress(value=0.0, max=45222.0), HTML(value='')))"
      ]
     },
     "metadata": {},
     "output_type": "display_data"
    },
    {
     "name": "stdout",
     "output_type": "stream",
     "text": [
      "\n",
      "Anonymizing attribute: education (plain_categorical)\n"
     ]
    },
    {
     "data": {
      "application/vnd.jupyter.widget-view+json": {
       "model_id": "495efc91268b4a028643ebe860245395",
       "version_major": 2,
       "version_minor": 0
      },
      "text/plain": [
       "HBox(children=(HTML(value=''), FloatProgress(value=0.0, max=45222.0), HTML(value='')))"
      ]
     },
     "metadata": {},
     "output_type": "display_data"
    },
    {
     "name": "stdout",
     "output_type": "stream",
     "text": [
      "\n",
      "Anonymizing attribute: marital-status (plain_categorical)\n"
     ]
    },
    {
     "data": {
      "application/vnd.jupyter.widget-view+json": {
       "model_id": "12c4625f98f34b2ba56ccc401e423919",
       "version_major": 2,
       "version_minor": 0
      },
      "text/plain": [
       "HBox(children=(HTML(value=''), FloatProgress(value=0.0, max=45222.0), HTML(value='')))"
      ]
     },
     "metadata": {},
     "output_type": "display_data"
    },
    {
     "name": "stdout",
     "output_type": "stream",
     "text": [
      "\n",
      "Anonymizing attribute: occupation (plain_categorical)\n"
     ]
    },
    {
     "data": {
      "application/vnd.jupyter.widget-view+json": {
       "model_id": "1b462a1382b44e7089649c00fc6bf5f1",
       "version_major": 2,
       "version_minor": 0
      },
      "text/plain": [
       "HBox(children=(HTML(value=''), FloatProgress(value=0.0, max=45222.0), HTML(value='')))"
      ]
     },
     "metadata": {},
     "output_type": "display_data"
    },
    {
     "name": "stdout",
     "output_type": "stream",
     "text": [
      "\n",
      "Anonymizing attribute: relationship (plain_categorical)\n"
     ]
    },
    {
     "data": {
      "application/vnd.jupyter.widget-view+json": {
       "model_id": "16d19e8c93434e68830ac0a262932a91",
       "version_major": 2,
       "version_minor": 0
      },
      "text/plain": [
       "HBox(children=(HTML(value=''), FloatProgress(value=0.0, max=45222.0), HTML(value='')))"
      ]
     },
     "metadata": {},
     "output_type": "display_data"
    },
    {
     "name": "stdout",
     "output_type": "stream",
     "text": [
      "\n",
      "Anonymizing attribute: race (plain_categorical)\n"
     ]
    },
    {
     "data": {
      "application/vnd.jupyter.widget-view+json": {
       "model_id": "a237c77f4f204fc084c52087a439280d",
       "version_major": 2,
       "version_minor": 0
      },
      "text/plain": [
       "HBox(children=(HTML(value=''), FloatProgress(value=0.0, max=45222.0), HTML(value='')))"
      ]
     },
     "metadata": {},
     "output_type": "display_data"
    },
    {
     "name": "stdout",
     "output_type": "stream",
     "text": [
      "\n",
      "Anonymizing attribute: sex (plain_categorical)\n"
     ]
    },
    {
     "data": {
      "application/vnd.jupyter.widget-view+json": {
       "model_id": "d8ede2b3530c4d89b05481054107b705",
       "version_major": 2,
       "version_minor": 0
      },
      "text/plain": [
       "HBox(children=(HTML(value=''), FloatProgress(value=0.0, max=45222.0), HTML(value='')))"
      ]
     },
     "metadata": {},
     "output_type": "display_data"
    },
    {
     "name": "stdout",
     "output_type": "stream",
     "text": [
      "\n",
      "Anonymizing attribute: hours-per-week (numerical_discrete)\n"
     ]
    },
    {
     "data": {
      "application/vnd.jupyter.widget-view+json": {
       "model_id": "c40a169b91264161845093d604ce5fff",
       "version_major": 2,
       "version_minor": 0
      },
      "text/plain": [
       "HBox(children=(HTML(value=''), FloatProgress(value=0.0, max=45222.0), HTML(value='')))"
      ]
     },
     "metadata": {},
     "output_type": "display_data"
    },
    {
     "name": "stdout",
     "output_type": "stream",
     "text": [
      "\n",
      "Anonymizing attribute: native-country (plain_categorical)\n"
     ]
    },
    {
     "data": {
      "application/vnd.jupyter.widget-view+json": {
       "model_id": "4079f9b5f713441ba091a21c28df9aeb",
       "version_major": 2,
       "version_minor": 0
      },
      "text/plain": [
       "HBox(children=(HTML(value=''), FloatProgress(value=0.0, max=45222.0), HTML(value='')))"
      ]
     },
     "metadata": {},
     "output_type": "display_data"
    },
    {
     "name": "stdout",
     "output_type": "stream",
     "text": [
      "\n",
      "Anonymization runtime: 0:00:34\n",
      "Calculating information loss metrics\n",
      "Calculating fast record linkage (disclosure risk), window size = 452.22\n"
     ]
    },
    {
     "data": {
      "application/vnd.jupyter.widget-view+json": {
       "model_id": "462958226a1143ac86553b4db658e97f",
       "version_major": 2,
       "version_minor": 0
      },
      "text/plain": [
       "HBox(children=(HTML(value=''), FloatProgress(value=0.0, max=45222.0), HTML(value='')))"
      ]
     },
     "metadata": {},
     "output_type": "display_data"
    },
    {
     "name": "stdout",
     "output_type": "stream",
     "text": [
      "\n",
      "Anonymizing Differential_privacy, k = 25, epsilon = 1.0 via Microaggregation\n",
      "Anonymizing attribute: age (numerical_discrete)\n"
     ]
    },
    {
     "data": {
      "application/vnd.jupyter.widget-view+json": {
       "model_id": "13e4e78466da41bd830a3811240a0879",
       "version_major": 2,
       "version_minor": 0
      },
      "text/plain": [
       "HBox(children=(HTML(value=''), FloatProgress(value=0.0, max=45222.0), HTML(value='')))"
      ]
     },
     "metadata": {},
     "output_type": "display_data"
    },
    {
     "name": "stdout",
     "output_type": "stream",
     "text": [
      "\n",
      "Anonymizing attribute: workclass (plain_categorical)\n"
     ]
    },
    {
     "data": {
      "application/vnd.jupyter.widget-view+json": {
       "model_id": "1d5d8e055aaf48fc81d7a4bd6805616d",
       "version_major": 2,
       "version_minor": 0
      },
      "text/plain": [
       "HBox(children=(HTML(value=''), FloatProgress(value=0.0, max=45222.0), HTML(value='')))"
      ]
     },
     "metadata": {},
     "output_type": "display_data"
    },
    {
     "name": "stdout",
     "output_type": "stream",
     "text": [
      "\n",
      "Anonymizing attribute: education (plain_categorical)\n"
     ]
    },
    {
     "data": {
      "application/vnd.jupyter.widget-view+json": {
       "model_id": "0ceaf5c958544e7d96071075e30c9ee5",
       "version_major": 2,
       "version_minor": 0
      },
      "text/plain": [
       "HBox(children=(HTML(value=''), FloatProgress(value=0.0, max=45222.0), HTML(value='')))"
      ]
     },
     "metadata": {},
     "output_type": "display_data"
    },
    {
     "name": "stdout",
     "output_type": "stream",
     "text": [
      "\n",
      "Anonymizing attribute: marital-status (plain_categorical)\n"
     ]
    },
    {
     "data": {
      "application/vnd.jupyter.widget-view+json": {
       "model_id": "c17411b3d40d443ab9e8ebeaca916d1f",
       "version_major": 2,
       "version_minor": 0
      },
      "text/plain": [
       "HBox(children=(HTML(value=''), FloatProgress(value=0.0, max=45222.0), HTML(value='')))"
      ]
     },
     "metadata": {},
     "output_type": "display_data"
    },
    {
     "name": "stdout",
     "output_type": "stream",
     "text": [
      "\n",
      "Anonymizing attribute: occupation (plain_categorical)\n"
     ]
    },
    {
     "data": {
      "application/vnd.jupyter.widget-view+json": {
       "model_id": "4b2fb39b84464cefa20e3dc98dd4d6a5",
       "version_major": 2,
       "version_minor": 0
      },
      "text/plain": [
       "HBox(children=(HTML(value=''), FloatProgress(value=0.0, max=45222.0), HTML(value='')))"
      ]
     },
     "metadata": {},
     "output_type": "display_data"
    },
    {
     "name": "stdout",
     "output_type": "stream",
     "text": [
      "\n",
      "Anonymizing attribute: relationship (plain_categorical)\n"
     ]
    },
    {
     "data": {
      "application/vnd.jupyter.widget-view+json": {
       "model_id": "ec307fb5961d48a4b95ad9d83f824ccc",
       "version_major": 2,
       "version_minor": 0
      },
      "text/plain": [
       "HBox(children=(HTML(value=''), FloatProgress(value=0.0, max=45222.0), HTML(value='')))"
      ]
     },
     "metadata": {},
     "output_type": "display_data"
    },
    {
     "name": "stdout",
     "output_type": "stream",
     "text": [
      "\n",
      "Anonymizing attribute: race (plain_categorical)\n"
     ]
    },
    {
     "data": {
      "application/vnd.jupyter.widget-view+json": {
       "model_id": "814c9a76d0c04e2e8bd1e65ecfdba362",
       "version_major": 2,
       "version_minor": 0
      },
      "text/plain": [
       "HBox(children=(HTML(value=''), FloatProgress(value=0.0, max=45222.0), HTML(value='')))"
      ]
     },
     "metadata": {},
     "output_type": "display_data"
    },
    {
     "name": "stdout",
     "output_type": "stream",
     "text": [
      "\n",
      "Anonymizing attribute: sex (plain_categorical)\n"
     ]
    },
    {
     "data": {
      "application/vnd.jupyter.widget-view+json": {
       "model_id": "286f4aa410134152a8c949b1147defaa",
       "version_major": 2,
       "version_minor": 0
      },
      "text/plain": [
       "HBox(children=(HTML(value=''), FloatProgress(value=0.0, max=45222.0), HTML(value='')))"
      ]
     },
     "metadata": {},
     "output_type": "display_data"
    },
    {
     "name": "stdout",
     "output_type": "stream",
     "text": [
      "\n",
      "Anonymizing attribute: hours-per-week (numerical_discrete)\n"
     ]
    },
    {
     "data": {
      "application/vnd.jupyter.widget-view+json": {
       "model_id": "92d59c039b13424da24c43652d703bef",
       "version_major": 2,
       "version_minor": 0
      },
      "text/plain": [
       "HBox(children=(HTML(value=''), FloatProgress(value=0.0, max=45222.0), HTML(value='')))"
      ]
     },
     "metadata": {},
     "output_type": "display_data"
    },
    {
     "name": "stdout",
     "output_type": "stream",
     "text": [
      "\n",
      "Anonymizing attribute: native-country (plain_categorical)\n"
     ]
    },
    {
     "data": {
      "application/vnd.jupyter.widget-view+json": {
       "model_id": "628211cd19374ff183ff4f2dbec6fb3d",
       "version_major": 2,
       "version_minor": 0
      },
      "text/plain": [
       "HBox(children=(HTML(value=''), FloatProgress(value=0.0, max=45222.0), HTML(value='')))"
      ]
     },
     "metadata": {},
     "output_type": "display_data"
    },
    {
     "name": "stdout",
     "output_type": "stream",
     "text": [
      "\n",
      "Anonymization runtime: 0:00:29\n",
      "Calculating information loss metrics\n",
      "Calculating fast record linkage (disclosure risk), window size = 452.22\n"
     ]
    },
    {
     "data": {
      "application/vnd.jupyter.widget-view+json": {
       "model_id": "f9ca608751c24820a9f825be50155683",
       "version_major": 2,
       "version_minor": 0
      },
      "text/plain": [
       "HBox(children=(HTML(value=''), FloatProgress(value=0.0, max=45222.0), HTML(value='')))"
      ]
     },
     "metadata": {},
     "output_type": "display_data"
    },
    {
     "name": "stdout",
     "output_type": "stream",
     "text": [
      "\n",
      "Anonymizing Differential_privacy, k = 50, epsilon = 1.0 via Microaggregation\n",
      "Anonymizing attribute: age (numerical_discrete)\n"
     ]
    },
    {
     "data": {
      "application/vnd.jupyter.widget-view+json": {
       "model_id": "3f4a0206976a4bdb99ce19c857104bd2",
       "version_major": 2,
       "version_minor": 0
      },
      "text/plain": [
       "HBox(children=(HTML(value=''), FloatProgress(value=0.0, max=45222.0), HTML(value='')))"
      ]
     },
     "metadata": {},
     "output_type": "display_data"
    },
    {
     "name": "stdout",
     "output_type": "stream",
     "text": [
      "\n",
      "Anonymizing attribute: workclass (plain_categorical)\n"
     ]
    },
    {
     "data": {
      "application/vnd.jupyter.widget-view+json": {
       "model_id": "69732d1608074abfb2c652ad4072497a",
       "version_major": 2,
       "version_minor": 0
      },
      "text/plain": [
       "HBox(children=(HTML(value=''), FloatProgress(value=0.0, max=45222.0), HTML(value='')))"
      ]
     },
     "metadata": {},
     "output_type": "display_data"
    },
    {
     "name": "stdout",
     "output_type": "stream",
     "text": [
      "\n",
      "Anonymizing attribute: education (plain_categorical)\n"
     ]
    },
    {
     "data": {
      "application/vnd.jupyter.widget-view+json": {
       "model_id": "84e157ba916d4d0da0faf616a68d4dcc",
       "version_major": 2,
       "version_minor": 0
      },
      "text/plain": [
       "HBox(children=(HTML(value=''), FloatProgress(value=0.0, max=45222.0), HTML(value='')))"
      ]
     },
     "metadata": {},
     "output_type": "display_data"
    },
    {
     "name": "stdout",
     "output_type": "stream",
     "text": [
      "\n",
      "Anonymizing attribute: marital-status (plain_categorical)\n"
     ]
    },
    {
     "data": {
      "application/vnd.jupyter.widget-view+json": {
       "model_id": "04faaa825eaf4feaafef037002589406",
       "version_major": 2,
       "version_minor": 0
      },
      "text/plain": [
       "HBox(children=(HTML(value=''), FloatProgress(value=0.0, max=45222.0), HTML(value='')))"
      ]
     },
     "metadata": {},
     "output_type": "display_data"
    },
    {
     "name": "stdout",
     "output_type": "stream",
     "text": [
      "\n",
      "Anonymizing attribute: occupation (plain_categorical)\n"
     ]
    },
    {
     "data": {
      "application/vnd.jupyter.widget-view+json": {
       "model_id": "47542156def24614aedab6459e2ffdf4",
       "version_major": 2,
       "version_minor": 0
      },
      "text/plain": [
       "HBox(children=(HTML(value=''), FloatProgress(value=0.0, max=45222.0), HTML(value='')))"
      ]
     },
     "metadata": {},
     "output_type": "display_data"
    },
    {
     "name": "stdout",
     "output_type": "stream",
     "text": [
      "\n",
      "Anonymizing attribute: relationship (plain_categorical)\n"
     ]
    },
    {
     "data": {
      "application/vnd.jupyter.widget-view+json": {
       "model_id": "0d98f16bbe22422fbb669744cbbf8270",
       "version_major": 2,
       "version_minor": 0
      },
      "text/plain": [
       "HBox(children=(HTML(value=''), FloatProgress(value=0.0, max=45222.0), HTML(value='')))"
      ]
     },
     "metadata": {},
     "output_type": "display_data"
    },
    {
     "name": "stdout",
     "output_type": "stream",
     "text": [
      "\n",
      "Anonymizing attribute: race (plain_categorical)\n"
     ]
    },
    {
     "data": {
      "application/vnd.jupyter.widget-view+json": {
       "model_id": "28645560cde040638e05a33ef45fa6db",
       "version_major": 2,
       "version_minor": 0
      },
      "text/plain": [
       "HBox(children=(HTML(value=''), FloatProgress(value=0.0, max=45222.0), HTML(value='')))"
      ]
     },
     "metadata": {},
     "output_type": "display_data"
    },
    {
     "name": "stdout",
     "output_type": "stream",
     "text": [
      "\n",
      "Anonymizing attribute: sex (plain_categorical)\n"
     ]
    },
    {
     "data": {
      "application/vnd.jupyter.widget-view+json": {
       "model_id": "c03485f6b8ed4a1996cc347ac71f73f2",
       "version_major": 2,
       "version_minor": 0
      },
      "text/plain": [
       "HBox(children=(HTML(value=''), FloatProgress(value=0.0, max=45222.0), HTML(value='')))"
      ]
     },
     "metadata": {},
     "output_type": "display_data"
    },
    {
     "name": "stdout",
     "output_type": "stream",
     "text": [
      "\n",
      "Anonymizing attribute: hours-per-week (numerical_discrete)\n"
     ]
    },
    {
     "data": {
      "application/vnd.jupyter.widget-view+json": {
       "model_id": "beb964cb0cb8452d8cfea33667c0bc0e",
       "version_major": 2,
       "version_minor": 0
      },
      "text/plain": [
       "HBox(children=(HTML(value=''), FloatProgress(value=0.0, max=45222.0), HTML(value='')))"
      ]
     },
     "metadata": {},
     "output_type": "display_data"
    },
    {
     "name": "stdout",
     "output_type": "stream",
     "text": [
      "\n",
      "Anonymizing attribute: native-country (plain_categorical)\n"
     ]
    },
    {
     "data": {
      "application/vnd.jupyter.widget-view+json": {
       "model_id": "5c8bd41ccf5e4faa904d8e29cd93bb6b",
       "version_major": 2,
       "version_minor": 0
      },
      "text/plain": [
       "HBox(children=(HTML(value=''), FloatProgress(value=0.0, max=45222.0), HTML(value='')))"
      ]
     },
     "metadata": {},
     "output_type": "display_data"
    },
    {
     "name": "stdout",
     "output_type": "stream",
     "text": [
      "\n",
      "Anonymization runtime: 0:00:27\n",
      "Calculating information loss metrics\n",
      "Calculating fast record linkage (disclosure risk), window size = 452.22\n"
     ]
    },
    {
     "data": {
      "application/vnd.jupyter.widget-view+json": {
       "model_id": "1140c16695bd44569cbe3d3b5282ee04",
       "version_major": 2,
       "version_minor": 0
      },
      "text/plain": [
       "HBox(children=(HTML(value=''), FloatProgress(value=0.0, max=45222.0), HTML(value='')))"
      ]
     },
     "metadata": {},
     "output_type": "display_data"
    },
    {
     "name": "stdout",
     "output_type": "stream",
     "text": [
      "\n",
      "Anonymizing Differential_privacy, k = 100, epsilon = 1.0 via Microaggregation\n",
      "Anonymizing attribute: age (numerical_discrete)\n"
     ]
    },
    {
     "data": {
      "application/vnd.jupyter.widget-view+json": {
       "model_id": "ab16680a85574e4893b168c584568238",
       "version_major": 2,
       "version_minor": 0
      },
      "text/plain": [
       "HBox(children=(HTML(value=''), FloatProgress(value=0.0, max=45222.0), HTML(value='')))"
      ]
     },
     "metadata": {},
     "output_type": "display_data"
    },
    {
     "name": "stdout",
     "output_type": "stream",
     "text": [
      "\n",
      "Anonymizing attribute: workclass (plain_categorical)\n"
     ]
    },
    {
     "data": {
      "application/vnd.jupyter.widget-view+json": {
       "model_id": "94c4cf1c332e42e19c80c742e1376998",
       "version_major": 2,
       "version_minor": 0
      },
      "text/plain": [
       "HBox(children=(HTML(value=''), FloatProgress(value=0.0, max=45222.0), HTML(value='')))"
      ]
     },
     "metadata": {},
     "output_type": "display_data"
    },
    {
     "name": "stdout",
     "output_type": "stream",
     "text": [
      "\n",
      "Anonymizing attribute: education (plain_categorical)\n"
     ]
    },
    {
     "data": {
      "application/vnd.jupyter.widget-view+json": {
       "model_id": "7a6ba39decbe4e779b756d0e289d5452",
       "version_major": 2,
       "version_minor": 0
      },
      "text/plain": [
       "HBox(children=(HTML(value=''), FloatProgress(value=0.0, max=45222.0), HTML(value='')))"
      ]
     },
     "metadata": {},
     "output_type": "display_data"
    },
    {
     "name": "stdout",
     "output_type": "stream",
     "text": [
      "\n",
      "Anonymizing attribute: marital-status (plain_categorical)\n"
     ]
    },
    {
     "data": {
      "application/vnd.jupyter.widget-view+json": {
       "model_id": "e07608550c6847c2803040c3ce6ca8d2",
       "version_major": 2,
       "version_minor": 0
      },
      "text/plain": [
       "HBox(children=(HTML(value=''), FloatProgress(value=0.0, max=45222.0), HTML(value='')))"
      ]
     },
     "metadata": {},
     "output_type": "display_data"
    },
    {
     "name": "stdout",
     "output_type": "stream",
     "text": [
      "\n",
      "Anonymizing attribute: occupation (plain_categorical)\n"
     ]
    },
    {
     "data": {
      "application/vnd.jupyter.widget-view+json": {
       "model_id": "24c0fada44484f0b9572f73d7a4c99cf",
       "version_major": 2,
       "version_minor": 0
      },
      "text/plain": [
       "HBox(children=(HTML(value=''), FloatProgress(value=0.0, max=45222.0), HTML(value='')))"
      ]
     },
     "metadata": {},
     "output_type": "display_data"
    },
    {
     "name": "stdout",
     "output_type": "stream",
     "text": [
      "\n",
      "Anonymizing attribute: relationship (plain_categorical)\n"
     ]
    },
    {
     "data": {
      "application/vnd.jupyter.widget-view+json": {
       "model_id": "f2139993359a43d59b827f5b009638ed",
       "version_major": 2,
       "version_minor": 0
      },
      "text/plain": [
       "HBox(children=(HTML(value=''), FloatProgress(value=0.0, max=45222.0), HTML(value='')))"
      ]
     },
     "metadata": {},
     "output_type": "display_data"
    },
    {
     "name": "stdout",
     "output_type": "stream",
     "text": [
      "\n",
      "Anonymizing attribute: race (plain_categorical)\n"
     ]
    },
    {
     "data": {
      "application/vnd.jupyter.widget-view+json": {
       "model_id": "0b9fac09cba848db949e50e3a01818e6",
       "version_major": 2,
       "version_minor": 0
      },
      "text/plain": [
       "HBox(children=(HTML(value=''), FloatProgress(value=0.0, max=45222.0), HTML(value='')))"
      ]
     },
     "metadata": {},
     "output_type": "display_data"
    },
    {
     "name": "stdout",
     "output_type": "stream",
     "text": [
      "\n",
      "Anonymizing attribute: sex (plain_categorical)\n"
     ]
    },
    {
     "data": {
      "application/vnd.jupyter.widget-view+json": {
       "model_id": "b0fad93a9f994b53acb31aec8562288d",
       "version_major": 2,
       "version_minor": 0
      },
      "text/plain": [
       "HBox(children=(HTML(value=''), FloatProgress(value=0.0, max=45222.0), HTML(value='')))"
      ]
     },
     "metadata": {},
     "output_type": "display_data"
    },
    {
     "name": "stdout",
     "output_type": "stream",
     "text": [
      "\n",
      "Anonymizing attribute: hours-per-week (numerical_discrete)\n"
     ]
    },
    {
     "data": {
      "application/vnd.jupyter.widget-view+json": {
       "model_id": "3ff214ff332a4149900875d1c76be781",
       "version_major": 2,
       "version_minor": 0
      },
      "text/plain": [
       "HBox(children=(HTML(value=''), FloatProgress(value=0.0, max=45222.0), HTML(value='')))"
      ]
     },
     "metadata": {},
     "output_type": "display_data"
    },
    {
     "name": "stdout",
     "output_type": "stream",
     "text": [
      "\n",
      "Anonymizing attribute: native-country (plain_categorical)\n"
     ]
    },
    {
     "data": {
      "application/vnd.jupyter.widget-view+json": {
       "model_id": "7258fd87d07a4aca94451d4251b88158",
       "version_major": 2,
       "version_minor": 0
      },
      "text/plain": [
       "HBox(children=(HTML(value=''), FloatProgress(value=0.0, max=45222.0), HTML(value='')))"
      ]
     },
     "metadata": {},
     "output_type": "display_data"
    },
    {
     "name": "stdout",
     "output_type": "stream",
     "text": [
      "\n",
      "Anonymization runtime: 0:00:26\n",
      "Calculating information loss metrics\n",
      "Calculating fast record linkage (disclosure risk), window size = 452.22\n"
     ]
    },
    {
     "data": {
      "application/vnd.jupyter.widget-view+json": {
       "model_id": "472bf1878b354041a535f44100144dea",
       "version_major": 2,
       "version_minor": 0
      },
      "text/plain": [
       "HBox(children=(HTML(value=''), FloatProgress(value=0.0, max=45222.0), HTML(value='')))"
      ]
     },
     "metadata": {},
     "output_type": "display_data"
    },
    {
     "name": "stdout",
     "output_type": "stream",
     "text": [
      "\n",
      "Anonymizing Differential_privacy, k = 250, epsilon = 1.0 via Microaggregation\n",
      "Anonymizing attribute: age (numerical_discrete)\n"
     ]
    },
    {
     "data": {
      "application/vnd.jupyter.widget-view+json": {
       "model_id": "bc9545bfb3b8482993982ae60b610c1c",
       "version_major": 2,
       "version_minor": 0
      },
      "text/plain": [
       "HBox(children=(HTML(value=''), FloatProgress(value=0.0, max=45222.0), HTML(value='')))"
      ]
     },
     "metadata": {},
     "output_type": "display_data"
    },
    {
     "name": "stdout",
     "output_type": "stream",
     "text": [
      "\n",
      "Anonymizing attribute: workclass (plain_categorical)\n"
     ]
    },
    {
     "data": {
      "application/vnd.jupyter.widget-view+json": {
       "model_id": "22e16f84a94146eea1309867012a265f",
       "version_major": 2,
       "version_minor": 0
      },
      "text/plain": [
       "HBox(children=(HTML(value=''), FloatProgress(value=0.0, max=45222.0), HTML(value='')))"
      ]
     },
     "metadata": {},
     "output_type": "display_data"
    },
    {
     "name": "stdout",
     "output_type": "stream",
     "text": [
      "\n",
      "Anonymizing attribute: education (plain_categorical)\n"
     ]
    },
    {
     "data": {
      "application/vnd.jupyter.widget-view+json": {
       "model_id": "367e4a4059b44ab99dde106c0b907f59",
       "version_major": 2,
       "version_minor": 0
      },
      "text/plain": [
       "HBox(children=(HTML(value=''), FloatProgress(value=0.0, max=45222.0), HTML(value='')))"
      ]
     },
     "metadata": {},
     "output_type": "display_data"
    },
    {
     "name": "stdout",
     "output_type": "stream",
     "text": [
      "\n",
      "Anonymizing attribute: marital-status (plain_categorical)\n"
     ]
    },
    {
     "data": {
      "application/vnd.jupyter.widget-view+json": {
       "model_id": "60f5600acc01434786104415662da362",
       "version_major": 2,
       "version_minor": 0
      },
      "text/plain": [
       "HBox(children=(HTML(value=''), FloatProgress(value=0.0, max=45222.0), HTML(value='')))"
      ]
     },
     "metadata": {},
     "output_type": "display_data"
    },
    {
     "name": "stdout",
     "output_type": "stream",
     "text": [
      "\n",
      "Anonymizing attribute: occupation (plain_categorical)\n"
     ]
    },
    {
     "data": {
      "application/vnd.jupyter.widget-view+json": {
       "model_id": "ce000db12ef949348cd95363b940c207",
       "version_major": 2,
       "version_minor": 0
      },
      "text/plain": [
       "HBox(children=(HTML(value=''), FloatProgress(value=0.0, max=45222.0), HTML(value='')))"
      ]
     },
     "metadata": {},
     "output_type": "display_data"
    },
    {
     "name": "stdout",
     "output_type": "stream",
     "text": [
      "\n",
      "Anonymizing attribute: relationship (plain_categorical)\n"
     ]
    },
    {
     "data": {
      "application/vnd.jupyter.widget-view+json": {
       "model_id": "2939045d008e4b51aa19f8da2408311d",
       "version_major": 2,
       "version_minor": 0
      },
      "text/plain": [
       "HBox(children=(HTML(value=''), FloatProgress(value=0.0, max=45222.0), HTML(value='')))"
      ]
     },
     "metadata": {},
     "output_type": "display_data"
    },
    {
     "name": "stdout",
     "output_type": "stream",
     "text": [
      "\n",
      "Anonymizing attribute: race (plain_categorical)\n"
     ]
    },
    {
     "data": {
      "application/vnd.jupyter.widget-view+json": {
       "model_id": "6c88d56d24ce45b98547464359384a3d",
       "version_major": 2,
       "version_minor": 0
      },
      "text/plain": [
       "HBox(children=(HTML(value=''), FloatProgress(value=0.0, max=45222.0), HTML(value='')))"
      ]
     },
     "metadata": {},
     "output_type": "display_data"
    },
    {
     "name": "stdout",
     "output_type": "stream",
     "text": [
      "\n",
      "Anonymizing attribute: sex (plain_categorical)\n"
     ]
    },
    {
     "data": {
      "application/vnd.jupyter.widget-view+json": {
       "model_id": "03dcadee93ac4bb1b16736cb012de937",
       "version_major": 2,
       "version_minor": 0
      },
      "text/plain": [
       "HBox(children=(HTML(value=''), FloatProgress(value=0.0, max=45222.0), HTML(value='')))"
      ]
     },
     "metadata": {},
     "output_type": "display_data"
    },
    {
     "name": "stdout",
     "output_type": "stream",
     "text": [
      "\n",
      "Anonymizing attribute: hours-per-week (numerical_discrete)\n"
     ]
    },
    {
     "data": {
      "application/vnd.jupyter.widget-view+json": {
       "model_id": "57b86b4b918041fbb81b111d5487d9bf",
       "version_major": 2,
       "version_minor": 0
      },
      "text/plain": [
       "HBox(children=(HTML(value=''), FloatProgress(value=0.0, max=45222.0), HTML(value='')))"
      ]
     },
     "metadata": {},
     "output_type": "display_data"
    },
    {
     "name": "stdout",
     "output_type": "stream",
     "text": [
      "\n",
      "Anonymizing attribute: native-country (plain_categorical)\n"
     ]
    },
    {
     "data": {
      "application/vnd.jupyter.widget-view+json": {
       "model_id": "5161a062063f407a9faf762da8b4b585",
       "version_major": 2,
       "version_minor": 0
      },
      "text/plain": [
       "HBox(children=(HTML(value=''), FloatProgress(value=0.0, max=45222.0), HTML(value='')))"
      ]
     },
     "metadata": {},
     "output_type": "display_data"
    },
    {
     "name": "stdout",
     "output_type": "stream",
     "text": [
      "\n",
      "Anonymization runtime: 0:00:25\n",
      "Calculating information loss metrics\n",
      "Calculating fast record linkage (disclosure risk), window size = 452.22\n"
     ]
    },
    {
     "data": {
      "application/vnd.jupyter.widget-view+json": {
       "model_id": "a5d6428ddd784c029817406c65c1f31d",
       "version_major": 2,
       "version_minor": 0
      },
      "text/plain": [
       "HBox(children=(HTML(value=''), FloatProgress(value=0.0, max=45222.0), HTML(value='')))"
      ]
     },
     "metadata": {},
     "output_type": "display_data"
    },
    {
     "name": "stdout",
     "output_type": "stream",
     "text": [
      "\n",
      "Anonymizing Differential_privacy, k = 500, epsilon = 1.0 via Microaggregation\n",
      "Anonymizing attribute: age (numerical_discrete)\n"
     ]
    },
    {
     "data": {
      "application/vnd.jupyter.widget-view+json": {
       "model_id": "058db42bc224487996a767342062fb39",
       "version_major": 2,
       "version_minor": 0
      },
      "text/plain": [
       "HBox(children=(HTML(value=''), FloatProgress(value=0.0, max=45222.0), HTML(value='')))"
      ]
     },
     "metadata": {},
     "output_type": "display_data"
    },
    {
     "name": "stdout",
     "output_type": "stream",
     "text": [
      "\n",
      "Anonymizing attribute: workclass (plain_categorical)\n"
     ]
    },
    {
     "data": {
      "application/vnd.jupyter.widget-view+json": {
       "model_id": "9389ca035ac94a4389fef2d5d6d1c933",
       "version_major": 2,
       "version_minor": 0
      },
      "text/plain": [
       "HBox(children=(HTML(value=''), FloatProgress(value=0.0, max=45222.0), HTML(value='')))"
      ]
     },
     "metadata": {},
     "output_type": "display_data"
    },
    {
     "name": "stdout",
     "output_type": "stream",
     "text": [
      "\n",
      "Anonymizing attribute: education (plain_categorical)\n"
     ]
    },
    {
     "data": {
      "application/vnd.jupyter.widget-view+json": {
       "model_id": "7874c1a1befe4e94ab16e2779e89d385",
       "version_major": 2,
       "version_minor": 0
      },
      "text/plain": [
       "HBox(children=(HTML(value=''), FloatProgress(value=0.0, max=45222.0), HTML(value='')))"
      ]
     },
     "metadata": {},
     "output_type": "display_data"
    },
    {
     "name": "stdout",
     "output_type": "stream",
     "text": [
      "\n",
      "Anonymizing attribute: marital-status (plain_categorical)\n"
     ]
    },
    {
     "data": {
      "application/vnd.jupyter.widget-view+json": {
       "model_id": "da005a4c7abf4d799380e9cae167b59e",
       "version_major": 2,
       "version_minor": 0
      },
      "text/plain": [
       "HBox(children=(HTML(value=''), FloatProgress(value=0.0, max=45222.0), HTML(value='')))"
      ]
     },
     "metadata": {},
     "output_type": "display_data"
    },
    {
     "name": "stdout",
     "output_type": "stream",
     "text": [
      "\n",
      "Anonymizing attribute: occupation (plain_categorical)\n"
     ]
    },
    {
     "data": {
      "application/vnd.jupyter.widget-view+json": {
       "model_id": "8919c17b77164782a06f2c79db96cf9b",
       "version_major": 2,
       "version_minor": 0
      },
      "text/plain": [
       "HBox(children=(HTML(value=''), FloatProgress(value=0.0, max=45222.0), HTML(value='')))"
      ]
     },
     "metadata": {},
     "output_type": "display_data"
    },
    {
     "name": "stdout",
     "output_type": "stream",
     "text": [
      "\n",
      "Anonymizing attribute: relationship (plain_categorical)\n"
     ]
    },
    {
     "data": {
      "application/vnd.jupyter.widget-view+json": {
       "model_id": "afeec4a3d02f4ddc95d150da9e0603f1",
       "version_major": 2,
       "version_minor": 0
      },
      "text/plain": [
       "HBox(children=(HTML(value=''), FloatProgress(value=0.0, max=45222.0), HTML(value='')))"
      ]
     },
     "metadata": {},
     "output_type": "display_data"
    },
    {
     "name": "stdout",
     "output_type": "stream",
     "text": [
      "\n",
      "Anonymizing attribute: race (plain_categorical)\n"
     ]
    },
    {
     "data": {
      "application/vnd.jupyter.widget-view+json": {
       "model_id": "af5b1c27474c4ecaac9634e7f9e2eef1",
       "version_major": 2,
       "version_minor": 0
      },
      "text/plain": [
       "HBox(children=(HTML(value=''), FloatProgress(value=0.0, max=45222.0), HTML(value='')))"
      ]
     },
     "metadata": {},
     "output_type": "display_data"
    },
    {
     "name": "stdout",
     "output_type": "stream",
     "text": [
      "\n",
      "Anonymizing attribute: sex (plain_categorical)\n"
     ]
    },
    {
     "data": {
      "application/vnd.jupyter.widget-view+json": {
       "model_id": "58ffc71941a6422dafe53c6a936d3d72",
       "version_major": 2,
       "version_minor": 0
      },
      "text/plain": [
       "HBox(children=(HTML(value=''), FloatProgress(value=0.0, max=45222.0), HTML(value='')))"
      ]
     },
     "metadata": {},
     "output_type": "display_data"
    },
    {
     "name": "stdout",
     "output_type": "stream",
     "text": [
      "\n",
      "Anonymizing attribute: hours-per-week (numerical_discrete)\n"
     ]
    },
    {
     "data": {
      "application/vnd.jupyter.widget-view+json": {
       "model_id": "691b7a3c51c24e70980b5f0fd59001e5",
       "version_major": 2,
       "version_minor": 0
      },
      "text/plain": [
       "HBox(children=(HTML(value=''), FloatProgress(value=0.0, max=45222.0), HTML(value='')))"
      ]
     },
     "metadata": {},
     "output_type": "display_data"
    },
    {
     "name": "stdout",
     "output_type": "stream",
     "text": [
      "\n",
      "Anonymizing attribute: native-country (plain_categorical)\n"
     ]
    },
    {
     "data": {
      "application/vnd.jupyter.widget-view+json": {
       "model_id": "97e90b4440434486aa6c21672ecf6af2",
       "version_major": 2,
       "version_minor": 0
      },
      "text/plain": [
       "HBox(children=(HTML(value=''), FloatProgress(value=0.0, max=45222.0), HTML(value='')))"
      ]
     },
     "metadata": {},
     "output_type": "display_data"
    },
    {
     "name": "stdout",
     "output_type": "stream",
     "text": [
      "\n",
      "Anonymization runtime: 0:00:25\n",
      "Calculating information loss metrics\n",
      "Calculating fast record linkage (disclosure risk), window size = 452.22\n"
     ]
    },
    {
     "data": {
      "application/vnd.jupyter.widget-view+json": {
       "model_id": "76c9894653a742578e8353c9cda6dab7",
       "version_major": 2,
       "version_minor": 0
      },
      "text/plain": [
       "HBox(children=(HTML(value=''), FloatProgress(value=0.0, max=45222.0), HTML(value='')))"
      ]
     },
     "metadata": {},
     "output_type": "display_data"
    },
    {
     "name": "stdout",
     "output_type": "stream",
     "text": [
      "\n"
     ]
    }
   ],
   "source": [
    "data_frame = utils.read_dataframe_from_csv(path_csv)\n",
    "dataset = Dataset_DataFrame(data_frame, path_settings)\n",
    "il_dp_micro = []\n",
    "dr_dp_micro = []\n",
    "run_dp_micro = []\n",
    "epsilon = 1.0\n",
    "for k in k_list:\n",
    "    anonymization_scheme = Differential_privacy(dataset, k, epsilon)\n",
    "    algorithm = Microaggregation()\n",
    "    anonymization_scheme.calculate_anonymization(algorithm)\n",
    "    run_dp_micro.append(Anonymization_scheme.runtime)\n",
    "    il_dp_micro.append(anonymization_scheme.calculate_information_loss(dataset, anonymization_scheme.anonymized_dataset))\n",
    "    dr_dp_micro.append(anonymization_scheme.calculate_fast_record_linkage(dataset, anonymization_scheme.anonymized_dataset))"
   ]
  },
  {
   "cell_type": "markdown",
   "metadata": {},
   "source": [
    "### 6.6 Comparative of methods\n",
    "#### Information loss (SSE)"
   ]
  },
  {
   "cell_type": "code",
   "execution_count": 57,
   "metadata": {
    "scrolled": true
   },
   "outputs": [
    {
     "data": {
      "image/png": "[encoded data removed]",
      "text/plain": [
       "<Figure size 1440x432 with 1 Axes>"
      ]
     },
     "metadata": {},
     "output_type": "display_data"
    }
   ],
   "source": [
    "plt.figure(figsize=(20,6))\n",
    "k_str = [str(k) for k in k_list]\n",
    "l = [x.SSE for x in il_k_anom_micro]\n",
    "plt.plot(k_str, l, label='k-Anonymity Microaggregation')\n",
    "l = [x.SSE for x in il_k_anom_mdav]\n",
    "plt.plot(k_str, l, label='k-Anonymity MDAV')\n",
    "l = [x.SSE for x in il_t_clos]\n",
    "plt.plot(k_str, l, label='k-t-Closeness')\n",
    "l = [x.SSE for x in il_dp_micro]\n",
    "plt.plot(k_str, l, label='Differential privacy microaggregation')\n",
    "l = [x.SSE for x in il_dp_mdav]\n",
    "plt.plot(k_str, l, label='Differential privacy MDAV')\n",
    "plt.legend(loc='best', shadow=True, fontsize='12')\n",
    "plt.xlabel('k')\n",
    "plt.ylabel('SSE')\n",
    "plt.title('Information loss')\n",
    "plt.xticks(k_str)\n",
    "plt.show()"
   ]
  },
  {
   "cell_type": "markdown",
   "metadata": {},
   "source": [
    "### 6.7 Comparative of methods\n",
    "#### Disclosure risk (% matching in record linkage)"
   ]
  },
  {
   "cell_type": "code",
   "execution_count": 58,
   "metadata": {},
   "outputs": [
    {
     "data": {
      "image/png": "[encoded data removed]",
      "text/plain": [
       "<Figure size 1440x432 with 1 Axes>"
      ]
     },
     "metadata": {},
     "output_type": "display_data"
    }
   ],
   "source": [
    "plt.figure(figsize=(20,6))\n",
    "k_str = [str(k) for k in k_list]\n",
    "l = [x.percen for x in dr_k_anom_micro]\n",
    "plt.plot(k_str, l, label='k-Anonymity microaggregation')\n",
    "l = [x.percen for x in dr_k_anom_mdav]\n",
    "plt.plot(k_str, l, label='k-Anonymity MDAV')\n",
    "l = [x.percen for x in dr_t_clos]\n",
    "plt.plot(k_str, l, label='k-t-Closeness')\n",
    "l = [x.percen for x in dr_dp_micro]\n",
    "plt.plot(k_str, l, label='Differential privacy microaggregation')\n",
    "l = [x.percen for x in dr_dp_mdav]\n",
    "plt.plot(k_str, l, label='Differential privacy MDAV')\n",
    "plt.legend(loc='best', shadow=True, fontsize='12')\n",
    "plt.xlabel('k')\n",
    "plt.ylabel('% matching in record linkage')\n",
    "plt.title('Disclosure risk')\n",
    "plt.xticks(k_str)\n",
    "plt.show()"
   ]
  },
  {
   "cell_type": "markdown",
   "metadata": {},
   "source": [
    "### 6.8 Comparative of methods\n",
    "#### Runtime (seconds)"
   ]
  },
  {
   "cell_type": "code",
   "execution_count": 59,
   "metadata": {},
   "outputs": [
    {
     "data": {
      "image/png": "[encoded data removed]",
      "text/plain": [
       "<Figure size 1440x432 with 1 Axes>"
      ]
     },
     "metadata": {},
     "output_type": "display_data"
    }
   ],
   "source": [
    "plt.figure(figsize=(20,6))\n",
    "k_str = [str(k) for k in k_list]\n",
    "plt.plot(k_str, run_k_anom_micro, label='k-Anonymity microaggregation')\n",
    "plt.plot(k_str, run_k_anom_mdav, label='k-Anonymity MDAV')\n",
    "plt.plot(k_str, run_t_clos, label='k-t-Closeness')\n",
    "plt.plot(k_str, run_dp_micro, label='Differential privacy microaggregation')\n",
    "plt.plot(k_str, run_dp_mdav, label='Differential privacy MDAV')\n",
    "plt.legend(loc='best', shadow=True, fontsize='12')\n",
    "plt.xlabel('k')\n",
    "plt.ylabel('Seconds')\n",
    "plt.title('Runtime')\n",
    "plt.xticks(k_str)\n",
    "plt.show()"
   ]
  },
  {
   "cell_type": "markdown",
   "metadata": {},
   "source": [
    "========================================================================================================================\n",
    "## 7. Compatibility with Sequential Privacy Frames\n",
    "### Anonymization of the toy data set"
   ]
  },
  {
   "cell_type": "code",
   "execution_count": 1,
   "metadata": {},
   "outputs": [],
   "source": [
    "from anonymization.src.algorithms.anonymization_scheme import Anonymization_scheme\n",
    "from anonymization.src.algorithms.k_anonymity import K_anonymity\n",
    "from anonymization.src.algorithms.mdav import Mdav\n",
    "from anonymization.src.algorithms.microaggregation import Microaggregation\n",
    "from anonymization.src.utils import utils\n",
    "from PrivacyLibDevelop.sequentialprivacyframe import SequentialPrivacyFrame\n",
    "from anonymization.src.entities.dataset_SPF import Dataset_SPF\n",
    "from anonymization.src.utils import constants\n",
    "from anonymization.src.utils.sensitivity_type import Sensitivity_type\n",
    "from anonymization.src.attribute_types.attribute_type import Attribute_type"
   ]
  },
  {
   "cell_type": "markdown",
   "metadata": {},
   "source": [
    "#### Following, it is indicated the path to the csv file containing the data set and the path to the xml file describing the attributes in the data set. Inside the xml file, there is a detailed descritpion about how to fill this xml file in order to properly configure the different attribute types in the data set"
   ]
  },
  {
   "cell_type": "code",
   "execution_count": 2,
   "metadata": {},
   "outputs": [],
   "source": [
    "path_csv = \"./anonymization/input_datasets/ToyDataset.txt\"\n",
    "path_settings = \"./anonymization/input_datasets/metadata_ToyDataset.xml\""
   ]
  },
  {
   "cell_type": "markdown",
   "metadata": {},
   "source": [
    "#### 7.1 Sequential Privacy Frame data is created from the csv dataset"
   ]
  },
  {
   "cell_type": "code",
   "execution_count": 3,
   "metadata": {},
   "outputs": [],
   "source": [
    "spf = SequentialPrivacyFrame.from_file(path_csv, elements=[\"lat\",\"lng\"], sequence_id=\"seq\")"
   ]
  },
  {
   "cell_type": "code",
   "execution_count": 4,
   "metadata": {
    "scrolled": false
   },
   "outputs": [
    {
     "name": "stdout",
     "output_type": "stream",
     "text": [
      "Loading dataset\n",
      "Dataset loaded: spf\n",
      "Records loaded: 23\n",
      "Dataset: spf\n",
      "Dataset head:\n"
     ]
    },
    {
     "data": {
      "text/html": [
       "<div>\n",
       "<style scoped>\n",
       "    .dataframe tbody tr th:only-of-type {\n",
       "        vertical-align: middle;\n",
       "    }\n",
       "\n",
       "    .dataframe tbody tr th {\n",
       "        vertical-align: top;\n",
       "    }\n",
       "\n",
       "    .dataframe thead th {\n",
       "        text-align: right;\n",
       "    }\n",
       "</style>\n",
       "<table border=\"1\" class=\"dataframe\">\n",
       "  <thead>\n",
       "    <tr style=\"text-align: right;\">\n",
       "      <th></th>\n",
       "      <th>datetime</th>\n",
       "      <th>uid</th>\n",
       "      <th>sequence</th>\n",
       "      <th>elements</th>\n",
       "      <th>order</th>\n",
       "    </tr>\n",
       "  </thead>\n",
       "  <tbody>\n",
       "    <tr>\n",
       "      <th>1</th>\n",
       "      <td>2011-02-03 09:34:04</td>\n",
       "      <td>1</td>\n",
       "      <td>1</td>\n",
       "      <td>(43.544270000000004, 10.32615)</td>\n",
       "      <td>1</td>\n",
       "    </tr>\n",
       "    <tr>\n",
       "      <th>0</th>\n",
       "      <td>2011-02-03 08:34:04</td>\n",
       "      <td>1</td>\n",
       "      <td>1</td>\n",
       "      <td>(43.843013899999995, 10.507994)</td>\n",
       "      <td>2</td>\n",
       "    </tr>\n",
       "    <tr>\n",
       "      <th>2</th>\n",
       "      <td>2011-02-03 10:34:04</td>\n",
       "      <td>1</td>\n",
       "      <td>2</td>\n",
       "      <td>(43.708529999999996, 10.4036)</td>\n",
       "      <td>1</td>\n",
       "    </tr>\n",
       "    <tr>\n",
       "      <th>3</th>\n",
       "      <td>2011-02-04 10:34:04</td>\n",
       "      <td>1</td>\n",
       "      <td>2</td>\n",
       "      <td>(43.77925, 11.246260000000001)</td>\n",
       "      <td>2</td>\n",
       "    </tr>\n",
       "    <tr>\n",
       "      <th>4</th>\n",
       "      <td>2011-02-03 08:34:04</td>\n",
       "      <td>2</td>\n",
       "      <td>1</td>\n",
       "      <td>(43.843013899999995, 10.507994)</td>\n",
       "      <td>1</td>\n",
       "    </tr>\n",
       "  </tbody>\n",
       "</table>\n",
       "</div>"
      ],
      "text/plain": [
       "             datetime  uid  sequence                         elements  order\n",
       "1 2011-02-03 09:34:04    1         1   (43.544270000000004, 10.32615)      1\n",
       "0 2011-02-03 08:34:04    1         1  (43.843013899999995, 10.507994)      2\n",
       "2 2011-02-03 10:34:04    1         2    (43.708529999999996, 10.4036)      1\n",
       "3 2011-02-04 10:34:04    1         2   (43.77925, 11.246260000000001)      2\n",
       "4 2011-02-03 08:34:04    2         1  (43.843013899999995, 10.507994)      1"
      ]
     },
     "metadata": {},
     "output_type": "display_data"
    },
    {
     "name": "stdout",
     "output_type": "stream",
     "text": [
      "\n",
      "Dataset description:\n",
      "Data set: spf\n",
      "Records: 23\n",
      "Attributes:\n"
     ]
    },
    {
     "data": {
      "text/html": [
       "<div>\n",
       "<style scoped>\n",
       "    .dataframe tbody tr th:only-of-type {\n",
       "        vertical-align: middle;\n",
       "    }\n",
       "\n",
       "    .dataframe tbody tr th {\n",
       "        vertical-align: top;\n",
       "    }\n",
       "\n",
       "    .dataframe thead th {\n",
       "        text-align: right;\n",
       "    }\n",
       "</style>\n",
       "<table border=\"1\" class=\"dataframe\">\n",
       "  <thead>\n",
       "    <tr style=\"text-align: right;\">\n",
       "      <th></th>\n",
       "      <th>Name</th>\n",
       "      <th>Attribute_type</th>\n",
       "      <th>Sensitivity_type</th>\n",
       "    </tr>\n",
       "  </thead>\n",
       "  <tbody>\n",
       "    <tr>\n",
       "      <th>0</th>\n",
       "      <td>datetime</td>\n",
       "      <td>datetime</td>\n",
       "      <td>quasi_identifier</td>\n",
       "    </tr>\n",
       "    <tr>\n",
       "      <th>1</th>\n",
       "      <td>uid</td>\n",
       "      <td>numerical_discrete</td>\n",
       "      <td>identifier</td>\n",
       "    </tr>\n",
       "    <tr>\n",
       "      <th>2</th>\n",
       "      <td>sequence</td>\n",
       "      <td>numerical_discrete</td>\n",
       "      <td>identifier</td>\n",
       "    </tr>\n",
       "    <tr>\n",
       "      <th>3</th>\n",
       "      <td>elements</td>\n",
       "      <td>coordinate</td>\n",
       "      <td>quasi_identifier</td>\n",
       "    </tr>\n",
       "    <tr>\n",
       "      <th>4</th>\n",
       "      <td>order</td>\n",
       "      <td>numerical_discrete</td>\n",
       "      <td>identifier</td>\n",
       "    </tr>\n",
       "  </tbody>\n",
       "</table>\n",
       "</div>"
      ],
      "text/plain": [
       "       Name      Attribute_type  Sensitivity_type\n",
       "0  datetime            datetime  quasi_identifier\n",
       "1       uid  numerical_discrete        identifier\n",
       "2  sequence  numerical_discrete        identifier\n",
       "3  elements          coordinate  quasi_identifier\n",
       "4     order  numerical_discrete        identifier"
      ]
     },
     "metadata": {},
     "output_type": "display_data"
    },
    {
     "name": "stdout",
     "output_type": "stream",
     "text": [
      "\n"
     ]
    }
   ],
   "source": [
    "dataset = Dataset_SPF(spf, path_settings=path_settings)\n",
    "dataset.description()"
   ]
  },
  {
   "cell_type": "markdown",
   "metadata": {},
   "source": [
    "#### 7.2 The metadata describing the attributes in the data set have been automatically embedded into the dataframe \n",
    "The attribute Dataframe.attrs has persistence and it is a good way to embed metadata into the dataframe"
   ]
  },
  {
   "cell_type": "code",
   "execution_count": 5,
   "metadata": {},
   "outputs": [
    {
     "name": "stdout",
     "output_type": "stream",
     "text": [
      "{'datetime': {'sensitivity_type': 'quasi_identifier', 'attribute_type': ['datetime', 'anonymization.src.attribute_types.datetime', 'datetime', 'Datetime']}, 'uid': {'sensitivity_type': 'identifier', 'attribute_type': ['numerical_discrete', 'anonymization.src.attribute_types.numerical_discrete', 'numerical_discrete', 'Numerical_discrete']}, 'sequence': {'sensitivity_type': 'identifier', 'attribute_type': ['numerical_discrete', 'anonymization.src.attribute_types.numerical_discrete', 'numerical_discrete', 'Numerical_discrete']}, 'elements': {'sensitivity_type': 'quasi_identifier', 'attribute_type': ['coordinate', 'anonymization.src.attribute_types.coordinate', 'coordinate', 'Coordinate']}, 'order': {'sensitivity_type': 'identifier', 'attribute_type': ['numerical_discrete', 'anonymization.src.attribute_types.numerical_discrete', 'numerical_discrete', 'Numerical_discrete']}}\n"
     ]
    }
   ],
   "source": [
    "print(spf.attrs[\"attrs_settings\"])"
   ]
  },
  {
   "cell_type": "markdown",
   "metadata": {},
   "source": [
    "#### 7.3 The data set is anonymized, in this case, applying k_anonymity via MDAV with a privacy level of k=5"
   ]
  },
  {
   "cell_type": "code",
   "execution_count": 6,
   "metadata": {
    "scrolled": true
   },
   "outputs": [
    {
     "name": "stdout",
     "output_type": "stream",
     "text": [
      "Anonymizing k-Anonymity, k = 5 via MDAV\n"
     ]
    },
    {
     "data": {
      "application/vnd.jupyter.widget-view+json": {
       "model_id": "fdf1214a66bf4dbb8e046d709d946fd3",
       "version_major": 2,
       "version_minor": 0
      },
      "text/plain": [
       "HBox(children=(HTML(value=''), FloatProgress(value=0.0, max=23.0), HTML(value='')))"
      ]
     },
     "metadata": {},
     "output_type": "display_data"
    },
    {
     "name": "stdout",
     "output_type": "stream",
     "text": [
      "\n",
      "Anonymization runtime: 0:00:00\n"
     ]
    }
   ],
   "source": [
    "k = 5\n",
    "anonymization_scheme = K_anonymity(dataset, k)\n",
    "algorithm = Mdav()\n",
    "# algorithm = Microaggregation()\n",
    "anonymization_scheme.calculate_anonymization(algorithm)"
   ]
  },
  {
   "cell_type": "markdown",
   "metadata": {},
   "source": [
    "#### 7.4 Information loss and disclosure risk metrics are calculated by comparing original and anonymized data set  \n",
    "Information loss metrics calculated: Sum of Square Error (SSE) and, for each attribute, mean and variance\n",
    "\n",
    "Disclosure risk metric calculated: record linkage"
   ]
  },
  {
   "cell_type": "code",
   "execution_count": 7,
   "metadata": {
    "scrolled": false
   },
   "outputs": [
    {
     "name": "stdout",
     "output_type": "stream",
     "text": [
      "Calculating information loss metrics\n",
      "\n",
      "Information loss metrics:\n",
      "SSE: 0.396\n"
     ]
    },
    {
     "data": {
      "text/html": [
       "<div>\n",
       "<style scoped>\n",
       "    .dataframe tbody tr th:only-of-type {\n",
       "        vertical-align: middle;\n",
       "    }\n",
       "\n",
       "    .dataframe tbody tr th {\n",
       "        vertical-align: top;\n",
       "    }\n",
       "\n",
       "    .dataframe thead th {\n",
       "        text-align: right;\n",
       "    }\n",
       "</style>\n",
       "<table border=\"1\" class=\"dataframe\">\n",
       "  <thead>\n",
       "    <tr style=\"text-align: right;\">\n",
       "      <th></th>\n",
       "      <th>Name</th>\n",
       "      <th>Original mean</th>\n",
       "      <th>Anonymized mean</th>\n",
       "      <th>Original variance</th>\n",
       "      <th>Anonymized variance</th>\n",
       "    </tr>\n",
       "  </thead>\n",
       "  <tbody>\n",
       "    <tr>\n",
       "      <th>0</th>\n",
       "      <td>datetime</td>\n",
       "      <td>2011-02-04 05:28:50.956522</td>\n",
       "      <td>2011-02-04 05:28:50.956522</td>\n",
       "      <td>2.955909e+09</td>\n",
       "      <td>1.778197e+09</td>\n",
       "    </tr>\n",
       "    <tr>\n",
       "      <th>1</th>\n",
       "      <td>uid</td>\n",
       "      <td>3.65217</td>\n",
       "      <td>1</td>\n",
       "      <td>4.086957e+00</td>\n",
       "      <td>0.000000e+00</td>\n",
       "    </tr>\n",
       "    <tr>\n",
       "      <th>2</th>\n",
       "      <td>sequence</td>\n",
       "      <td>1.47826</td>\n",
       "      <td>1</td>\n",
       "      <td>8.260870e-01</td>\n",
       "      <td>0.000000e+00</td>\n",
       "    </tr>\n",
       "    <tr>\n",
       "      <th>3</th>\n",
       "      <td>elements</td>\n",
       "      <td>43.73497221956522:10.60626095652174</td>\n",
       "      <td>43.73497221956522:10.606260956521739</td>\n",
       "      <td>1.309318e-01</td>\n",
       "      <td>1.212078e-01</td>\n",
       "    </tr>\n",
       "    <tr>\n",
       "      <th>4</th>\n",
       "      <td>order</td>\n",
       "      <td>1.52174</td>\n",
       "      <td>1</td>\n",
       "      <td>6.521739e-01</td>\n",
       "      <td>0.000000e+00</td>\n",
       "    </tr>\n",
       "  </tbody>\n",
       "</table>\n",
       "</div>"
      ],
      "text/plain": [
       "       Name                        Original mean  \\\n",
       "0  datetime           2011-02-04 05:28:50.956522   \n",
       "1       uid                              3.65217   \n",
       "2  sequence                              1.47826   \n",
       "3  elements  43.73497221956522:10.60626095652174   \n",
       "4     order                              1.52174   \n",
       "\n",
       "                        Anonymized mean  Original variance  \\\n",
       "0            2011-02-04 05:28:50.956522       2.955909e+09   \n",
       "1                                     1       4.086957e+00   \n",
       "2                                     1       8.260870e-01   \n",
       "3  43.73497221956522:10.606260956521739       1.309318e-01   \n",
       "4                                     1       6.521739e-01   \n",
       "\n",
       "   Anonymized variance  \n",
       "0         1.778197e+09  \n",
       "1         0.000000e+00  \n",
       "2         0.000000e+00  \n",
       "3         1.212078e-01  \n",
       "4         0.000000e+00  "
      ]
     },
     "metadata": {},
     "output_type": "display_data"
    },
    {
     "name": "stdout",
     "output_type": "stream",
     "text": [
      "Calculating fast record linkage (disclosure risk), window size = 23\n"
     ]
    },
    {
     "data": {
      "application/vnd.jupyter.widget-view+json": {
       "model_id": "fa100ab34719417295691282ba647165",
       "version_major": 2,
       "version_minor": 0
      },
      "text/plain": [
       "HBox(children=(HTML(value=''), FloatProgress(value=0.0, max=23.0), HTML(value='')))"
      ]
     },
     "metadata": {},
     "output_type": "display_data"
    },
    {
     "name": "stdout",
     "output_type": "stream",
     "text": [
      "\n",
      "Disclosure risk: 3.000 (13.04%)\n"
     ]
    }
   ],
   "source": [
    "information_loss = Anonymization_scheme.calculate_information_loss(dataset, anonymization_scheme.anonymized_dataset)\n",
    "information_loss.description()\n",
    "disclosure_risk = Anonymization_scheme.calculate_fast_record_linkage(dataset, anonymization_scheme.anonymized_dataset)\n",
    "disclosure_risk.description()"
   ]
  },
  {
   "cell_type": "markdown",
   "metadata": {},
   "source": [
    "#### 7.5 The anonymized dataset can be reverted to sequential privacy frame format "
   ]
  },
  {
   "cell_type": "code",
   "execution_count": 8,
   "metadata": {},
   "outputs": [
    {
     "name": "stdout",
     "output_type": "stream",
     "text": [
      "<class 'anonymization.src.entities.dataset_SPF.Dataset_SPF'>\n"
     ]
    },
    {
     "data": {
      "text/html": [
       "<div>\n",
       "<style scoped>\n",
       "    .dataframe tbody tr th:only-of-type {\n",
       "        vertical-align: middle;\n",
       "    }\n",
       "\n",
       "    .dataframe tbody tr th {\n",
       "        vertical-align: top;\n",
       "    }\n",
       "\n",
       "    .dataframe thead th {\n",
       "        text-align: right;\n",
       "    }\n",
       "</style>\n",
       "<table border=\"1\" class=\"dataframe\">\n",
       "  <thead>\n",
       "    <tr style=\"text-align: right;\">\n",
       "      <th></th>\n",
       "      <th>datetime</th>\n",
       "      <th>uid</th>\n",
       "      <th>sequence</th>\n",
       "      <th>elements</th>\n",
       "      <th>order</th>\n",
       "    </tr>\n",
       "  </thead>\n",
       "  <tbody>\n",
       "    <tr>\n",
       "      <th>1</th>\n",
       "      <td>2011-02-03 09:34:04</td>\n",
       "      <td>1</td>\n",
       "      <td>1</td>\n",
       "      <td>(43.642826, 10.372620000000001)</td>\n",
       "      <td>1</td>\n",
       "    </tr>\n",
       "    <tr>\n",
       "      <th>0</th>\n",
       "      <td>2011-02-04 04:26:34</td>\n",
       "      <td>1</td>\n",
       "      <td>1</td>\n",
       "      <td>(43.697363968750004, 10.413704)</td>\n",
       "      <td>1</td>\n",
       "    </tr>\n",
       "    <tr>\n",
       "      <th>2</th>\n",
       "      <td>2011-02-03 09:34:04</td>\n",
       "      <td>1</td>\n",
       "      <td>1</td>\n",
       "      <td>(43.642826, 10.372620000000001)</td>\n",
       "      <td>1</td>\n",
       "    </tr>\n",
       "    <tr>\n",
       "      <th>3</th>\n",
       "      <td>2011-02-04 16:34:04</td>\n",
       "      <td>1</td>\n",
       "      <td>1</td>\n",
       "      <td>(43.77925, 11.246260000000001)</td>\n",
       "      <td>1</td>\n",
       "    </tr>\n",
       "    <tr>\n",
       "      <th>4</th>\n",
       "      <td>2011-02-04 04:26:34</td>\n",
       "      <td>1</td>\n",
       "      <td>1</td>\n",
       "      <td>(43.697363968750004, 10.413704)</td>\n",
       "      <td>1</td>\n",
       "    </tr>\n",
       "    <tr>\n",
       "      <th>5</th>\n",
       "      <td>2011-02-03 09:34:04</td>\n",
       "      <td>1</td>\n",
       "      <td>1</td>\n",
       "      <td>(43.642826, 10.372620000000001)</td>\n",
       "      <td>1</td>\n",
       "    </tr>\n",
       "    <tr>\n",
       "      <th>6</th>\n",
       "      <td>2011-02-04 15:58:04</td>\n",
       "      <td>1</td>\n",
       "      <td>1</td>\n",
       "      <td>(43.84301386, 10.507994)</td>\n",
       "      <td>1</td>\n",
       "    </tr>\n",
       "    <tr>\n",
       "      <th>7</th>\n",
       "      <td>2011-02-04 04:26:34</td>\n",
       "      <td>1</td>\n",
       "      <td>1</td>\n",
       "      <td>(43.697363968750004, 10.413704)</td>\n",
       "      <td>1</td>\n",
       "    </tr>\n",
       "    <tr>\n",
       "      <th>8</th>\n",
       "      <td>2011-02-03 09:34:04</td>\n",
       "      <td>1</td>\n",
       "      <td>1</td>\n",
       "      <td>(43.642826, 10.372620000000001)</td>\n",
       "      <td>1</td>\n",
       "    </tr>\n",
       "    <tr>\n",
       "      <th>9</th>\n",
       "      <td>2011-02-03 09:34:04</td>\n",
       "      <td>1</td>\n",
       "      <td>1</td>\n",
       "      <td>(43.642826, 10.372620000000001)</td>\n",
       "      <td>1</td>\n",
       "    </tr>\n",
       "    <tr>\n",
       "      <th>10</th>\n",
       "      <td>2011-02-04 15:58:04</td>\n",
       "      <td>1</td>\n",
       "      <td>1</td>\n",
       "      <td>(43.84301386, 10.507994)</td>\n",
       "      <td>1</td>\n",
       "    </tr>\n",
       "    <tr>\n",
       "      <th>11</th>\n",
       "      <td>2011-02-04 16:34:04</td>\n",
       "      <td>1</td>\n",
       "      <td>1</td>\n",
       "      <td>(43.77925, 11.246260000000001)</td>\n",
       "      <td>1</td>\n",
       "    </tr>\n",
       "    <tr>\n",
       "      <th>12</th>\n",
       "      <td>2011-02-04 04:26:34</td>\n",
       "      <td>1</td>\n",
       "      <td>1</td>\n",
       "      <td>(43.697363968750004, 10.413704)</td>\n",
       "      <td>1</td>\n",
       "    </tr>\n",
       "    <tr>\n",
       "      <th>13</th>\n",
       "      <td>2011-02-04 04:26:34</td>\n",
       "      <td>1</td>\n",
       "      <td>1</td>\n",
       "      <td>(43.697363968750004, 10.413704)</td>\n",
       "      <td>1</td>\n",
       "    </tr>\n",
       "    <tr>\n",
       "      <th>14</th>\n",
       "      <td>2011-02-04 16:34:04</td>\n",
       "      <td>1</td>\n",
       "      <td>1</td>\n",
       "      <td>(43.77925, 11.246260000000001)</td>\n",
       "      <td>1</td>\n",
       "    </tr>\n",
       "    <tr>\n",
       "      <th>15</th>\n",
       "      <td>2011-02-04 04:26:34</td>\n",
       "      <td>1</td>\n",
       "      <td>1</td>\n",
       "      <td>(43.697363968750004, 10.413704)</td>\n",
       "      <td>1</td>\n",
       "    </tr>\n",
       "    <tr>\n",
       "      <th>16</th>\n",
       "      <td>2011-02-04 16:34:04</td>\n",
       "      <td>1</td>\n",
       "      <td>1</td>\n",
       "      <td>(43.77925, 11.246260000000001)</td>\n",
       "      <td>1</td>\n",
       "    </tr>\n",
       "    <tr>\n",
       "      <th>17</th>\n",
       "      <td>2011-02-04 15:58:04</td>\n",
       "      <td>1</td>\n",
       "      <td>1</td>\n",
       "      <td>(43.84301386, 10.507994)</td>\n",
       "      <td>1</td>\n",
       "    </tr>\n",
       "    <tr>\n",
       "      <th>18</th>\n",
       "      <td>2011-02-04 04:26:34</td>\n",
       "      <td>1</td>\n",
       "      <td>1</td>\n",
       "      <td>(43.697363968750004, 10.413704)</td>\n",
       "      <td>1</td>\n",
       "    </tr>\n",
       "    <tr>\n",
       "      <th>19</th>\n",
       "      <td>2011-02-04 04:26:34</td>\n",
       "      <td>1</td>\n",
       "      <td>1</td>\n",
       "      <td>(43.697363968750004, 10.413704)</td>\n",
       "      <td>1</td>\n",
       "    </tr>\n",
       "    <tr>\n",
       "      <th>20</th>\n",
       "      <td>2011-02-04 15:58:04</td>\n",
       "      <td>1</td>\n",
       "      <td>1</td>\n",
       "      <td>(43.84301386, 10.507994)</td>\n",
       "      <td>1</td>\n",
       "    </tr>\n",
       "    <tr>\n",
       "      <th>21</th>\n",
       "      <td>2011-02-04 15:58:04</td>\n",
       "      <td>1</td>\n",
       "      <td>1</td>\n",
       "      <td>(43.84301386, 10.507994)</td>\n",
       "      <td>1</td>\n",
       "    </tr>\n",
       "    <tr>\n",
       "      <th>22</th>\n",
       "      <td>2011-02-04 16:34:04</td>\n",
       "      <td>1</td>\n",
       "      <td>1</td>\n",
       "      <td>(43.77925, 11.246260000000001)</td>\n",
       "      <td>1</td>\n",
       "    </tr>\n",
       "  </tbody>\n",
       "</table>\n",
       "</div>"
      ],
      "text/plain": [
       "              datetime  uid  sequence                         elements  order\n",
       "1  2011-02-03 09:34:04    1         1  (43.642826, 10.372620000000001)      1\n",
       "0  2011-02-04 04:26:34    1         1  (43.697363968750004, 10.413704)      1\n",
       "2  2011-02-03 09:34:04    1         1  (43.642826, 10.372620000000001)      1\n",
       "3  2011-02-04 16:34:04    1         1   (43.77925, 11.246260000000001)      1\n",
       "4  2011-02-04 04:26:34    1         1  (43.697363968750004, 10.413704)      1\n",
       "5  2011-02-03 09:34:04    1         1  (43.642826, 10.372620000000001)      1\n",
       "6  2011-02-04 15:58:04    1         1         (43.84301386, 10.507994)      1\n",
       "7  2011-02-04 04:26:34    1         1  (43.697363968750004, 10.413704)      1\n",
       "8  2011-02-03 09:34:04    1         1  (43.642826, 10.372620000000001)      1\n",
       "9  2011-02-03 09:34:04    1         1  (43.642826, 10.372620000000001)      1\n",
       "10 2011-02-04 15:58:04    1         1         (43.84301386, 10.507994)      1\n",
       "11 2011-02-04 16:34:04    1         1   (43.77925, 11.246260000000001)      1\n",
       "12 2011-02-04 04:26:34    1         1  (43.697363968750004, 10.413704)      1\n",
       "13 2011-02-04 04:26:34    1         1  (43.697363968750004, 10.413704)      1\n",
       "14 2011-02-04 16:34:04    1         1   (43.77925, 11.246260000000001)      1\n",
       "15 2011-02-04 04:26:34    1         1  (43.697363968750004, 10.413704)      1\n",
       "16 2011-02-04 16:34:04    1         1   (43.77925, 11.246260000000001)      1\n",
       "17 2011-02-04 15:58:04    1         1         (43.84301386, 10.507994)      1\n",
       "18 2011-02-04 04:26:34    1         1  (43.697363968750004, 10.413704)      1\n",
       "19 2011-02-04 04:26:34    1         1  (43.697363968750004, 10.413704)      1\n",
       "20 2011-02-04 15:58:04    1         1         (43.84301386, 10.507994)      1\n",
       "21 2011-02-04 15:58:04    1         1         (43.84301386, 10.507994)      1\n",
       "22 2011-02-04 16:34:04    1         1   (43.77925, 11.246260000000001)      1"
      ]
     },
     "execution_count": 8,
     "metadata": {},
     "output_type": "execute_result"
    }
   ],
   "source": [
    "spf_anom = anonymization_scheme.anonymized_dataset_to_SPF()\n",
    "spf_anom"
   ]
  },
  {
   "cell_type": "code",
   "execution_count": 9,
   "metadata": {},
   "outputs": [
    {
     "data": {
      "text/plain": [
       "PrivacyLibDevelop.sequentialprivacyframe.SequentialPrivacyFrame"
      ]
     },
     "execution_count": 9,
     "metadata": {},
     "output_type": "execute_result"
    }
   ],
   "source": [
    "type(spf_anom)"
   ]
  },
  {
   "cell_type": "markdown",
   "metadata": {},
   "source": [
    "#### 7.6 The metadata describing the attributes can be hardcoded (instead of read from xml)"
   ]
  },
  {
   "cell_type": "code",
   "execution_count": 10,
   "metadata": {},
   "outputs": [],
   "source": [
    "path_csv = \"./anonymization/input_datasets/ToyDataset.txt\"\n",
    "spf = SequentialPrivacyFrame.from_file(path_csv, elements=[\"lat\",\"lng\"], sequence_id=\"seq\")"
   ]
  },
  {
   "cell_type": "code",
   "execution_count": 11,
   "metadata": {},
   "outputs": [],
   "source": [
    "settings = {\"elements\": {constants.SENSITIVITY_TYPE: Sensitivity_type.QUASI_IDENTIFIER.value,\n",
    "                         constants.ATTRIBUTE_TYPE: Attribute_type.COORDINATE.value},\n",
    "            \"datetime\": {constants.SENSITIVITY_TYPE: Sensitivity_type.QUASI_IDENTIFIER.value,\n",
    "                         constants.ATTRIBUTE_TYPE: Attribute_type.DATETIME.value},\n",
    "            \"uid\":      {constants.SENSITIVITY_TYPE: Sensitivity_type.IDENTIFIER.value,\n",
    "                         constants.ATTRIBUTE_TYPE: Attribute_type.NUMERICAL_DISCRETE.value},\n",
    "            \"sequence\": {constants.SENSITIVITY_TYPE: Sensitivity_type.IDENTIFIER.value,\n",
    "                         constants.ATTRIBUTE_TYPE: Attribute_type.NUMERICAL_DISCRETE.value},\n",
    "            \"order\":    {constants.SENSITIVITY_TYPE: Sensitivity_type.IDENTIFIER.value,\n",
    "                         constants.ATTRIBUTE_TYPE: Attribute_type.NUMERICAL_DISCRETE.value}}"
   ]
  },
  {
   "cell_type": "code",
   "execution_count": 12,
   "metadata": {},
   "outputs": [
    {
     "name": "stdout",
     "output_type": "stream",
     "text": [
      "Loading dataset\n",
      "Dataset loaded: spf\n",
      "Records loaded: 23\n"
     ]
    }
   ],
   "source": [
    "dataset = Dataset_SPF(spf, attrs_settings=settings)"
   ]
  },
  {
   "cell_type": "markdown",
   "metadata": {},
   "source": [
    "#### 7.7 Also, the metadata describing the attributes in the data set have been automatically embedded into the dataframe"
   ]
  },
  {
   "cell_type": "code",
   "execution_count": 13,
   "metadata": {},
   "outputs": [
    {
     "name": "stdout",
     "output_type": "stream",
     "text": [
      "{'elements': {'sensitivity_type': 'quasi_identifier', 'attribute_type': ['coordinate', 'anonymization.src.attribute_types.coordinate', 'coordinate', 'Coordinate']}, 'datetime': {'sensitivity_type': 'quasi_identifier', 'attribute_type': ['datetime', 'anonymization.src.attribute_types.datetime', 'datetime', 'Datetime']}, 'uid': {'sensitivity_type': 'identifier', 'attribute_type': ['numerical_discrete', 'anonymization.src.attribute_types.numerical_discrete', 'numerical_discrete', 'Numerical_discrete']}, 'sequence': {'sensitivity_type': 'identifier', 'attribute_type': ['numerical_discrete', 'anonymization.src.attribute_types.numerical_discrete', 'numerical_discrete', 'Numerical_discrete']}, 'order': {'sensitivity_type': 'identifier', 'attribute_type': ['numerical_discrete', 'anonymization.src.attribute_types.numerical_discrete', 'numerical_discrete', 'Numerical_discrete']}}\n"
     ]
    }
   ],
   "source": [
    "print(spf.attrs[\"attrs_settings\"])"
   ]
  },
  {
   "cell_type": "markdown",
   "metadata": {},
   "source": [
    "#### 7.8 The metadata describing the attributes in the data set can be embedded manually"
   ]
  },
  {
   "cell_type": "code",
   "execution_count": 14,
   "metadata": {},
   "outputs": [],
   "source": [
    "path_csv = \"./anonymization/input_datasets/ToyDataset.txt\"\n",
    "spf = SequentialPrivacyFrame.from_file(path_csv, elements=[\"lat\",\"lng\"], sequence_id=\"seq\")"
   ]
  },
  {
   "cell_type": "code",
   "execution_count": 15,
   "metadata": {},
   "outputs": [],
   "source": [
    "settings = {\"elements\": {constants.SENSITIVITY_TYPE: Sensitivity_type.QUASI_IDENTIFIER.value,\n",
    "                         constants.ATTRIBUTE_TYPE: Attribute_type.COORDINATE.value},\n",
    "            \"datetime\": {constants.SENSITIVITY_TYPE: Sensitivity_type.QUASI_IDENTIFIER.value,\n",
    "                         constants.ATTRIBUTE_TYPE: Attribute_type.DATETIME.value},\n",
    "            \"uid\":      {constants.SENSITIVITY_TYPE: Sensitivity_type.IDENTIFIER.value,\n",
    "                         constants.ATTRIBUTE_TYPE: Attribute_type.NUMERICAL_DISCRETE.value},\n",
    "            \"sequence\": {constants.SENSITIVITY_TYPE: Sensitivity_type.IDENTIFIER.value,\n",
    "                         constants.ATTRIBUTE_TYPE: Attribute_type.NUMERICAL_DISCRETE.value},\n",
    "            \"order\":    {constants.SENSITIVITY_TYPE: Sensitivity_type.IDENTIFIER.value,\n",
    "                         constants.ATTRIBUTE_TYPE: Attribute_type.NUMERICAL_DISCRETE.value}}"
   ]
  },
  {
   "cell_type": "markdown",
   "metadata": {},
   "source": [
    "It should be useful to add a method in the SequentialPrivacyFrame class to do this  "
   ]
  },
  {
   "cell_type": "code",
   "execution_count": 16,
   "metadata": {},
   "outputs": [],
   "source": [
    "spf.attrs[\"attrs_settings\"] = settings"
   ]
  },
  {
   "cell_type": "code",
   "execution_count": 17,
   "metadata": {},
   "outputs": [
    {
     "name": "stdout",
     "output_type": "stream",
     "text": [
      "{'elements': {'sensitivity_type': 'quasi_identifier', 'attribute_type': ['coordinate', 'anonymization.src.attribute_types.coordinate', 'coordinate', 'Coordinate']}, 'datetime': {'sensitivity_type': 'quasi_identifier', 'attribute_type': ['datetime', 'anonymization.src.attribute_types.datetime', 'datetime', 'Datetime']}, 'uid': {'sensitivity_type': 'identifier', 'attribute_type': ['numerical_discrete', 'anonymization.src.attribute_types.numerical_discrete', 'numerical_discrete', 'Numerical_discrete']}, 'sequence': {'sensitivity_type': 'identifier', 'attribute_type': ['numerical_discrete', 'anonymization.src.attribute_types.numerical_discrete', 'numerical_discrete', 'Numerical_discrete']}, 'order': {'sensitivity_type': 'identifier', 'attribute_type': ['numerical_discrete', 'anonymization.src.attribute_types.numerical_discrete', 'numerical_discrete', 'Numerical_discrete']}}\n"
     ]
    }
   ],
   "source": [
    "print(spf.attrs[\"attrs_settings\"])"
   ]
  },
  {
   "cell_type": "code",
   "execution_count": null,
   "metadata": {},
   "outputs": [],
   "source": []
  }
 ],
 "metadata": {
  "kernelspec": {
   "display_name": "Python 3",
   "language": "python",
   "name": "python3"
  },
  "language_info": {
   "codemirror_mode": {
    "name": "ipython",
    "version": 3
   },
   "file_extension": ".py",
   "mimetype": "text/x-python",
   "name": "python",
   "nbconvert_exporter": "python",
   "pygments_lexer": "ipython3",
   "version": "3.7.3"
  }
 },
 "nbformat": 4,
 "nbformat_minor": 4
}
